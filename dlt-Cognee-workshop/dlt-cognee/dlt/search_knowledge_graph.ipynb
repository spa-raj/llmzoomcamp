{
 "cells": [
  {
   "cell_type": "code",
   "id": "001c8c66-beab-4ce4-bdcb-0daf80d617a0",
   "metadata": {
    "ExecuteTime": {
     "end_time": "2025-07-10T08:35:37.763123Z",
     "start_time": "2025-07-10T08:35:34.369470Z"
    }
   },
   "source": [
    "%%capture\n",
    "!pip install cognee\n",
    "!pip install kuzu"
   ],
   "outputs": [],
   "execution_count": 6
  },
  {
   "cell_type": "code",
   "id": "initial_id",
   "metadata": {
    "ExecuteTime": {
     "end_time": "2025-07-10T08:35:37.878324Z",
     "start_time": "2025-07-10T08:35:37.836897Z"
    }
   },
   "source": [
    "import cognee\n",
    "from cognee.api.v1.search import SearchType\n",
    "from cognee.modules.engine.models import NodeSet"
   ],
   "outputs": [],
   "execution_count": 7
  },
  {
   "cell_type": "code",
   "id": "7c411d23c4d25853",
   "metadata": {
    "collapsed": false,
    "jupyter": {
     "outputs_hidden": false
    },
    "ExecuteTime": {
     "end_time": "2025-07-10T08:35:39.724498Z",
     "start_time": "2025-07-10T08:35:39.718985Z"
    }
   },
   "source": [
    "async def search_cognee(query, node_set, query_type=SearchType.GRAPH_COMPLETION):\n",
    "    answer = await cognee.search(\n",
    "        query_text=query,\n",
    "        query_type=query_type,\n",
    "        node_type=NodeSet,\n",
    "        node_name=node_set\n",
    "    )\n",
    "    return answer"
   ],
   "outputs": [],
   "execution_count": 8
  },
  {
   "cell_type": "code",
   "id": "5ed879e375ccfb68",
   "metadata": {
    "collapsed": false,
    "jupyter": {
     "outputs_hidden": false
    },
    "ExecuteTime": {
     "end_time": "2025-07-10T08:35:42.823427Z",
     "start_time": "2025-07-10T08:35:41.424446Z"
    }
   },
   "source": [
    "results = await search_cognee(\n",
    "    query=\"What API endpoints are in the Ticketmaster api? Give me specific endpoint urls.\",\n",
    "    node_set=['developer.ticketmaster.com']\n",
    ")"
   ],
   "outputs": [
    {
     "ename": "ConfigurationError",
     "evalue": "URI scheme '' is not supported. Supported URI schemes are ['bolt', 'bolt+ssc', 'bolt+s', 'neo4j', 'neo4j+ssc', 'neo4j+s']. Examples: bolt://host[:port] or neo4j://host[:port][?routing_context]",
     "output_type": "error",
     "traceback": [
      "\u001B[0;31m---------------------------------------------------------------------------\u001B[0m",
      "\u001B[0;31mConfigurationError\u001B[0m                        Traceback (most recent call last)",
      "Cell \u001B[0;32mIn[9], line 1\u001B[0m\n\u001B[0;32m----> 1\u001B[0m results \u001B[38;5;241m=\u001B[39m \u001B[38;5;28;01mawait\u001B[39;00m search_cognee(\n\u001B[1;32m      2\u001B[0m     query\u001B[38;5;241m=\u001B[39m\u001B[38;5;124m\"\u001B[39m\u001B[38;5;124mWhat API endpoints are in the Ticketmaster api? Give me specific endpoint urls.\u001B[39m\u001B[38;5;124m\"\u001B[39m,\n\u001B[1;32m      3\u001B[0m     node_set\u001B[38;5;241m=\u001B[39m[\u001B[38;5;124m'\u001B[39m\u001B[38;5;124mdeveloper.ticketmaster.com\u001B[39m\u001B[38;5;124m'\u001B[39m]\n\u001B[1;32m      4\u001B[0m )\n",
      "Cell \u001B[0;32mIn[8], line 2\u001B[0m, in \u001B[0;36msearch_cognee\u001B[0;34m(query, node_set, query_type)\u001B[0m\n\u001B[1;32m      1\u001B[0m \u001B[38;5;28;01masync\u001B[39;00m \u001B[38;5;28;01mdef\u001B[39;00m \u001B[38;5;21msearch_cognee\u001B[39m(query, node_set, query_type\u001B[38;5;241m=\u001B[39mSearchType\u001B[38;5;241m.\u001B[39mGRAPH_COMPLETION):\n\u001B[0;32m----> 2\u001B[0m     answer \u001B[38;5;241m=\u001B[39m \u001B[38;5;28;01mawait\u001B[39;00m cognee\u001B[38;5;241m.\u001B[39msearch(\n\u001B[1;32m      3\u001B[0m         query_text\u001B[38;5;241m=\u001B[39mquery,\n\u001B[1;32m      4\u001B[0m         query_type\u001B[38;5;241m=\u001B[39mquery_type,\n\u001B[1;32m      5\u001B[0m         node_type\u001B[38;5;241m=\u001B[39mNodeSet,\n\u001B[1;32m      6\u001B[0m         node_name\u001B[38;5;241m=\u001B[39mnode_set\n\u001B[1;32m      7\u001B[0m     )\n\u001B[1;32m      8\u001B[0m     \u001B[38;5;28;01mreturn\u001B[39;00m answer\n",
      "File \u001B[0;32m~/anaconda3/lib/python3.12/site-packages/cognee/api/v1/search/search.py:37\u001B[0m, in \u001B[0;36msearch\u001B[0;34m(query_text, query_type, user, datasets, dataset_ids, system_prompt_path, top_k, node_type, node_name)\u001B[0m\n\u001B[1;32m     34\u001B[0m     \u001B[38;5;28;01mif\u001B[39;00m \u001B[38;5;129;01mnot\u001B[39;00m datasets:\n\u001B[1;32m     35\u001B[0m         \u001B[38;5;28;01mraise\u001B[39;00m DatasetNotFoundError(message\u001B[38;5;241m=\u001B[39m\u001B[38;5;124m\"\u001B[39m\u001B[38;5;124mNo datasets found.\u001B[39m\u001B[38;5;124m\"\u001B[39m)\n\u001B[0;32m---> 37\u001B[0m filtered_search_results \u001B[38;5;241m=\u001B[39m \u001B[38;5;28;01mawait\u001B[39;00m search_function(\n\u001B[1;32m     38\u001B[0m     query_text\u001B[38;5;241m=\u001B[39mquery_text,\n\u001B[1;32m     39\u001B[0m     query_type\u001B[38;5;241m=\u001B[39mquery_type,\n\u001B[1;32m     40\u001B[0m     dataset_ids\u001B[38;5;241m=\u001B[39mdataset_ids \u001B[38;5;28;01mif\u001B[39;00m dataset_ids \u001B[38;5;28;01melse\u001B[39;00m datasets,\n\u001B[1;32m     41\u001B[0m     user\u001B[38;5;241m=\u001B[39muser,\n\u001B[1;32m     42\u001B[0m     system_prompt_path\u001B[38;5;241m=\u001B[39msystem_prompt_path,\n\u001B[1;32m     43\u001B[0m     top_k\u001B[38;5;241m=\u001B[39mtop_k,\n\u001B[1;32m     44\u001B[0m     node_type\u001B[38;5;241m=\u001B[39mnode_type,\n\u001B[1;32m     45\u001B[0m     node_name\u001B[38;5;241m=\u001B[39mnode_name,\n\u001B[1;32m     46\u001B[0m )\n\u001B[1;32m     48\u001B[0m \u001B[38;5;28;01mreturn\u001B[39;00m filtered_search_results\n",
      "File \u001B[0;32m~/anaconda3/lib/python3.12/site-packages/cognee/modules/search/methods/search.py:66\u001B[0m, in \u001B[0;36msearch\u001B[0;34m(query_text, query_type, dataset_ids, user, system_prompt_path, top_k, node_type, node_name)\u001B[0m\n\u001B[1;32m     60\u001B[0m     \u001B[38;5;28;01mreturn\u001B[39;00m \u001B[38;5;28;01mawait\u001B[39;00m permissions_search(\n\u001B[1;32m     61\u001B[0m         query_text, query_type, user, dataset_ids, system_prompt_path, top_k\n\u001B[1;32m     62\u001B[0m     )\n\u001B[1;32m     64\u001B[0m query \u001B[38;5;241m=\u001B[39m \u001B[38;5;28;01mawait\u001B[39;00m log_query(query_text, query_type\u001B[38;5;241m.\u001B[39mvalue, user\u001B[38;5;241m.\u001B[39mid)\n\u001B[0;32m---> 66\u001B[0m search_results \u001B[38;5;241m=\u001B[39m \u001B[38;5;28;01mawait\u001B[39;00m specific_search(\n\u001B[1;32m     67\u001B[0m     query_type,\n\u001B[1;32m     68\u001B[0m     query_text,\n\u001B[1;32m     69\u001B[0m     user,\n\u001B[1;32m     70\u001B[0m     system_prompt_path\u001B[38;5;241m=\u001B[39msystem_prompt_path,\n\u001B[1;32m     71\u001B[0m     top_k\u001B[38;5;241m=\u001B[39mtop_k,\n\u001B[1;32m     72\u001B[0m     node_type\u001B[38;5;241m=\u001B[39mnode_type,\n\u001B[1;32m     73\u001B[0m     node_name\u001B[38;5;241m=\u001B[39mnode_name,\n\u001B[1;32m     74\u001B[0m )\n\u001B[1;32m     76\u001B[0m \u001B[38;5;28;01mawait\u001B[39;00m log_result(\n\u001B[1;32m     77\u001B[0m     query\u001B[38;5;241m.\u001B[39mid,\n\u001B[1;32m     78\u001B[0m     json\u001B[38;5;241m.\u001B[39mdumps(\n\u001B[0;32m   (...)\u001B[0m\n\u001B[1;32m     81\u001B[0m     user\u001B[38;5;241m.\u001B[39mid,\n\u001B[1;32m     82\u001B[0m )\n\u001B[1;32m     84\u001B[0m \u001B[38;5;28;01mreturn\u001B[39;00m search_results\n",
      "File \u001B[0;32m~/anaconda3/lib/python3.12/site-packages/cognee/modules/search/methods/search.py:139\u001B[0m, in \u001B[0;36mspecific_search\u001B[0;34m(query_type, query, user, system_prompt_path, top_k, node_type, node_name)\u001B[0m\n\u001B[1;32m    135\u001B[0m     \u001B[38;5;28;01mraise\u001B[39;00m InvalidValueError(message\u001B[38;5;241m=\u001B[39m\u001B[38;5;124mf\u001B[39m\u001B[38;5;124m\"\u001B[39m\u001B[38;5;124mUnsupported search type: \u001B[39m\u001B[38;5;132;01m{\u001B[39;00mquery_type\u001B[38;5;132;01m}\u001B[39;00m\u001B[38;5;124m\"\u001B[39m)\n\u001B[1;32m    137\u001B[0m send_telemetry(\u001B[38;5;124m\"\u001B[39m\u001B[38;5;124mcognee.search EXECUTION STARTED\u001B[39m\u001B[38;5;124m\"\u001B[39m, user\u001B[38;5;241m.\u001B[39mid)\n\u001B[0;32m--> 139\u001B[0m results \u001B[38;5;241m=\u001B[39m \u001B[38;5;28;01mawait\u001B[39;00m search_task(query)\n\u001B[1;32m    141\u001B[0m send_telemetry(\u001B[38;5;124m\"\u001B[39m\u001B[38;5;124mcognee.search EXECUTION COMPLETED\u001B[39m\u001B[38;5;124m\"\u001B[39m, user\u001B[38;5;241m.\u001B[39mid)\n\u001B[1;32m    143\u001B[0m \u001B[38;5;28;01mreturn\u001B[39;00m results\n",
      "File \u001B[0;32m~/anaconda3/lib/python3.12/site-packages/cognee/modules/retrieval/graph_completion_retriever.py:161\u001B[0m, in \u001B[0;36mGraphCompletionRetriever.get_completion\u001B[0;34m(self, query, context)\u001B[0m\n\u001B[1;32m    145\u001B[0m \u001B[38;5;250m\u001B[39m\u001B[38;5;124;03m\"\"\"\u001B[39;00m\n\u001B[1;32m    146\u001B[0m \u001B[38;5;124;03mGenerates a completion using graph connections context based on a query.\u001B[39;00m\n\u001B[1;32m    147\u001B[0m \n\u001B[0;32m   (...)\u001B[0m\n\u001B[1;32m    158\u001B[0m \u001B[38;5;124;03m    - Any: A generated completion based on the query and context provided.\u001B[39;00m\n\u001B[1;32m    159\u001B[0m \u001B[38;5;124;03m\"\"\"\u001B[39;00m\n\u001B[1;32m    160\u001B[0m \u001B[38;5;28;01mif\u001B[39;00m context \u001B[38;5;129;01mis\u001B[39;00m \u001B[38;5;28;01mNone\u001B[39;00m:\n\u001B[0;32m--> 161\u001B[0m     context \u001B[38;5;241m=\u001B[39m \u001B[38;5;28;01mawait\u001B[39;00m \u001B[38;5;28mself\u001B[39m\u001B[38;5;241m.\u001B[39mget_context(query)\n\u001B[1;32m    163\u001B[0m completion \u001B[38;5;241m=\u001B[39m \u001B[38;5;28;01mawait\u001B[39;00m generate_completion(\n\u001B[1;32m    164\u001B[0m     query\u001B[38;5;241m=\u001B[39mquery,\n\u001B[1;32m    165\u001B[0m     context\u001B[38;5;241m=\u001B[39mcontext,\n\u001B[1;32m    166\u001B[0m     user_prompt_path\u001B[38;5;241m=\u001B[39m\u001B[38;5;28mself\u001B[39m\u001B[38;5;241m.\u001B[39muser_prompt_path,\n\u001B[1;32m    167\u001B[0m     system_prompt_path\u001B[38;5;241m=\u001B[39m\u001B[38;5;28mself\u001B[39m\u001B[38;5;241m.\u001B[39msystem_prompt_path,\n\u001B[1;32m    168\u001B[0m )\n\u001B[1;32m    169\u001B[0m \u001B[38;5;28;01mreturn\u001B[39;00m [completion]\n",
      "File \u001B[0;32m~/anaconda3/lib/python3.12/site-packages/cognee/modules/retrieval/graph_completion_retriever.py:136\u001B[0m, in \u001B[0;36mGraphCompletionRetriever.get_context\u001B[0;34m(self, query)\u001B[0m\n\u001B[1;32m    121\u001B[0m \u001B[38;5;28;01masync\u001B[39;00m \u001B[38;5;28;01mdef\u001B[39;00m \u001B[38;5;21mget_context\u001B[39m(\u001B[38;5;28mself\u001B[39m, query: \u001B[38;5;28mstr\u001B[39m) \u001B[38;5;241m-\u001B[39m\u001B[38;5;241m>\u001B[39m \u001B[38;5;28mstr\u001B[39m:\n\u001B[1;32m    122\u001B[0m \u001B[38;5;250m    \u001B[39m\u001B[38;5;124;03m\"\"\"\u001B[39;00m\n\u001B[1;32m    123\u001B[0m \u001B[38;5;124;03m    Retrieves and resolves graph triplets into context based on a query.\u001B[39;00m\n\u001B[1;32m    124\u001B[0m \n\u001B[0;32m   (...)\u001B[0m\n\u001B[1;32m    134\u001B[0m \u001B[38;5;124;03m          empty string if no triplets are found.\u001B[39;00m\n\u001B[1;32m    135\u001B[0m \u001B[38;5;124;03m    \"\"\"\u001B[39;00m\n\u001B[0;32m--> 136\u001B[0m     triplets \u001B[38;5;241m=\u001B[39m \u001B[38;5;28;01mawait\u001B[39;00m \u001B[38;5;28mself\u001B[39m\u001B[38;5;241m.\u001B[39mget_triplets(query)\n\u001B[1;32m    138\u001B[0m     \u001B[38;5;28;01mif\u001B[39;00m \u001B[38;5;28mlen\u001B[39m(triplets) \u001B[38;5;241m==\u001B[39m \u001B[38;5;241m0\u001B[39m:\n\u001B[1;32m    139\u001B[0m         logger\u001B[38;5;241m.\u001B[39mwarning(\u001B[38;5;124m\"\u001B[39m\u001B[38;5;124mEmpty context was provided to the completion\u001B[39m\u001B[38;5;124m\"\u001B[39m)\n",
      "File \u001B[0;32m~/anaconda3/lib/python3.12/site-packages/cognee/modules/retrieval/graph_completion_retriever.py:111\u001B[0m, in \u001B[0;36mGraphCompletionRetriever.get_triplets\u001B[0;34m(self, query)\u001B[0m\n\u001B[1;32m    108\u001B[0m                 \u001B[38;5;28;01mfor\u001B[39;00m field_name \u001B[38;5;129;01min\u001B[39;00m index_fields:\n\u001B[1;32m    109\u001B[0m                     vector_index_collections\u001B[38;5;241m.\u001B[39mappend(\u001B[38;5;124mf\u001B[39m\u001B[38;5;124m\"\u001B[39m\u001B[38;5;132;01m{\u001B[39;00msubclass\u001B[38;5;241m.\u001B[39m\u001B[38;5;18m__name__\u001B[39m\u001B[38;5;132;01m}\u001B[39;00m\u001B[38;5;124m_\u001B[39m\u001B[38;5;132;01m{\u001B[39;00mfield_name\u001B[38;5;132;01m}\u001B[39;00m\u001B[38;5;124m\"\u001B[39m)\n\u001B[0;32m--> 111\u001B[0m found_triplets \u001B[38;5;241m=\u001B[39m \u001B[38;5;28;01mawait\u001B[39;00m brute_force_triplet_search(\n\u001B[1;32m    112\u001B[0m     query,\n\u001B[1;32m    113\u001B[0m     top_k\u001B[38;5;241m=\u001B[39m\u001B[38;5;28mself\u001B[39m\u001B[38;5;241m.\u001B[39mtop_k,\n\u001B[1;32m    114\u001B[0m     collections\u001B[38;5;241m=\u001B[39mvector_index_collections \u001B[38;5;129;01mor\u001B[39;00m \u001B[38;5;28;01mNone\u001B[39;00m,\n\u001B[1;32m    115\u001B[0m     node_type\u001B[38;5;241m=\u001B[39m\u001B[38;5;28mself\u001B[39m\u001B[38;5;241m.\u001B[39mnode_type,\n\u001B[1;32m    116\u001B[0m     node_name\u001B[38;5;241m=\u001B[39m\u001B[38;5;28mself\u001B[39m\u001B[38;5;241m.\u001B[39mnode_name,\n\u001B[1;32m    117\u001B[0m )\n\u001B[1;32m    119\u001B[0m \u001B[38;5;28;01mreturn\u001B[39;00m found_triplets\n",
      "File \u001B[0;32m~/anaconda3/lib/python3.12/site-packages/cognee/modules/retrieval/utils/brute_force_triplet_search.py:95\u001B[0m, in \u001B[0;36mbrute_force_triplet_search\u001B[0;34m(query, user, top_k, collections, properties_to_project, memory_fragment, node_type, node_name)\u001B[0m\n\u001B[1;32m     92\u001B[0m \u001B[38;5;28;01mif\u001B[39;00m user \u001B[38;5;129;01mis\u001B[39;00m \u001B[38;5;28;01mNone\u001B[39;00m:\n\u001B[1;32m     93\u001B[0m     user \u001B[38;5;241m=\u001B[39m \u001B[38;5;28;01mawait\u001B[39;00m get_default_user()\n\u001B[0;32m---> 95\u001B[0m retrieved_results \u001B[38;5;241m=\u001B[39m \u001B[38;5;28;01mawait\u001B[39;00m brute_force_search(\n\u001B[1;32m     96\u001B[0m     query,\n\u001B[1;32m     97\u001B[0m     user,\n\u001B[1;32m     98\u001B[0m     top_k,\n\u001B[1;32m     99\u001B[0m     collections\u001B[38;5;241m=\u001B[39mcollections,\n\u001B[1;32m    100\u001B[0m     properties_to_project\u001B[38;5;241m=\u001B[39mproperties_to_project,\n\u001B[1;32m    101\u001B[0m     memory_fragment\u001B[38;5;241m=\u001B[39mmemory_fragment,\n\u001B[1;32m    102\u001B[0m     node_type\u001B[38;5;241m=\u001B[39mnode_type,\n\u001B[1;32m    103\u001B[0m     node_name\u001B[38;5;241m=\u001B[39mnode_name,\n\u001B[1;32m    104\u001B[0m )\n\u001B[1;32m    105\u001B[0m \u001B[38;5;28;01mreturn\u001B[39;00m retrieved_results\n",
      "File \u001B[0;32m~/anaconda3/lib/python3.12/site-packages/cognee/modules/retrieval/utils/brute_force_triplet_search.py:140\u001B[0m, in \u001B[0;36mbrute_force_search\u001B[0;34m(query, user, top_k, collections, properties_to_project, memory_fragment, node_type, node_name)\u001B[0m\n\u001B[1;32m    137\u001B[0m     \u001B[38;5;28;01mraise\u001B[39;00m \u001B[38;5;167;01mValueError\u001B[39;00m(\u001B[38;5;124m\"\u001B[39m\u001B[38;5;124mtop_k must be a positive integer.\u001B[39m\u001B[38;5;124m\"\u001B[39m)\n\u001B[1;32m    139\u001B[0m \u001B[38;5;28;01mif\u001B[39;00m memory_fragment \u001B[38;5;129;01mis\u001B[39;00m \u001B[38;5;28;01mNone\u001B[39;00m:\n\u001B[0;32m--> 140\u001B[0m     memory_fragment \u001B[38;5;241m=\u001B[39m \u001B[38;5;28;01mawait\u001B[39;00m get_memory_fragment(\n\u001B[1;32m    141\u001B[0m         properties_to_project, node_type\u001B[38;5;241m=\u001B[39mnode_type, node_name\u001B[38;5;241m=\u001B[39mnode_name\n\u001B[1;32m    142\u001B[0m     )\n\u001B[1;32m    144\u001B[0m \u001B[38;5;28;01mif\u001B[39;00m collections \u001B[38;5;129;01mis\u001B[39;00m \u001B[38;5;28;01mNone\u001B[39;00m:\n\u001B[1;32m    145\u001B[0m     collections \u001B[38;5;241m=\u001B[39m [\n\u001B[1;32m    146\u001B[0m         \u001B[38;5;124m\"\u001B[39m\u001B[38;5;124mEntity_name\u001B[39m\u001B[38;5;124m\"\u001B[39m,\n\u001B[1;32m    147\u001B[0m         \u001B[38;5;124m\"\u001B[39m\u001B[38;5;124mTextSummary_text\u001B[39m\u001B[38;5;124m\"\u001B[39m,\n\u001B[1;32m    148\u001B[0m         \u001B[38;5;124m\"\u001B[39m\u001B[38;5;124mEntityType_name\u001B[39m\u001B[38;5;124m\"\u001B[39m,\n\u001B[1;32m    149\u001B[0m         \u001B[38;5;124m\"\u001B[39m\u001B[38;5;124mDocumentChunk_text\u001B[39m\u001B[38;5;124m\"\u001B[39m,\n\u001B[1;32m    150\u001B[0m     ]\n",
      "File \u001B[0;32m~/anaconda3/lib/python3.12/site-packages/cognee/modules/retrieval/utils/brute_force_triplet_search.py:62\u001B[0m, in \u001B[0;36mget_memory_fragment\u001B[0;34m(properties_to_project, node_type, node_name)\u001B[0m\n\u001B[1;32m     56\u001B[0m \u001B[38;5;28;01masync\u001B[39;00m \u001B[38;5;28;01mdef\u001B[39;00m \u001B[38;5;21mget_memory_fragment\u001B[39m(\n\u001B[1;32m     57\u001B[0m     properties_to_project: Optional[List[\u001B[38;5;28mstr\u001B[39m]] \u001B[38;5;241m=\u001B[39m \u001B[38;5;28;01mNone\u001B[39;00m,\n\u001B[1;32m     58\u001B[0m     node_type: Optional[Type] \u001B[38;5;241m=\u001B[39m \u001B[38;5;28;01mNone\u001B[39;00m,\n\u001B[1;32m     59\u001B[0m     node_name: Optional[List[\u001B[38;5;28mstr\u001B[39m]] \u001B[38;5;241m=\u001B[39m \u001B[38;5;28;01mNone\u001B[39;00m,\n\u001B[1;32m     60\u001B[0m ) \u001B[38;5;241m-\u001B[39m\u001B[38;5;241m>\u001B[39m CogneeGraph:\n\u001B[1;32m     61\u001B[0m \u001B[38;5;250m    \u001B[39m\u001B[38;5;124;03m\"\"\"Creates and initializes a CogneeGraph memory fragment with optional property projections.\"\"\"\u001B[39;00m\n\u001B[0;32m---> 62\u001B[0m     graph_engine \u001B[38;5;241m=\u001B[39m \u001B[38;5;28;01mawait\u001B[39;00m get_graph_engine()\n\u001B[1;32m     63\u001B[0m     memory_fragment \u001B[38;5;241m=\u001B[39m CogneeGraph()\n\u001B[1;32m     65\u001B[0m     \u001B[38;5;28;01mif\u001B[39;00m properties_to_project \u001B[38;5;129;01mis\u001B[39;00m \u001B[38;5;28;01mNone\u001B[39;00m:\n",
      "File \u001B[0;32m~/anaconda3/lib/python3.12/site-packages/cognee/infrastructure/databases/graph/get_graph_engine.py:15\u001B[0m, in \u001B[0;36mget_graph_engine\u001B[0;34m()\u001B[0m\n\u001B[1;32m     12\u001B[0m \u001B[38;5;66;03m# Get appropriate graph configuration based on current async context\u001B[39;00m\n\u001B[1;32m     13\u001B[0m config \u001B[38;5;241m=\u001B[39m get_graph_context_config()\n\u001B[0;32m---> 15\u001B[0m graph_client \u001B[38;5;241m=\u001B[39m create_graph_engine(\u001B[38;5;241m*\u001B[39m\u001B[38;5;241m*\u001B[39mconfig)\n\u001B[1;32m     17\u001B[0m \u001B[38;5;66;03m# Async functions can't be cached. After creating and caching the graph engine\u001B[39;00m\n\u001B[1;32m     18\u001B[0m \u001B[38;5;66;03m# handle all necessary async operations for different graph types bellow.\u001B[39;00m\n\u001B[1;32m     19\u001B[0m \n\u001B[1;32m     20\u001B[0m \u001B[38;5;66;03m# Run any adapter‐specific async initialization\u001B[39;00m\n\u001B[1;32m     21\u001B[0m \u001B[38;5;28;01mif\u001B[39;00m \u001B[38;5;28mhasattr\u001B[39m(graph_client, \u001B[38;5;124m\"\u001B[39m\u001B[38;5;124minitialize\u001B[39m\u001B[38;5;124m\"\u001B[39m):\n",
      "File \u001B[0;32m~/anaconda3/lib/python3.12/site-packages/cognee/infrastructure/databases/graph/get_graph_engine.py:85\u001B[0m, in \u001B[0;36mcreate_graph_engine\u001B[0;34m(graph_database_provider, graph_file_path, graph_database_url, graph_database_username, graph_database_password, graph_database_port)\u001B[0m\n\u001B[1;32m     81\u001B[0m         \u001B[38;5;28;01mraise\u001B[39;00m \u001B[38;5;167;01mEnvironmentError\u001B[39;00m(\u001B[38;5;124m\"\u001B[39m\u001B[38;5;124mMissing required Neo4j URL.\u001B[39m\u001B[38;5;124m\"\u001B[39m)\n\u001B[1;32m     83\u001B[0m     \u001B[38;5;28;01mfrom\u001B[39;00m \u001B[38;5;21;01m.\u001B[39;00m\u001B[38;5;21;01mneo4j_driver\u001B[39;00m\u001B[38;5;21;01m.\u001B[39;00m\u001B[38;5;21;01madapter\u001B[39;00m \u001B[38;5;28;01mimport\u001B[39;00m Neo4jAdapter\n\u001B[0;32m---> 85\u001B[0m     \u001B[38;5;28;01mreturn\u001B[39;00m Neo4jAdapter(\n\u001B[1;32m     86\u001B[0m         graph_database_url\u001B[38;5;241m=\u001B[39mgraph_database_url,\n\u001B[1;32m     87\u001B[0m         graph_database_username\u001B[38;5;241m=\u001B[39mgraph_database_username \u001B[38;5;129;01mor\u001B[39;00m \u001B[38;5;28;01mNone\u001B[39;00m,\n\u001B[1;32m     88\u001B[0m         graph_database_password\u001B[38;5;241m=\u001B[39mgraph_database_password \u001B[38;5;129;01mor\u001B[39;00m \u001B[38;5;28;01mNone\u001B[39;00m,\n\u001B[1;32m     89\u001B[0m     )\n\u001B[1;32m     91\u001B[0m \u001B[38;5;28;01melif\u001B[39;00m graph_database_provider \u001B[38;5;241m==\u001B[39m \u001B[38;5;124m\"\u001B[39m\u001B[38;5;124mfalkordb\u001B[39m\u001B[38;5;124m\"\u001B[39m:\n\u001B[1;32m     92\u001B[0m     \u001B[38;5;28;01mif\u001B[39;00m \u001B[38;5;129;01mnot\u001B[39;00m (graph_database_url \u001B[38;5;129;01mand\u001B[39;00m graph_database_port):\n",
      "File \u001B[0;32m~/anaconda3/lib/python3.12/site-packages/cognee/infrastructure/databases/graph/neo4j_driver/adapter.py:55\u001B[0m, in \u001B[0;36mNeo4jAdapter.__init__\u001B[0;34m(self, graph_database_url, graph_database_username, graph_database_password, driver)\u001B[0m\n\u001B[1;32m     52\u001B[0m     logger \u001B[38;5;241m=\u001B[39m get_logger(\u001B[38;5;18m__name__\u001B[39m)\n\u001B[1;32m     53\u001B[0m     logger\u001B[38;5;241m.\u001B[39mwarning(\u001B[38;5;124m\"\u001B[39m\u001B[38;5;124mNeo4j credentials incomplete – falling back to anonymous connection.\u001B[39m\u001B[38;5;124m\"\u001B[39m)\n\u001B[0;32m---> 55\u001B[0m \u001B[38;5;28mself\u001B[39m\u001B[38;5;241m.\u001B[39mdriver \u001B[38;5;241m=\u001B[39m driver \u001B[38;5;129;01mor\u001B[39;00m AsyncGraphDatabase\u001B[38;5;241m.\u001B[39mdriver(\n\u001B[1;32m     56\u001B[0m     graph_database_url,\n\u001B[1;32m     57\u001B[0m     auth\u001B[38;5;241m=\u001B[39mauth,\n\u001B[1;32m     58\u001B[0m     max_connection_lifetime\u001B[38;5;241m=\u001B[39m\u001B[38;5;241m120\u001B[39m,\n\u001B[1;32m     59\u001B[0m     notifications_min_severity\u001B[38;5;241m=\u001B[39m\u001B[38;5;124m\"\u001B[39m\u001B[38;5;124mOFF\u001B[39m\u001B[38;5;124m\"\u001B[39m,\n\u001B[1;32m     60\u001B[0m )\n",
      "File \u001B[0;32m~/anaconda3/lib/python3.12/site-packages/neo4j/_async/driver.py:203\u001B[0m, in \u001B[0;36mAsyncGraphDatabase.driver\u001B[0;34m(cls, uri, auth, **config)\u001B[0m\n\u001B[1;32m    184\u001B[0m \u001B[38;5;129m@classmethod\u001B[39m\n\u001B[1;32m    185\u001B[0m \u001B[38;5;28;01mdef\u001B[39;00m \u001B[38;5;21mdriver\u001B[39m(\n\u001B[1;32m    186\u001B[0m     \u001B[38;5;28mcls\u001B[39m,\n\u001B[0;32m   (...)\u001B[0m\n\u001B[1;32m    190\u001B[0m     \u001B[38;5;241m*\u001B[39m\u001B[38;5;241m*\u001B[39mconfig,\n\u001B[1;32m    191\u001B[0m ) \u001B[38;5;241m-\u001B[39m\u001B[38;5;241m>\u001B[39m AsyncDriver:\n\u001B[1;32m    192\u001B[0m \u001B[38;5;250m    \u001B[39m\u001B[38;5;124;03m\"\"\"\u001B[39;00m\n\u001B[1;32m    193\u001B[0m \u001B[38;5;124;03m    Create a driver.\u001B[39;00m\n\u001B[1;32m    194\u001B[0m \n\u001B[0;32m   (...)\u001B[0m\n\u001B[1;32m    201\u001B[0m \u001B[38;5;124;03m        key-word arguments.\u001B[39;00m\n\u001B[1;32m    202\u001B[0m \u001B[38;5;124;03m    \"\"\"\u001B[39;00m\n\u001B[0;32m--> 203\u001B[0m     driver_type, security_type, parsed \u001B[38;5;241m=\u001B[39m parse_neo4j_uri(uri)\n\u001B[1;32m    205\u001B[0m     \u001B[38;5;28;01mif\u001B[39;00m \u001B[38;5;129;01mnot\u001B[39;00m \u001B[38;5;28misinstance\u001B[39m(auth, AsyncAuthManager):\n\u001B[1;32m    206\u001B[0m         auth \u001B[38;5;241m=\u001B[39m AsyncAuthManagers\u001B[38;5;241m.\u001B[39mstatic(auth)\n",
      "File \u001B[0;32m~/anaconda3/lib/python3.12/site-packages/neo4j/api.py:595\u001B[0m, in \u001B[0;36mparse_neo4j_uri\u001B[0;34m(uri)\u001B[0m\n\u001B[1;32m    586\u001B[0m \u001B[38;5;28;01melse\u001B[39;00m:\n\u001B[1;32m    587\u001B[0m     supported_schemes \u001B[38;5;241m=\u001B[39m [\n\u001B[1;32m    588\u001B[0m         URI_SCHEME_BOLT,\n\u001B[1;32m    589\u001B[0m         URI_SCHEME_BOLT_SELF_SIGNED_CERTIFICATE,\n\u001B[0;32m   (...)\u001B[0m\n\u001B[1;32m    593\u001B[0m         URI_SCHEME_NEO4J_SECURE,\n\u001B[1;32m    594\u001B[0m     ]\n\u001B[0;32m--> 595\u001B[0m     \u001B[38;5;28;01mraise\u001B[39;00m ConfigurationError(\n\u001B[1;32m    596\u001B[0m         \u001B[38;5;124mf\u001B[39m\u001B[38;5;124m\"\u001B[39m\u001B[38;5;124mURI scheme \u001B[39m\u001B[38;5;132;01m{\u001B[39;00mparsed\u001B[38;5;241m.\u001B[39mscheme\u001B[38;5;132;01m!r}\u001B[39;00m\u001B[38;5;124m is not supported. \u001B[39m\u001B[38;5;124m\"\u001B[39m\n\u001B[1;32m    597\u001B[0m         \u001B[38;5;124mf\u001B[39m\u001B[38;5;124m\"\u001B[39m\u001B[38;5;124mSupported URI schemes are \u001B[39m\u001B[38;5;132;01m{\u001B[39;00msupported_schemes\u001B[38;5;132;01m}\u001B[39;00m\u001B[38;5;124m. \u001B[39m\u001B[38;5;124m\"\u001B[39m\n\u001B[1;32m    598\u001B[0m         \u001B[38;5;124m\"\u001B[39m\u001B[38;5;124mExamples: bolt://host[:port] or \u001B[39m\u001B[38;5;124m\"\u001B[39m\n\u001B[1;32m    599\u001B[0m         \u001B[38;5;124m\"\u001B[39m\u001B[38;5;124mneo4j://host[:port][?routing_context]\u001B[39m\u001B[38;5;124m\"\u001B[39m\n\u001B[1;32m    600\u001B[0m     )\n\u001B[1;32m    602\u001B[0m \u001B[38;5;28;01mreturn\u001B[39;00m driver_type, security_type, parsed\n",
      "\u001B[0;31mConfigurationError\u001B[0m: URI scheme '' is not supported. Supported URI schemes are ['bolt', 'bolt+ssc', 'bolt+s', 'neo4j', 'neo4j+ssc', 'neo4j+s']. Examples: bolt://host[:port] or neo4j://host[:port][?routing_context]"
     ]
    }
   ],
   "execution_count": 9
  },
  {
   "cell_type": "code",
   "id": "a4535a0f3783e01f",
   "metadata": {
    "collapsed": false,
    "jupyter": {
     "outputs_hidden": false
    },
    "ExecuteTime": {
     "end_time": "2025-07-10T08:36:08.661508Z",
     "start_time": "2025-07-10T08:36:08.645479Z"
    }
   },
   "source": [
    "print(results[0])"
   ],
   "outputs": [
    {
     "ename": "NameError",
     "evalue": "name 'results' is not defined",
     "output_type": "error",
     "traceback": [
      "\u001B[0;31m---------------------------------------------------------------------------\u001B[0m",
      "\u001B[0;31mNameError\u001B[0m                                 Traceback (most recent call last)",
      "Cell \u001B[0;32mIn[10], line 1\u001B[0m\n\u001B[0;32m----> 1\u001B[0m \u001B[38;5;28mprint\u001B[39m(results[\u001B[38;5;241m0\u001B[39m])\n",
      "\u001B[0;31mNameError\u001B[0m: name 'results' is not defined"
     ]
    }
   ],
   "execution_count": 10
  },
  {
   "cell_type": "code",
   "id": "9fb00f7e802a0811",
   "metadata": {
    "collapsed": false,
    "jupyter": {
     "outputs_hidden": false
    },
    "ExecuteTime": {
     "end_time": "2025-07-10T08:36:14.563406Z",
     "start_time": "2025-07-10T08:36:14.000521Z"
    }
   },
   "source": [
    "results = await search_cognee(\n",
    "    query=\"What auth info do i need in the ticketmaster API?\",\n",
    "    node_set=['developer.ticketmaster.com']\n",
    ")"
   ],
   "outputs": [
    {
     "ename": "ConfigurationError",
     "evalue": "URI scheme '' is not supported. Supported URI schemes are ['bolt', 'bolt+ssc', 'bolt+s', 'neo4j', 'neo4j+ssc', 'neo4j+s']. Examples: bolt://host[:port] or neo4j://host[:port][?routing_context]",
     "output_type": "error",
     "traceback": [
      "\u001B[0;31m---------------------------------------------------------------------------\u001B[0m",
      "\u001B[0;31mConfigurationError\u001B[0m                        Traceback (most recent call last)",
      "Cell \u001B[0;32mIn[11], line 1\u001B[0m\n\u001B[0;32m----> 1\u001B[0m results \u001B[38;5;241m=\u001B[39m \u001B[38;5;28;01mawait\u001B[39;00m search_cognee(\n\u001B[1;32m      2\u001B[0m     query\u001B[38;5;241m=\u001B[39m\u001B[38;5;124m\"\u001B[39m\u001B[38;5;124mWhat auth info do i need in the ticketmaster API?\u001B[39m\u001B[38;5;124m\"\u001B[39m,\n\u001B[1;32m      3\u001B[0m     node_set\u001B[38;5;241m=\u001B[39m[\u001B[38;5;124m'\u001B[39m\u001B[38;5;124mdeveloper.ticketmaster.com\u001B[39m\u001B[38;5;124m'\u001B[39m]\n\u001B[1;32m      4\u001B[0m )\n",
      "Cell \u001B[0;32mIn[8], line 2\u001B[0m, in \u001B[0;36msearch_cognee\u001B[0;34m(query, node_set, query_type)\u001B[0m\n\u001B[1;32m      1\u001B[0m \u001B[38;5;28;01masync\u001B[39;00m \u001B[38;5;28;01mdef\u001B[39;00m \u001B[38;5;21msearch_cognee\u001B[39m(query, node_set, query_type\u001B[38;5;241m=\u001B[39mSearchType\u001B[38;5;241m.\u001B[39mGRAPH_COMPLETION):\n\u001B[0;32m----> 2\u001B[0m     answer \u001B[38;5;241m=\u001B[39m \u001B[38;5;28;01mawait\u001B[39;00m cognee\u001B[38;5;241m.\u001B[39msearch(\n\u001B[1;32m      3\u001B[0m         query_text\u001B[38;5;241m=\u001B[39mquery,\n\u001B[1;32m      4\u001B[0m         query_type\u001B[38;5;241m=\u001B[39mquery_type,\n\u001B[1;32m      5\u001B[0m         node_type\u001B[38;5;241m=\u001B[39mNodeSet,\n\u001B[1;32m      6\u001B[0m         node_name\u001B[38;5;241m=\u001B[39mnode_set\n\u001B[1;32m      7\u001B[0m     )\n\u001B[1;32m      8\u001B[0m     \u001B[38;5;28;01mreturn\u001B[39;00m answer\n",
      "File \u001B[0;32m~/anaconda3/lib/python3.12/site-packages/cognee/api/v1/search/search.py:37\u001B[0m, in \u001B[0;36msearch\u001B[0;34m(query_text, query_type, user, datasets, dataset_ids, system_prompt_path, top_k, node_type, node_name)\u001B[0m\n\u001B[1;32m     34\u001B[0m     \u001B[38;5;28;01mif\u001B[39;00m \u001B[38;5;129;01mnot\u001B[39;00m datasets:\n\u001B[1;32m     35\u001B[0m         \u001B[38;5;28;01mraise\u001B[39;00m DatasetNotFoundError(message\u001B[38;5;241m=\u001B[39m\u001B[38;5;124m\"\u001B[39m\u001B[38;5;124mNo datasets found.\u001B[39m\u001B[38;5;124m\"\u001B[39m)\n\u001B[0;32m---> 37\u001B[0m filtered_search_results \u001B[38;5;241m=\u001B[39m \u001B[38;5;28;01mawait\u001B[39;00m search_function(\n\u001B[1;32m     38\u001B[0m     query_text\u001B[38;5;241m=\u001B[39mquery_text,\n\u001B[1;32m     39\u001B[0m     query_type\u001B[38;5;241m=\u001B[39mquery_type,\n\u001B[1;32m     40\u001B[0m     dataset_ids\u001B[38;5;241m=\u001B[39mdataset_ids \u001B[38;5;28;01mif\u001B[39;00m dataset_ids \u001B[38;5;28;01melse\u001B[39;00m datasets,\n\u001B[1;32m     41\u001B[0m     user\u001B[38;5;241m=\u001B[39muser,\n\u001B[1;32m     42\u001B[0m     system_prompt_path\u001B[38;5;241m=\u001B[39msystem_prompt_path,\n\u001B[1;32m     43\u001B[0m     top_k\u001B[38;5;241m=\u001B[39mtop_k,\n\u001B[1;32m     44\u001B[0m     node_type\u001B[38;5;241m=\u001B[39mnode_type,\n\u001B[1;32m     45\u001B[0m     node_name\u001B[38;5;241m=\u001B[39mnode_name,\n\u001B[1;32m     46\u001B[0m )\n\u001B[1;32m     48\u001B[0m \u001B[38;5;28;01mreturn\u001B[39;00m filtered_search_results\n",
      "File \u001B[0;32m~/anaconda3/lib/python3.12/site-packages/cognee/modules/search/methods/search.py:66\u001B[0m, in \u001B[0;36msearch\u001B[0;34m(query_text, query_type, dataset_ids, user, system_prompt_path, top_k, node_type, node_name)\u001B[0m\n\u001B[1;32m     60\u001B[0m     \u001B[38;5;28;01mreturn\u001B[39;00m \u001B[38;5;28;01mawait\u001B[39;00m permissions_search(\n\u001B[1;32m     61\u001B[0m         query_text, query_type, user, dataset_ids, system_prompt_path, top_k\n\u001B[1;32m     62\u001B[0m     )\n\u001B[1;32m     64\u001B[0m query \u001B[38;5;241m=\u001B[39m \u001B[38;5;28;01mawait\u001B[39;00m log_query(query_text, query_type\u001B[38;5;241m.\u001B[39mvalue, user\u001B[38;5;241m.\u001B[39mid)\n\u001B[0;32m---> 66\u001B[0m search_results \u001B[38;5;241m=\u001B[39m \u001B[38;5;28;01mawait\u001B[39;00m specific_search(\n\u001B[1;32m     67\u001B[0m     query_type,\n\u001B[1;32m     68\u001B[0m     query_text,\n\u001B[1;32m     69\u001B[0m     user,\n\u001B[1;32m     70\u001B[0m     system_prompt_path\u001B[38;5;241m=\u001B[39msystem_prompt_path,\n\u001B[1;32m     71\u001B[0m     top_k\u001B[38;5;241m=\u001B[39mtop_k,\n\u001B[1;32m     72\u001B[0m     node_type\u001B[38;5;241m=\u001B[39mnode_type,\n\u001B[1;32m     73\u001B[0m     node_name\u001B[38;5;241m=\u001B[39mnode_name,\n\u001B[1;32m     74\u001B[0m )\n\u001B[1;32m     76\u001B[0m \u001B[38;5;28;01mawait\u001B[39;00m log_result(\n\u001B[1;32m     77\u001B[0m     query\u001B[38;5;241m.\u001B[39mid,\n\u001B[1;32m     78\u001B[0m     json\u001B[38;5;241m.\u001B[39mdumps(\n\u001B[0;32m   (...)\u001B[0m\n\u001B[1;32m     81\u001B[0m     user\u001B[38;5;241m.\u001B[39mid,\n\u001B[1;32m     82\u001B[0m )\n\u001B[1;32m     84\u001B[0m \u001B[38;5;28;01mreturn\u001B[39;00m search_results\n",
      "File \u001B[0;32m~/anaconda3/lib/python3.12/site-packages/cognee/modules/search/methods/search.py:139\u001B[0m, in \u001B[0;36mspecific_search\u001B[0;34m(query_type, query, user, system_prompt_path, top_k, node_type, node_name)\u001B[0m\n\u001B[1;32m    135\u001B[0m     \u001B[38;5;28;01mraise\u001B[39;00m InvalidValueError(message\u001B[38;5;241m=\u001B[39m\u001B[38;5;124mf\u001B[39m\u001B[38;5;124m\"\u001B[39m\u001B[38;5;124mUnsupported search type: \u001B[39m\u001B[38;5;132;01m{\u001B[39;00mquery_type\u001B[38;5;132;01m}\u001B[39;00m\u001B[38;5;124m\"\u001B[39m)\n\u001B[1;32m    137\u001B[0m send_telemetry(\u001B[38;5;124m\"\u001B[39m\u001B[38;5;124mcognee.search EXECUTION STARTED\u001B[39m\u001B[38;5;124m\"\u001B[39m, user\u001B[38;5;241m.\u001B[39mid)\n\u001B[0;32m--> 139\u001B[0m results \u001B[38;5;241m=\u001B[39m \u001B[38;5;28;01mawait\u001B[39;00m search_task(query)\n\u001B[1;32m    141\u001B[0m send_telemetry(\u001B[38;5;124m\"\u001B[39m\u001B[38;5;124mcognee.search EXECUTION COMPLETED\u001B[39m\u001B[38;5;124m\"\u001B[39m, user\u001B[38;5;241m.\u001B[39mid)\n\u001B[1;32m    143\u001B[0m \u001B[38;5;28;01mreturn\u001B[39;00m results\n",
      "File \u001B[0;32m~/anaconda3/lib/python3.12/site-packages/cognee/modules/retrieval/graph_completion_retriever.py:161\u001B[0m, in \u001B[0;36mGraphCompletionRetriever.get_completion\u001B[0;34m(self, query, context)\u001B[0m\n\u001B[1;32m    145\u001B[0m \u001B[38;5;250m\u001B[39m\u001B[38;5;124;03m\"\"\"\u001B[39;00m\n\u001B[1;32m    146\u001B[0m \u001B[38;5;124;03mGenerates a completion using graph connections context based on a query.\u001B[39;00m\n\u001B[1;32m    147\u001B[0m \n\u001B[0;32m   (...)\u001B[0m\n\u001B[1;32m    158\u001B[0m \u001B[38;5;124;03m    - Any: A generated completion based on the query and context provided.\u001B[39;00m\n\u001B[1;32m    159\u001B[0m \u001B[38;5;124;03m\"\"\"\u001B[39;00m\n\u001B[1;32m    160\u001B[0m \u001B[38;5;28;01mif\u001B[39;00m context \u001B[38;5;129;01mis\u001B[39;00m \u001B[38;5;28;01mNone\u001B[39;00m:\n\u001B[0;32m--> 161\u001B[0m     context \u001B[38;5;241m=\u001B[39m \u001B[38;5;28;01mawait\u001B[39;00m \u001B[38;5;28mself\u001B[39m\u001B[38;5;241m.\u001B[39mget_context(query)\n\u001B[1;32m    163\u001B[0m completion \u001B[38;5;241m=\u001B[39m \u001B[38;5;28;01mawait\u001B[39;00m generate_completion(\n\u001B[1;32m    164\u001B[0m     query\u001B[38;5;241m=\u001B[39mquery,\n\u001B[1;32m    165\u001B[0m     context\u001B[38;5;241m=\u001B[39mcontext,\n\u001B[1;32m    166\u001B[0m     user_prompt_path\u001B[38;5;241m=\u001B[39m\u001B[38;5;28mself\u001B[39m\u001B[38;5;241m.\u001B[39muser_prompt_path,\n\u001B[1;32m    167\u001B[0m     system_prompt_path\u001B[38;5;241m=\u001B[39m\u001B[38;5;28mself\u001B[39m\u001B[38;5;241m.\u001B[39msystem_prompt_path,\n\u001B[1;32m    168\u001B[0m )\n\u001B[1;32m    169\u001B[0m \u001B[38;5;28;01mreturn\u001B[39;00m [completion]\n",
      "File \u001B[0;32m~/anaconda3/lib/python3.12/site-packages/cognee/modules/retrieval/graph_completion_retriever.py:136\u001B[0m, in \u001B[0;36mGraphCompletionRetriever.get_context\u001B[0;34m(self, query)\u001B[0m\n\u001B[1;32m    121\u001B[0m \u001B[38;5;28;01masync\u001B[39;00m \u001B[38;5;28;01mdef\u001B[39;00m \u001B[38;5;21mget_context\u001B[39m(\u001B[38;5;28mself\u001B[39m, query: \u001B[38;5;28mstr\u001B[39m) \u001B[38;5;241m-\u001B[39m\u001B[38;5;241m>\u001B[39m \u001B[38;5;28mstr\u001B[39m:\n\u001B[1;32m    122\u001B[0m \u001B[38;5;250m    \u001B[39m\u001B[38;5;124;03m\"\"\"\u001B[39;00m\n\u001B[1;32m    123\u001B[0m \u001B[38;5;124;03m    Retrieves and resolves graph triplets into context based on a query.\u001B[39;00m\n\u001B[1;32m    124\u001B[0m \n\u001B[0;32m   (...)\u001B[0m\n\u001B[1;32m    134\u001B[0m \u001B[38;5;124;03m          empty string if no triplets are found.\u001B[39;00m\n\u001B[1;32m    135\u001B[0m \u001B[38;5;124;03m    \"\"\"\u001B[39;00m\n\u001B[0;32m--> 136\u001B[0m     triplets \u001B[38;5;241m=\u001B[39m \u001B[38;5;28;01mawait\u001B[39;00m \u001B[38;5;28mself\u001B[39m\u001B[38;5;241m.\u001B[39mget_triplets(query)\n\u001B[1;32m    138\u001B[0m     \u001B[38;5;28;01mif\u001B[39;00m \u001B[38;5;28mlen\u001B[39m(triplets) \u001B[38;5;241m==\u001B[39m \u001B[38;5;241m0\u001B[39m:\n\u001B[1;32m    139\u001B[0m         logger\u001B[38;5;241m.\u001B[39mwarning(\u001B[38;5;124m\"\u001B[39m\u001B[38;5;124mEmpty context was provided to the completion\u001B[39m\u001B[38;5;124m\"\u001B[39m)\n",
      "File \u001B[0;32m~/anaconda3/lib/python3.12/site-packages/cognee/modules/retrieval/graph_completion_retriever.py:111\u001B[0m, in \u001B[0;36mGraphCompletionRetriever.get_triplets\u001B[0;34m(self, query)\u001B[0m\n\u001B[1;32m    108\u001B[0m                 \u001B[38;5;28;01mfor\u001B[39;00m field_name \u001B[38;5;129;01min\u001B[39;00m index_fields:\n\u001B[1;32m    109\u001B[0m                     vector_index_collections\u001B[38;5;241m.\u001B[39mappend(\u001B[38;5;124mf\u001B[39m\u001B[38;5;124m\"\u001B[39m\u001B[38;5;132;01m{\u001B[39;00msubclass\u001B[38;5;241m.\u001B[39m\u001B[38;5;18m__name__\u001B[39m\u001B[38;5;132;01m}\u001B[39;00m\u001B[38;5;124m_\u001B[39m\u001B[38;5;132;01m{\u001B[39;00mfield_name\u001B[38;5;132;01m}\u001B[39;00m\u001B[38;5;124m\"\u001B[39m)\n\u001B[0;32m--> 111\u001B[0m found_triplets \u001B[38;5;241m=\u001B[39m \u001B[38;5;28;01mawait\u001B[39;00m brute_force_triplet_search(\n\u001B[1;32m    112\u001B[0m     query,\n\u001B[1;32m    113\u001B[0m     top_k\u001B[38;5;241m=\u001B[39m\u001B[38;5;28mself\u001B[39m\u001B[38;5;241m.\u001B[39mtop_k,\n\u001B[1;32m    114\u001B[0m     collections\u001B[38;5;241m=\u001B[39mvector_index_collections \u001B[38;5;129;01mor\u001B[39;00m \u001B[38;5;28;01mNone\u001B[39;00m,\n\u001B[1;32m    115\u001B[0m     node_type\u001B[38;5;241m=\u001B[39m\u001B[38;5;28mself\u001B[39m\u001B[38;5;241m.\u001B[39mnode_type,\n\u001B[1;32m    116\u001B[0m     node_name\u001B[38;5;241m=\u001B[39m\u001B[38;5;28mself\u001B[39m\u001B[38;5;241m.\u001B[39mnode_name,\n\u001B[1;32m    117\u001B[0m )\n\u001B[1;32m    119\u001B[0m \u001B[38;5;28;01mreturn\u001B[39;00m found_triplets\n",
      "File \u001B[0;32m~/anaconda3/lib/python3.12/site-packages/cognee/modules/retrieval/utils/brute_force_triplet_search.py:95\u001B[0m, in \u001B[0;36mbrute_force_triplet_search\u001B[0;34m(query, user, top_k, collections, properties_to_project, memory_fragment, node_type, node_name)\u001B[0m\n\u001B[1;32m     92\u001B[0m \u001B[38;5;28;01mif\u001B[39;00m user \u001B[38;5;129;01mis\u001B[39;00m \u001B[38;5;28;01mNone\u001B[39;00m:\n\u001B[1;32m     93\u001B[0m     user \u001B[38;5;241m=\u001B[39m \u001B[38;5;28;01mawait\u001B[39;00m get_default_user()\n\u001B[0;32m---> 95\u001B[0m retrieved_results \u001B[38;5;241m=\u001B[39m \u001B[38;5;28;01mawait\u001B[39;00m brute_force_search(\n\u001B[1;32m     96\u001B[0m     query,\n\u001B[1;32m     97\u001B[0m     user,\n\u001B[1;32m     98\u001B[0m     top_k,\n\u001B[1;32m     99\u001B[0m     collections\u001B[38;5;241m=\u001B[39mcollections,\n\u001B[1;32m    100\u001B[0m     properties_to_project\u001B[38;5;241m=\u001B[39mproperties_to_project,\n\u001B[1;32m    101\u001B[0m     memory_fragment\u001B[38;5;241m=\u001B[39mmemory_fragment,\n\u001B[1;32m    102\u001B[0m     node_type\u001B[38;5;241m=\u001B[39mnode_type,\n\u001B[1;32m    103\u001B[0m     node_name\u001B[38;5;241m=\u001B[39mnode_name,\n\u001B[1;32m    104\u001B[0m )\n\u001B[1;32m    105\u001B[0m \u001B[38;5;28;01mreturn\u001B[39;00m retrieved_results\n",
      "File \u001B[0;32m~/anaconda3/lib/python3.12/site-packages/cognee/modules/retrieval/utils/brute_force_triplet_search.py:140\u001B[0m, in \u001B[0;36mbrute_force_search\u001B[0;34m(query, user, top_k, collections, properties_to_project, memory_fragment, node_type, node_name)\u001B[0m\n\u001B[1;32m    137\u001B[0m     \u001B[38;5;28;01mraise\u001B[39;00m \u001B[38;5;167;01mValueError\u001B[39;00m(\u001B[38;5;124m\"\u001B[39m\u001B[38;5;124mtop_k must be a positive integer.\u001B[39m\u001B[38;5;124m\"\u001B[39m)\n\u001B[1;32m    139\u001B[0m \u001B[38;5;28;01mif\u001B[39;00m memory_fragment \u001B[38;5;129;01mis\u001B[39;00m \u001B[38;5;28;01mNone\u001B[39;00m:\n\u001B[0;32m--> 140\u001B[0m     memory_fragment \u001B[38;5;241m=\u001B[39m \u001B[38;5;28;01mawait\u001B[39;00m get_memory_fragment(\n\u001B[1;32m    141\u001B[0m         properties_to_project, node_type\u001B[38;5;241m=\u001B[39mnode_type, node_name\u001B[38;5;241m=\u001B[39mnode_name\n\u001B[1;32m    142\u001B[0m     )\n\u001B[1;32m    144\u001B[0m \u001B[38;5;28;01mif\u001B[39;00m collections \u001B[38;5;129;01mis\u001B[39;00m \u001B[38;5;28;01mNone\u001B[39;00m:\n\u001B[1;32m    145\u001B[0m     collections \u001B[38;5;241m=\u001B[39m [\n\u001B[1;32m    146\u001B[0m         \u001B[38;5;124m\"\u001B[39m\u001B[38;5;124mEntity_name\u001B[39m\u001B[38;5;124m\"\u001B[39m,\n\u001B[1;32m    147\u001B[0m         \u001B[38;5;124m\"\u001B[39m\u001B[38;5;124mTextSummary_text\u001B[39m\u001B[38;5;124m\"\u001B[39m,\n\u001B[1;32m    148\u001B[0m         \u001B[38;5;124m\"\u001B[39m\u001B[38;5;124mEntityType_name\u001B[39m\u001B[38;5;124m\"\u001B[39m,\n\u001B[1;32m    149\u001B[0m         \u001B[38;5;124m\"\u001B[39m\u001B[38;5;124mDocumentChunk_text\u001B[39m\u001B[38;5;124m\"\u001B[39m,\n\u001B[1;32m    150\u001B[0m     ]\n",
      "File \u001B[0;32m~/anaconda3/lib/python3.12/site-packages/cognee/modules/retrieval/utils/brute_force_triplet_search.py:62\u001B[0m, in \u001B[0;36mget_memory_fragment\u001B[0;34m(properties_to_project, node_type, node_name)\u001B[0m\n\u001B[1;32m     56\u001B[0m \u001B[38;5;28;01masync\u001B[39;00m \u001B[38;5;28;01mdef\u001B[39;00m \u001B[38;5;21mget_memory_fragment\u001B[39m(\n\u001B[1;32m     57\u001B[0m     properties_to_project: Optional[List[\u001B[38;5;28mstr\u001B[39m]] \u001B[38;5;241m=\u001B[39m \u001B[38;5;28;01mNone\u001B[39;00m,\n\u001B[1;32m     58\u001B[0m     node_type: Optional[Type] \u001B[38;5;241m=\u001B[39m \u001B[38;5;28;01mNone\u001B[39;00m,\n\u001B[1;32m     59\u001B[0m     node_name: Optional[List[\u001B[38;5;28mstr\u001B[39m]] \u001B[38;5;241m=\u001B[39m \u001B[38;5;28;01mNone\u001B[39;00m,\n\u001B[1;32m     60\u001B[0m ) \u001B[38;5;241m-\u001B[39m\u001B[38;5;241m>\u001B[39m CogneeGraph:\n\u001B[1;32m     61\u001B[0m \u001B[38;5;250m    \u001B[39m\u001B[38;5;124;03m\"\"\"Creates and initializes a CogneeGraph memory fragment with optional property projections.\"\"\"\u001B[39;00m\n\u001B[0;32m---> 62\u001B[0m     graph_engine \u001B[38;5;241m=\u001B[39m \u001B[38;5;28;01mawait\u001B[39;00m get_graph_engine()\n\u001B[1;32m     63\u001B[0m     memory_fragment \u001B[38;5;241m=\u001B[39m CogneeGraph()\n\u001B[1;32m     65\u001B[0m     \u001B[38;5;28;01mif\u001B[39;00m properties_to_project \u001B[38;5;129;01mis\u001B[39;00m \u001B[38;5;28;01mNone\u001B[39;00m:\n",
      "File \u001B[0;32m~/anaconda3/lib/python3.12/site-packages/cognee/infrastructure/databases/graph/get_graph_engine.py:15\u001B[0m, in \u001B[0;36mget_graph_engine\u001B[0;34m()\u001B[0m\n\u001B[1;32m     12\u001B[0m \u001B[38;5;66;03m# Get appropriate graph configuration based on current async context\u001B[39;00m\n\u001B[1;32m     13\u001B[0m config \u001B[38;5;241m=\u001B[39m get_graph_context_config()\n\u001B[0;32m---> 15\u001B[0m graph_client \u001B[38;5;241m=\u001B[39m create_graph_engine(\u001B[38;5;241m*\u001B[39m\u001B[38;5;241m*\u001B[39mconfig)\n\u001B[1;32m     17\u001B[0m \u001B[38;5;66;03m# Async functions can't be cached. After creating and caching the graph engine\u001B[39;00m\n\u001B[1;32m     18\u001B[0m \u001B[38;5;66;03m# handle all necessary async operations for different graph types bellow.\u001B[39;00m\n\u001B[1;32m     19\u001B[0m \n\u001B[1;32m     20\u001B[0m \u001B[38;5;66;03m# Run any adapter‐specific async initialization\u001B[39;00m\n\u001B[1;32m     21\u001B[0m \u001B[38;5;28;01mif\u001B[39;00m \u001B[38;5;28mhasattr\u001B[39m(graph_client, \u001B[38;5;124m\"\u001B[39m\u001B[38;5;124minitialize\u001B[39m\u001B[38;5;124m\"\u001B[39m):\n",
      "File \u001B[0;32m~/anaconda3/lib/python3.12/site-packages/cognee/infrastructure/databases/graph/get_graph_engine.py:85\u001B[0m, in \u001B[0;36mcreate_graph_engine\u001B[0;34m(graph_database_provider, graph_file_path, graph_database_url, graph_database_username, graph_database_password, graph_database_port)\u001B[0m\n\u001B[1;32m     81\u001B[0m         \u001B[38;5;28;01mraise\u001B[39;00m \u001B[38;5;167;01mEnvironmentError\u001B[39;00m(\u001B[38;5;124m\"\u001B[39m\u001B[38;5;124mMissing required Neo4j URL.\u001B[39m\u001B[38;5;124m\"\u001B[39m)\n\u001B[1;32m     83\u001B[0m     \u001B[38;5;28;01mfrom\u001B[39;00m \u001B[38;5;21;01m.\u001B[39;00m\u001B[38;5;21;01mneo4j_driver\u001B[39;00m\u001B[38;5;21;01m.\u001B[39;00m\u001B[38;5;21;01madapter\u001B[39;00m \u001B[38;5;28;01mimport\u001B[39;00m Neo4jAdapter\n\u001B[0;32m---> 85\u001B[0m     \u001B[38;5;28;01mreturn\u001B[39;00m Neo4jAdapter(\n\u001B[1;32m     86\u001B[0m         graph_database_url\u001B[38;5;241m=\u001B[39mgraph_database_url,\n\u001B[1;32m     87\u001B[0m         graph_database_username\u001B[38;5;241m=\u001B[39mgraph_database_username \u001B[38;5;129;01mor\u001B[39;00m \u001B[38;5;28;01mNone\u001B[39;00m,\n\u001B[1;32m     88\u001B[0m         graph_database_password\u001B[38;5;241m=\u001B[39mgraph_database_password \u001B[38;5;129;01mor\u001B[39;00m \u001B[38;5;28;01mNone\u001B[39;00m,\n\u001B[1;32m     89\u001B[0m     )\n\u001B[1;32m     91\u001B[0m \u001B[38;5;28;01melif\u001B[39;00m graph_database_provider \u001B[38;5;241m==\u001B[39m \u001B[38;5;124m\"\u001B[39m\u001B[38;5;124mfalkordb\u001B[39m\u001B[38;5;124m\"\u001B[39m:\n\u001B[1;32m     92\u001B[0m     \u001B[38;5;28;01mif\u001B[39;00m \u001B[38;5;129;01mnot\u001B[39;00m (graph_database_url \u001B[38;5;129;01mand\u001B[39;00m graph_database_port):\n",
      "File \u001B[0;32m~/anaconda3/lib/python3.12/site-packages/cognee/infrastructure/databases/graph/neo4j_driver/adapter.py:55\u001B[0m, in \u001B[0;36mNeo4jAdapter.__init__\u001B[0;34m(self, graph_database_url, graph_database_username, graph_database_password, driver)\u001B[0m\n\u001B[1;32m     52\u001B[0m     logger \u001B[38;5;241m=\u001B[39m get_logger(\u001B[38;5;18m__name__\u001B[39m)\n\u001B[1;32m     53\u001B[0m     logger\u001B[38;5;241m.\u001B[39mwarning(\u001B[38;5;124m\"\u001B[39m\u001B[38;5;124mNeo4j credentials incomplete – falling back to anonymous connection.\u001B[39m\u001B[38;5;124m\"\u001B[39m)\n\u001B[0;32m---> 55\u001B[0m \u001B[38;5;28mself\u001B[39m\u001B[38;5;241m.\u001B[39mdriver \u001B[38;5;241m=\u001B[39m driver \u001B[38;5;129;01mor\u001B[39;00m AsyncGraphDatabase\u001B[38;5;241m.\u001B[39mdriver(\n\u001B[1;32m     56\u001B[0m     graph_database_url,\n\u001B[1;32m     57\u001B[0m     auth\u001B[38;5;241m=\u001B[39mauth,\n\u001B[1;32m     58\u001B[0m     max_connection_lifetime\u001B[38;5;241m=\u001B[39m\u001B[38;5;241m120\u001B[39m,\n\u001B[1;32m     59\u001B[0m     notifications_min_severity\u001B[38;5;241m=\u001B[39m\u001B[38;5;124m\"\u001B[39m\u001B[38;5;124mOFF\u001B[39m\u001B[38;5;124m\"\u001B[39m,\n\u001B[1;32m     60\u001B[0m )\n",
      "File \u001B[0;32m~/anaconda3/lib/python3.12/site-packages/neo4j/_async/driver.py:203\u001B[0m, in \u001B[0;36mAsyncGraphDatabase.driver\u001B[0;34m(cls, uri, auth, **config)\u001B[0m\n\u001B[1;32m    184\u001B[0m \u001B[38;5;129m@classmethod\u001B[39m\n\u001B[1;32m    185\u001B[0m \u001B[38;5;28;01mdef\u001B[39;00m \u001B[38;5;21mdriver\u001B[39m(\n\u001B[1;32m    186\u001B[0m     \u001B[38;5;28mcls\u001B[39m,\n\u001B[0;32m   (...)\u001B[0m\n\u001B[1;32m    190\u001B[0m     \u001B[38;5;241m*\u001B[39m\u001B[38;5;241m*\u001B[39mconfig,\n\u001B[1;32m    191\u001B[0m ) \u001B[38;5;241m-\u001B[39m\u001B[38;5;241m>\u001B[39m AsyncDriver:\n\u001B[1;32m    192\u001B[0m \u001B[38;5;250m    \u001B[39m\u001B[38;5;124;03m\"\"\"\u001B[39;00m\n\u001B[1;32m    193\u001B[0m \u001B[38;5;124;03m    Create a driver.\u001B[39;00m\n\u001B[1;32m    194\u001B[0m \n\u001B[0;32m   (...)\u001B[0m\n\u001B[1;32m    201\u001B[0m \u001B[38;5;124;03m        key-word arguments.\u001B[39;00m\n\u001B[1;32m    202\u001B[0m \u001B[38;5;124;03m    \"\"\"\u001B[39;00m\n\u001B[0;32m--> 203\u001B[0m     driver_type, security_type, parsed \u001B[38;5;241m=\u001B[39m parse_neo4j_uri(uri)\n\u001B[1;32m    205\u001B[0m     \u001B[38;5;28;01mif\u001B[39;00m \u001B[38;5;129;01mnot\u001B[39;00m \u001B[38;5;28misinstance\u001B[39m(auth, AsyncAuthManager):\n\u001B[1;32m    206\u001B[0m         auth \u001B[38;5;241m=\u001B[39m AsyncAuthManagers\u001B[38;5;241m.\u001B[39mstatic(auth)\n",
      "File \u001B[0;32m~/anaconda3/lib/python3.12/site-packages/neo4j/api.py:595\u001B[0m, in \u001B[0;36mparse_neo4j_uri\u001B[0;34m(uri)\u001B[0m\n\u001B[1;32m    586\u001B[0m \u001B[38;5;28;01melse\u001B[39;00m:\n\u001B[1;32m    587\u001B[0m     supported_schemes \u001B[38;5;241m=\u001B[39m [\n\u001B[1;32m    588\u001B[0m         URI_SCHEME_BOLT,\n\u001B[1;32m    589\u001B[0m         URI_SCHEME_BOLT_SELF_SIGNED_CERTIFICATE,\n\u001B[0;32m   (...)\u001B[0m\n\u001B[1;32m    593\u001B[0m         URI_SCHEME_NEO4J_SECURE,\n\u001B[1;32m    594\u001B[0m     ]\n\u001B[0;32m--> 595\u001B[0m     \u001B[38;5;28;01mraise\u001B[39;00m ConfigurationError(\n\u001B[1;32m    596\u001B[0m         \u001B[38;5;124mf\u001B[39m\u001B[38;5;124m\"\u001B[39m\u001B[38;5;124mURI scheme \u001B[39m\u001B[38;5;132;01m{\u001B[39;00mparsed\u001B[38;5;241m.\u001B[39mscheme\u001B[38;5;132;01m!r}\u001B[39;00m\u001B[38;5;124m is not supported. \u001B[39m\u001B[38;5;124m\"\u001B[39m\n\u001B[1;32m    597\u001B[0m         \u001B[38;5;124mf\u001B[39m\u001B[38;5;124m\"\u001B[39m\u001B[38;5;124mSupported URI schemes are \u001B[39m\u001B[38;5;132;01m{\u001B[39;00msupported_schemes\u001B[38;5;132;01m}\u001B[39;00m\u001B[38;5;124m. \u001B[39m\u001B[38;5;124m\"\u001B[39m\n\u001B[1;32m    598\u001B[0m         \u001B[38;5;124m\"\u001B[39m\u001B[38;5;124mExamples: bolt://host[:port] or \u001B[39m\u001B[38;5;124m\"\u001B[39m\n\u001B[1;32m    599\u001B[0m         \u001B[38;5;124m\"\u001B[39m\u001B[38;5;124mneo4j://host[:port][?routing_context]\u001B[39m\u001B[38;5;124m\"\u001B[39m\n\u001B[1;32m    600\u001B[0m     )\n\u001B[1;32m    602\u001B[0m \u001B[38;5;28;01mreturn\u001B[39;00m driver_type, security_type, parsed\n",
      "\u001B[0;31mConfigurationError\u001B[0m: URI scheme '' is not supported. Supported URI schemes are ['bolt', 'bolt+ssc', 'bolt+s', 'neo4j', 'neo4j+ssc', 'neo4j+s']. Examples: bolt://host[:port] or neo4j://host[:port][?routing_context]"
     ]
    }
   ],
   "execution_count": 11
  },
  {
   "cell_type": "code",
   "execution_count": 6,
   "id": "7780d3730129559b",
   "metadata": {
    "ExecuteTime": {
     "end_time": "2025-06-29T14:07:45.485727700Z",
     "start_time": "2025-06-29T14:07:45.470074600Z"
    },
    "collapsed": false,
    "jupyter": {
     "outputs_hidden": false
    }
   },
   "outputs": [
    {
     "name": "stdout",
     "output_type": "stream",
     "text": [
      "To use the Ticketmaster API, you need authorization. Specifically, it requires API authorization to access its services.\n"
     ]
    }
   ],
   "source": [
    "print(results[0])"
   ]
  },
  {
   "cell_type": "code",
   "execution_count": 7,
   "id": "26eae9036e0a3619",
   "metadata": {
    "ExecuteTime": {
     "end_time": "2025-06-29T14:08:28.316460100Z",
     "start_time": "2025-06-29T14:08:19.856433100Z"
    },
    "collapsed": false,
    "jupyter": {
     "outputs_hidden": false
    }
   },
   "outputs": [
    {
     "name": "stderr",
     "output_type": "stream",
     "text": [
      "\u001B[92m16:08:21 - LiteLLM:INFO\u001B[0m: cost_calculator.py:655 - selected model name for cost calculation: openai/text-embedding-3-large\n",
      "\u001B[1mselected model name for cost calculation: openai/text-embedding-3-large\u001B[0m\u001B[92m16:08:21 - LiteLLM:INFO\u001B[0m: cost_calculator.py:655 - selected model name for cost calculation: openai/text-embedding-3-large\n",
      "\u001B[1mselected model name for cost calculation: openai/text-embedding-3-large\u001B[0m\u001B[92m16:08:21 - LiteLLM:INFO\u001B[0m: cost_calculator.py:655 - selected model name for cost calculation: openai/text-embedding-3-large\n",
      "\u001B[1mselected model name for cost calculation: openai/text-embedding-3-large\u001B[0m\u001B[92m16:08:21 - LiteLLM:INFO\u001B[0m: cost_calculator.py:655 - selected model name for cost calculation: openai/text-embedding-3-large\n",
      "\u001B[1mselected model name for cost calculation: openai/text-embedding-3-large\u001B[0m\u001B[92m16:08:21 - LiteLLM:INFO\u001B[0m: cost_calculator.py:655 - selected model name for cost calculation: openai/text-embedding-3-large\n",
      "\u001B[1mselected model name for cost calculation: openai/text-embedding-3-large\u001B[0m\u001B[92m16:08:21 - LiteLLM:INFO\u001B[0m: cost_calculator.py:655 - selected model name for cost calculation: openai/text-embedding-3-large\n",
      "\u001B[1mselected model name for cost calculation: openai/text-embedding-3-large\u001B[0m\u001B[92m16:08:21 - LiteLLM:INFO\u001B[0m: cost_calculator.py:655 - selected model name for cost calculation: openai/text-embedding-3-large\n",
      "\u001B[1mselected model name for cost calculation: openai/text-embedding-3-large\u001B[0m\u001B[92m16:08:21 - LiteLLM:INFO\u001B[0m: cost_calculator.py:655 - selected model name for cost calculation: openai/text-embedding-3-large\n",
      "\u001B[1mselected model name for cost calculation: openai/text-embedding-3-large\u001B[0m\u001B[92m16:08:21 - LiteLLM:INFO\u001B[0m: cost_calculator.py:655 - selected model name for cost calculation: openai/text-embedding-3-large\n",
      "\u001B[1mselected model name for cost calculation: openai/text-embedding-3-large\u001B[0m\u001B[92m16:08:21 - LiteLLM:INFO\u001B[0m: cost_calculator.py:655 - selected model name for cost calculation: openai/text-embedding-3-large\n",
      "\u001B[1mselected model name for cost calculation: openai/text-embedding-3-large\u001B[0m\u001B[92m16:08:21 - LiteLLM:INFO\u001B[0m: cost_calculator.py:655 - selected model name for cost calculation: openai/text-embedding-3-large\n",
      "\u001B[1mselected model name for cost calculation: openai/text-embedding-3-large\u001B[0m\u001B[92m16:08:21 - LiteLLM:INFO\u001B[0m: cost_calculator.py:655 - selected model name for cost calculation: openai/text-embedding-3-large\n",
      "\u001B[1mselected model name for cost calculation: openai/text-embedding-3-large\u001B[0m\u001B[92m16:08:21 - LiteLLM:INFO\u001B[0m: cost_calculator.py:655 - selected model name for cost calculation: openai/text-embedding-3-large\n",
      "\u001B[1mselected model name for cost calculation: openai/text-embedding-3-large\u001B[0m\u001B[92m16:08:21 - LiteLLM:INFO\u001B[0m: cost_calculator.py:655 - selected model name for cost calculation: openai/text-embedding-3-large\n",
      "\u001B[1mselected model name for cost calculation: openai/text-embedding-3-large\u001B[0m\u001B[92m16:08:21 - LiteLLM:INFO\u001B[0m: cost_calculator.py:655 - selected model name for cost calculation: openai/text-embedding-3-large\n",
      "\u001B[1mselected model name for cost calculation: openai/text-embedding-3-large\u001B[0m\u001B[92m16:08:21 - LiteLLM:INFO\u001B[0m: cost_calculator.py:655 - selected model name for cost calculation: openai/text-embedding-3-large\n",
      "\u001B[1mselected model name for cost calculation: openai/text-embedding-3-large\u001B[0m\u001B[92m16:08:21 - LiteLLM:INFO\u001B[0m: cost_calculator.py:655 - selected model name for cost calculation: openai/text-embedding-3-large\n",
      "\u001B[1mselected model name for cost calculation: openai/text-embedding-3-large\u001B[0m\u001B[92m16:08:21 - LiteLLM:INFO\u001B[0m: cost_calculator.py:655 - selected model name for cost calculation: openai/text-embedding-3-large\n",
      "\u001B[1mselected model name for cost calculation: openai/text-embedding-3-large\u001B[0m\u001B[92m16:08:21 - LiteLLM:INFO\u001B[0m: cost_calculator.py:655 - selected model name for cost calculation: openai/text-embedding-3-large\n",
      "\u001B[1mselected model name for cost calculation: openai/text-embedding-3-large\u001B[0m\u001B[92m16:08:22 - LiteLLM:INFO\u001B[0m: cost_calculator.py:655 - selected model name for cost calculation: openai/text-embedding-3-large\n",
      "\u001B[1mselected model name for cost calculation: openai/text-embedding-3-large\u001B[0m\u001B[92m16:08:22 - LiteLLM:INFO\u001B[0m: cost_calculator.py:655 - selected model name for cost calculation: openai/text-embedding-3-large\n",
      "\u001B[1mselected model name for cost calculation: openai/text-embedding-3-large\u001B[0m\u001B[92m16:08:24 - LiteLLM:INFO\u001B[0m: cost_calculator.py:655 - selected model name for cost calculation: openai/text-embedding-3-large\n",
      "\u001B[1mselected model name for cost calculation: openai/text-embedding-3-large\u001B[0m\u001B[92m16:08:24 - LiteLLM:INFO\u001B[0m: cost_calculator.py:655 - selected model name for cost calculation: openai/text-embedding-3-large\n",
      "\u001B[1mselected model name for cost calculation: openai/text-embedding-3-large\u001B[0m\u001B[92m16:08:25 - LiteLLM:INFO\u001B[0m: utils.py:2929 - \n",
      "LiteLLM completion() model= gpt-4o-mini; provider = openai\n",
      "\u001B[1m\n",
      "LiteLLM completion() model= gpt-4o-mini; provider = openai\u001B[0m\u001B[92m16:08:28 - LiteLLM:INFO\u001B[0m: cost_calculator.py:655 - selected model name for cost calculation: openai/gpt-4o-mini-2024-07-18\n",
      "\u001B[1mselected model name for cost calculation: openai/gpt-4o-mini-2024-07-18\u001B[0m\u001B[92m16:08:28 - LiteLLM:INFO\u001B[0m: cost_calculator.py:655 - selected model name for cost calculation: openai/gpt-4o-mini-2024-07-18\n",
      "\u001B[1mselected model name for cost calculation: openai/gpt-4o-mini-2024-07-18\u001B[0m"
     ]
    }
   ],
   "source": [
    "results = await search_cognee(\n",
    "    query=\"What pagination do i need in the ticketmaster API?\",\n",
    "    node_set=['developer.ticketmaster.com']\n",
    ")"
   ]
  },
  {
   "cell_type": "code",
   "execution_count": 8,
   "id": "ee43c774778c6107",
   "metadata": {
    "ExecuteTime": {
     "end_time": "2025-06-29T14:08:30.419447Z",
     "start_time": "2025-06-29T14:08:30.397569800Z"
    },
    "collapsed": false,
    "jupyter": {
     "outputs_hidden": false
    }
   },
   "outputs": [
    {
     "name": "stdout",
     "output_type": "stream",
     "text": [
      "To implement pagination in the Ticketmaster API, you typically need to use parameters such as `limit` to specify the number of results per page and `offset` to determine the starting point of the results. The API documentation should provide details on how to use these parameters effectively.\n"
     ]
    }
   ],
   "source": [
    "print(results[0])"
   ]
  },
  {
   "cell_type": "code",
   "execution_count": 6,
   "id": "8d737a18d7af915b",
   "metadata": {
    "ExecuteTime": {
     "end_time": "2025-06-29T15:39:54.930438200Z",
     "start_time": "2025-06-29T15:39:48.198131100Z"
    },
    "collapsed": false,
    "jupyter": {
     "outputs_hidden": false
    }
   },
   "outputs": [
    {
     "name": "stderr",
     "output_type": "stream",
     "text": [
      "\u001B[92m17:39:49 - LiteLLM:INFO\u001B[0m: cost_calculator.py:655 - selected model name for cost calculation: openai/text-embedding-3-large\n",
      "\u001B[1mselected model name for cost calculation: openai/text-embedding-3-large\u001B[0m\u001B[92m17:39:49 - LiteLLM:INFO\u001B[0m: cost_calculator.py:655 - selected model name for cost calculation: openai/text-embedding-3-large\n",
      "\u001B[1mselected model name for cost calculation: openai/text-embedding-3-large\u001B[0m\u001B[92m17:39:49 - LiteLLM:INFO\u001B[0m: cost_calculator.py:655 - selected model name for cost calculation: openai/text-embedding-3-large\n",
      "\u001B[1mselected model name for cost calculation: openai/text-embedding-3-large\u001B[0m\u001B[92m17:39:49 - LiteLLM:INFO\u001B[0m: cost_calculator.py:655 - selected model name for cost calculation: openai/text-embedding-3-large\n",
      "\u001B[1mselected model name for cost calculation: openai/text-embedding-3-large\u001B[0m\u001B[92m17:39:49 - LiteLLM:INFO\u001B[0m: cost_calculator.py:655 - selected model name for cost calculation: openai/text-embedding-3-large\n",
      "\u001B[1mselected model name for cost calculation: openai/text-embedding-3-large\u001B[0m\u001B[92m17:39:49 - LiteLLM:INFO\u001B[0m: cost_calculator.py:655 - selected model name for cost calculation: openai/text-embedding-3-large\n",
      "\u001B[1mselected model name for cost calculation: openai/text-embedding-3-large\u001B[0m\u001B[92m17:39:49 - LiteLLM:INFO\u001B[0m: cost_calculator.py:655 - selected model name for cost calculation: openai/text-embedding-3-large\n",
      "\u001B[1mselected model name for cost calculation: openai/text-embedding-3-large\u001B[0m\u001B[92m17:39:49 - LiteLLM:INFO\u001B[0m: cost_calculator.py:655 - selected model name for cost calculation: openai/text-embedding-3-large\n",
      "\u001B[1mselected model name for cost calculation: openai/text-embedding-3-large\u001B[0m\u001B[92m17:39:49 - LiteLLM:INFO\u001B[0m: cost_calculator.py:655 - selected model name for cost calculation: openai/text-embedding-3-large\n",
      "\u001B[1mselected model name for cost calculation: openai/text-embedding-3-large\u001B[0m\u001B[92m17:39:49 - LiteLLM:INFO\u001B[0m: cost_calculator.py:655 - selected model name for cost calculation: openai/text-embedding-3-large\n",
      "\u001B[1mselected model name for cost calculation: openai/text-embedding-3-large\u001B[0m\u001B[92m17:39:49 - LiteLLM:INFO\u001B[0m: cost_calculator.py:655 - selected model name for cost calculation: openai/text-embedding-3-large\n",
      "\u001B[1mselected model name for cost calculation: openai/text-embedding-3-large\u001B[0m\u001B[92m17:39:49 - LiteLLM:INFO\u001B[0m: cost_calculator.py:655 - selected model name for cost calculation: openai/text-embedding-3-large\n",
      "\u001B[1mselected model name for cost calculation: openai/text-embedding-3-large\u001B[0m\u001B[92m17:39:49 - LiteLLM:INFO\u001B[0m: cost_calculator.py:655 - selected model name for cost calculation: openai/text-embedding-3-large\n",
      "\u001B[1mselected model name for cost calculation: openai/text-embedding-3-large\u001B[0m\u001B[92m17:39:49 - LiteLLM:INFO\u001B[0m: cost_calculator.py:655 - selected model name for cost calculation: openai/text-embedding-3-large\n",
      "\u001B[1mselected model name for cost calculation: openai/text-embedding-3-large\u001B[0m\u001B[92m17:39:49 - LiteLLM:INFO\u001B[0m: cost_calculator.py:655 - selected model name for cost calculation: openai/text-embedding-3-large\n",
      "\u001B[1mselected model name for cost calculation: openai/text-embedding-3-large\u001B[0m\u001B[92m17:39:49 - LiteLLM:INFO\u001B[0m: cost_calculator.py:655 - selected model name for cost calculation: openai/text-embedding-3-large\n",
      "\u001B[1mselected model name for cost calculation: openai/text-embedding-3-large\u001B[0m\u001B[92m17:39:49 - LiteLLM:INFO\u001B[0m: cost_calculator.py:655 - selected model name for cost calculation: openai/text-embedding-3-large\n",
      "\u001B[1mselected model name for cost calculation: openai/text-embedding-3-large\u001B[0m\u001B[92m17:39:49 - LiteLLM:INFO\u001B[0m: cost_calculator.py:655 - selected model name for cost calculation: openai/text-embedding-3-large\n",
      "\u001B[1mselected model name for cost calculation: openai/text-embedding-3-large\u001B[0m\u001B[92m17:39:49 - LiteLLM:INFO\u001B[0m: cost_calculator.py:655 - selected model name for cost calculation: openai/text-embedding-3-large\n",
      "\u001B[1mselected model name for cost calculation: openai/text-embedding-3-large\u001B[0m\u001B[92m17:39:49 - LiteLLM:INFO\u001B[0m: cost_calculator.py:655 - selected model name for cost calculation: openai/text-embedding-3-large\n",
      "\u001B[1mselected model name for cost calculation: openai/text-embedding-3-large\u001B[0m\u001B[92m17:39:49 - LiteLLM:INFO\u001B[0m: cost_calculator.py:655 - selected model name for cost calculation: openai/text-embedding-3-large\n",
      "\u001B[1mselected model name for cost calculation: openai/text-embedding-3-large\u001B[0m\u001B[92m17:39:51 - LiteLLM:INFO\u001B[0m: cost_calculator.py:655 - selected model name for cost calculation: openai/text-embedding-3-large\n",
      "\u001B[1mselected model name for cost calculation: openai/text-embedding-3-large\u001B[0m\u001B[92m17:39:51 - LiteLLM:INFO\u001B[0m: cost_calculator.py:655 - selected model name for cost calculation: openai/text-embedding-3-large\n",
      "\u001B[1mselected model name for cost calculation: openai/text-embedding-3-large\u001B[0m\u001B[92m17:39:52 - LiteLLM:INFO\u001B[0m: utils.py:2929 - \n",
      "LiteLLM completion() model= gpt-4o-mini; provider = openai\n",
      "\u001B[1m\n",
      "LiteLLM completion() model= gpt-4o-mini; provider = openai\u001B[0m\u001B[92m17:39:54 - LiteLLM:INFO\u001B[0m: cost_calculator.py:655 - selected model name for cost calculation: openai/gpt-4o-mini-2024-07-18\n",
      "\u001B[1mselected model name for cost calculation: openai/gpt-4o-mini-2024-07-18\u001B[0m\u001B[92m17:39:54 - LiteLLM:INFO\u001B[0m: cost_calculator.py:655 - selected model name for cost calculation: openai/gpt-4o-mini-2024-07-18\n",
      "\u001B[1mselected model name for cost calculation: openai/gpt-4o-mini-2024-07-18\u001B[0m"
     ]
    }
   ],
   "source": [
    "results = await search_cognee(\n",
    "    query=\"What pagination do i need in the ticketmaster API?\",\n",
    "    node_set=['developer.ticketmaster.com']\n",
    ")"
   ]
  },
  {
   "cell_type": "markdown",
   "id": "ce04448fd04d751d",
   "metadata": {
    "collapsed": false,
    "jupyter": {
     "outputs_hidden": false
    }
   },
   "source": [
    "# Broad Search"
   ]
  },
  {
   "cell_type": "code",
   "execution_count": 28,
   "id": "eb3f612a6c036393",
   "metadata": {
    "ExecuteTime": {
     "end_time": "2025-06-29T16:07:03.357597200Z",
     "start_time": "2025-06-29T16:06:59.191739900Z"
    },
    "collapsed": false,
    "jupyter": {
     "outputs_hidden": false
    }
   },
   "outputs": [
    {
     "name": "stderr",
     "output_type": "stream",
     "text": [
      "\u001B[92m18:07:00 - LiteLLM:INFO\u001B[0m: cost_calculator.py:655 - selected model name for cost calculation: openai/text-embedding-3-large\n",
      "\u001B[1mselected model name for cost calculation: openai/text-embedding-3-large\u001B[0m\u001B[92m18:07:00 - LiteLLM:INFO\u001B[0m: utils.py:2929 - \n",
      "LiteLLM completion() model= gpt-4o-mini; provider = openai\n",
      "\u001B[1m\n",
      "LiteLLM completion() model= gpt-4o-mini; provider = openai\u001B[0m\u001B[92m18:07:03 - LiteLLM:INFO\u001B[0m: cost_calculator.py:655 - selected model name for cost calculation: openai/gpt-4o-mini-2024-07-18\n",
      "\u001B[1mselected model name for cost calculation: openai/gpt-4o-mini-2024-07-18\u001B[0m\u001B[92m18:07:03 - LiteLLM:INFO\u001B[0m: cost_calculator.py:655 - selected model name for cost calculation: openai/gpt-4o-mini-2024-07-18\n",
      "\u001B[1mselected model name for cost calculation: openai/gpt-4o-mini-2024-07-18\u001B[0m"
     ]
    }
   ],
   "source": [
    "results = await search_cognee('''\n",
    "    What sort of API information is in this knowledge graph?\n",
    "    ''', \n",
    "    node_set=['docs'], query_type=SearchType.RAG_COMPLETION)"
   ]
  },
  {
   "cell_type": "code",
   "execution_count": 29,
   "id": "fe3995eff065dca6",
   "metadata": {
    "ExecuteTime": {
     "end_time": "2025-06-29T16:07:04.721481700Z",
     "start_time": "2025-06-29T16:07:04.688489500Z"
    },
    "collapsed": false,
    "jupyter": {
     "outputs_hidden": false
    }
   },
   "outputs": [
    {
     "name": "stdout",
     "output_type": "stream",
     "text": [
      "The monday.com API information includes the ability to read and update data within a monday.com account using GraphQL. It supports operations on boards, items, column values, users, and workspaces. Use cases for the API involve accessing board data for reports, creating items when records are created in other systems, and importing data. Admins, members, and guests can use the API, with varying levels of access. The API supports multiple monday products, excluding Workforms, and provides a comprehensive GraphQL schema for querying and mutations.\n"
     ]
    }
   ],
   "source": [
    "print(results[0])"
   ]
  },
  {
   "cell_type": "markdown",
   "id": "a08f7e4ac4d6ae0d",
   "metadata": {
    "collapsed": false,
    "jupyter": {
     "outputs_hidden": false
    }
   },
   "source": [
    "Using just the `docs` node set does not work - since it goes over v limited nodes "
   ]
  },
  {
   "cell_type": "markdown",
   "id": "dbb22f5b523bf1fb",
   "metadata": {
    "collapsed": false,
    "jupyter": {
     "outputs_hidden": false
    }
   },
   "source": [
    "# Focused Search"
   ]
  },
  {
   "cell_type": "code",
   "execution_count": 36,
   "id": "79599a974c8d90ab",
   "metadata": {
    "ExecuteTime": {
     "end_time": "2025-06-29T16:10:44.154220100Z",
     "start_time": "2025-06-29T16:10:35.865601Z"
    },
    "collapsed": false,
    "jupyter": {
     "outputs_hidden": false
    }
   },
   "outputs": [
    {
     "name": "stderr",
     "output_type": "stream",
     "text": [
      "\u001B[92m18:10:38 - LiteLLM:INFO\u001B[0m: cost_calculator.py:655 - selected model name for cost calculation: openai/text-embedding-3-large\n",
      "\u001B[1mselected model name for cost calculation: openai/text-embedding-3-large\u001B[0m\u001B[92m18:10:38 - LiteLLM:INFO\u001B[0m: cost_calculator.py:655 - selected model name for cost calculation: openai/text-embedding-3-large\n",
      "\u001B[1mselected model name for cost calculation: openai/text-embedding-3-large\u001B[0m\u001B[92m18:10:38 - LiteLLM:INFO\u001B[0m: cost_calculator.py:655 - selected model name for cost calculation: openai/text-embedding-3-large\n",
      "\u001B[1mselected model name for cost calculation: openai/text-embedding-3-large\u001B[0m\u001B[92m18:10:38 - LiteLLM:INFO\u001B[0m: cost_calculator.py:655 - selected model name for cost calculation: openai/text-embedding-3-large\n",
      "\u001B[1mselected model name for cost calculation: openai/text-embedding-3-large\u001B[0m\u001B[92m18:10:38 - LiteLLM:INFO\u001B[0m: cost_calculator.py:655 - selected model name for cost calculation: openai/text-embedding-3-large\n",
      "\u001B[1mselected model name for cost calculation: openai/text-embedding-3-large\u001B[0m\u001B[92m18:10:38 - LiteLLM:INFO\u001B[0m: cost_calculator.py:655 - selected model name for cost calculation: openai/text-embedding-3-large\n",
      "\u001B[1mselected model name for cost calculation: openai/text-embedding-3-large\u001B[0m\u001B[92m18:10:38 - LiteLLM:INFO\u001B[0m: cost_calculator.py:655 - selected model name for cost calculation: openai/text-embedding-3-large\n",
      "\u001B[1mselected model name for cost calculation: openai/text-embedding-3-large\u001B[0m\u001B[92m18:10:38 - LiteLLM:INFO\u001B[0m: cost_calculator.py:655 - selected model name for cost calculation: openai/text-embedding-3-large\n",
      "\u001B[1mselected model name for cost calculation: openai/text-embedding-3-large\u001B[0m\u001B[92m18:10:38 - LiteLLM:INFO\u001B[0m: cost_calculator.py:655 - selected model name for cost calculation: openai/text-embedding-3-large\n",
      "\u001B[1mselected model name for cost calculation: openai/text-embedding-3-large\u001B[0m\u001B[92m18:10:38 - LiteLLM:INFO\u001B[0m: cost_calculator.py:655 - selected model name for cost calculation: openai/text-embedding-3-large\n",
      "\u001B[1mselected model name for cost calculation: openai/text-embedding-3-large\u001B[0m\u001B[92m18:10:38 - LiteLLM:INFO\u001B[0m: cost_calculator.py:655 - selected model name for cost calculation: openai/text-embedding-3-large\n",
      "\u001B[1mselected model name for cost calculation: openai/text-embedding-3-large\u001B[0m\u001B[92m18:10:38 - LiteLLM:INFO\u001B[0m: cost_calculator.py:655 - selected model name for cost calculation: openai/text-embedding-3-large\n",
      "\u001B[1mselected model name for cost calculation: openai/text-embedding-3-large\u001B[0m\u001B[92m18:10:38 - LiteLLM:INFO\u001B[0m: cost_calculator.py:655 - selected model name for cost calculation: openai/text-embedding-3-large\n",
      "\u001B[1mselected model name for cost calculation: openai/text-embedding-3-large\u001B[0m\u001B[92m18:10:38 - LiteLLM:INFO\u001B[0m: cost_calculator.py:655 - selected model name for cost calculation: openai/text-embedding-3-large\n",
      "\u001B[1mselected model name for cost calculation: openai/text-embedding-3-large\u001B[0m\u001B[92m18:10:38 - LiteLLM:INFO\u001B[0m: cost_calculator.py:655 - selected model name for cost calculation: openai/text-embedding-3-large\n",
      "\u001B[1mselected model name for cost calculation: openai/text-embedding-3-large\u001B[0m\u001B[92m18:10:38 - LiteLLM:INFO\u001B[0m: cost_calculator.py:655 - selected model name for cost calculation: openai/text-embedding-3-large\n",
      "\u001B[1mselected model name for cost calculation: openai/text-embedding-3-large\u001B[0m\u001B[92m18:10:38 - LiteLLM:INFO\u001B[0m: cost_calculator.py:655 - selected model name for cost calculation: openai/text-embedding-3-large\n",
      "\u001B[1mselected model name for cost calculation: openai/text-embedding-3-large\u001B[0m\u001B[92m18:10:38 - LiteLLM:INFO\u001B[0m: cost_calculator.py:655 - selected model name for cost calculation: openai/text-embedding-3-large\n",
      "\u001B[1mselected model name for cost calculation: openai/text-embedding-3-large\u001B[0m\u001B[92m18:10:38 - LiteLLM:INFO\u001B[0m: cost_calculator.py:655 - selected model name for cost calculation: openai/text-embedding-3-large\n",
      "\u001B[1mselected model name for cost calculation: openai/text-embedding-3-large\u001B[0m\u001B[92m18:10:38 - LiteLLM:INFO\u001B[0m: cost_calculator.py:655 - selected model name for cost calculation: openai/text-embedding-3-large\n",
      "\u001B[1mselected model name for cost calculation: openai/text-embedding-3-large\u001B[0m\u001B[92m18:10:38 - LiteLLM:INFO\u001B[0m: cost_calculator.py:655 - selected model name for cost calculation: openai/text-embedding-3-large\n",
      "\u001B[1mselected model name for cost calculation: openai/text-embedding-3-large\u001B[0m\u001B[92m18:10:40 - LiteLLM:INFO\u001B[0m: cost_calculator.py:655 - selected model name for cost calculation: openai/text-embedding-3-large\n",
      "\u001B[1mselected model name for cost calculation: openai/text-embedding-3-large\u001B[0m\u001B[92m18:10:40 - LiteLLM:INFO\u001B[0m: cost_calculator.py:655 - selected model name for cost calculation: openai/text-embedding-3-large\n",
      "\u001B[1mselected model name for cost calculation: openai/text-embedding-3-large\u001B[0m\u001B[92m18:10:41 - LiteLLM:INFO\u001B[0m: utils.py:2929 - \n",
      "LiteLLM completion() model= gpt-4o-mini; provider = openai\n",
      "\u001B[1m\n",
      "LiteLLM completion() model= gpt-4o-mini; provider = openai\u001B[0m\u001B[92m18:10:43 - LiteLLM:INFO\u001B[0m: cost_calculator.py:655 - selected model name for cost calculation: openai/gpt-4o-mini-2024-07-18\n",
      "\u001B[1mselected model name for cost calculation: openai/gpt-4o-mini-2024-07-18\u001B[0m\u001B[92m18:10:44 - LiteLLM:INFO\u001B[0m: cost_calculator.py:655 - selected model name for cost calculation: openai/gpt-4o-mini-2024-07-18\n",
      "\u001B[1mselected model name for cost calculation: openai/gpt-4o-mini-2024-07-18\u001B[0m"
     ]
    }
   ],
   "source": [
    "results = await search_cognee('''\n",
    "    What sort of API information is in this knowledge graph?\n",
    "    ''', \n",
    "    node_set=['developer.ticketmaster.com'])"
   ]
  },
  {
   "cell_type": "code",
   "execution_count": 37,
   "id": "e4c7c76523e2bb10",
   "metadata": {
    "ExecuteTime": {
     "end_time": "2025-06-29T16:10:44.169840500Z",
     "start_time": "2025-06-29T16:10:44.154220100Z"
    },
    "collapsed": false,
    "jupyter": {
     "outputs_hidden": false
    }
   },
   "outputs": [
    {
     "name": "stdout",
     "output_type": "stream",
     "text": [
      "The knowledge graph contains information about various types of APIs, including 'publish api', 'presence api', 'top picks api', 'partner api', 'international discovery api', and 'discovery api'. These APIs are categorized under a general 'api' node, with relationships indicating that each specific API is a type of the general API.\n"
     ]
    }
   ],
   "source": [
    "print(results[0])"
   ]
  }
 ],
 "metadata": {
  "kernelspec": {
   "display_name": "Python 3 (ipykernel)",
   "language": "python",
   "name": "python3"
  },
  "language_info": {
   "codemirror_mode": {
    "name": "ipython",
    "version": 3
   },
   "file_extension": ".py",
   "mimetype": "text/x-python",
   "name": "python",
   "nbconvert_exporter": "python",
   "pygments_lexer": "ipython3",
   "version": "3.12.11"
  }
 },
 "nbformat": 4,
 "nbformat_minor": 5
}
