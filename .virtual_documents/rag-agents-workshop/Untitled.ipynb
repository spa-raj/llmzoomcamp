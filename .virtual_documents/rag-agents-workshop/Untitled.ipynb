import random


known_weather_data = {
    'berlin': 20.0
}

def get_weather(city: str) -> float:
    city = city.strip().lower()

    if city in known_weather_data:
        return known_weather_data[city]

    return round(random.uniform(-5, 35), 1)





get_weather_tool = {
    "type": "function",
    "name": "get_weather",
    "description": "Get the current temperature of a given city.",
    "parameters": {
        "type": "object",
        "properties": {
            "city": {
                "type": "string",
                "description": "City name to get the current temperature"
            }
        },
        "required": [
            "city"
        ],
        "additionalProperties": False
    }
}





wget 'https://raw.githubusercontent.com/alexeygrigorev/rag-agents-workshop/refs/heads/main/chat_assistant.py'
