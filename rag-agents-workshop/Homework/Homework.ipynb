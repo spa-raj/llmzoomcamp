{
 "cells": [
  {
   "cell_type": "code",
   "execution_count": 2,
   "id": "a0fdd8e8-17e0-4da9-a102-731f20719855",
   "metadata": {
    "ExecuteTime": {
     "end_time": "2025-07-20T14:25:20.470048Z",
     "start_time": "2025-07-20T14:25:20.467864Z"
    }
   },
   "outputs": [],
   "source": [
    "import random"
   ]
  },
  {
   "cell_type": "code",
   "execution_count": 3,
   "id": "6c305047-1147-4a21-894d-17d983a254db",
   "metadata": {},
   "outputs": [],
   "source": [
    "known_weather_data = {\n",
    "    'berlin': 20.0\n",
    "}\n",
    "\n",
    "def get_weather(city: str) -> float:\n",
    "    city = city.strip().lower()\n",
    "\n",
    "    if city in known_weather_data:\n",
    "        return known_weather_data[city]\n",
    "\n",
    "    return round(random.uniform(-5, 35), 1)"
   ]
  },
  {
   "cell_type": "markdown",
   "id": "c25c8032-35df-4d00-b3bb-d093a008ec9c",
   "metadata": {},
   "source": [
    "## Q1. Define function description\n",
    "\n",
    "We want to use it as a tool for our agent, so we need to \n",
    "describe it \n",
    "\n",
    "How should the description for this function look like? Fill in missing parts\n",
    "\n",
    "```python\n",
    "get_weather_tool = {\n",
    "    \"type\": \"function\",\n",
    "    \"name\": \"<TODO1>\",\n",
    "    \"description\": \"<TODO2>\",\n",
    "    \"parameters\": {\n",
    "        \"type\": \"object\",\n",
    "        \"properties\": {\n",
    "            \"<TODO3>\": {\n",
    "                \"type\": \"string\",\n",
    "                \"description\": \"<TODO4>\"\n",
    "            }\n",
    "        },\n",
    "        \"required\": [TODO5],\n",
    "        \"additionalProperties\": False\n",
    "    }\n",
    "}\n",
    "```\n",
    "\n",
    "What did you put in `TODO3`?"
   ]
  },
  {
   "cell_type": "code",
   "execution_count": 4,
   "id": "736ac422-a124-43ec-957a-808fa40f7d42",
   "metadata": {},
   "outputs": [],
   "source": [
    "get_weather_tool = {\n",
    "    \"type\": \"function\",\n",
    "    \"name\": \"get_weather\",\n",
    "    \"description\": \"Get current temperature for a given city.\",\n",
    "    \"parameters\": {\n",
    "        \"type\": \"object\",\n",
    "        \"properties\": {\n",
    "            \"city\": {\n",
    "                \"type\": \"string\",\n",
    "                \"description\": \"City, eg. Berlin, New Delhi\"\n",
    "            }\n",
    "        },\n",
    "        \"required\": [\n",
    "            \"city\"\n",
    "        ],\n",
    "        \"additionalProperties\": False\n",
    "    }\n",
    "}"
   ]
  },
  {
   "cell_type": "markdown",
   "id": "af328702252fd8d1",
   "metadata": {},
   "source": [
    "## Testing it (Optional)\n",
    "\n",
    "If you have OpenAI Key (or alternative provider),\n",
    "let's test it.\n",
    "\n",
    "A question could be \"What's the weather like in Germany?\"\n",
    "\n",
    "Experiment with different system prompts to have better answers\n",
    "from the system.\n",
    "\n",
    "You can use [chat_assistant.py](https://github.com/alexeygrigorev/rag-agents-workshop/blob/main/chat_assistant.py)\n",
    "or implement everything yourself \n",
    "\n",
    "```bash\n",
    "wget https://raw.githubusercontent.com/alexeygrigorev/rag-agents-workshop/refs/heads/main/chat_assistant.py\n",
    "```"
   ]
  },
  {
   "cell_type": "code",
   "execution_count": 5,
   "id": "2b25912554dabd19",
   "metadata": {},
   "outputs": [],
   "source": [
    "from openai import OpenAI\n",
    "import chat_assistant"
   ]
  },
  {
   "cell_type": "code",
   "execution_count": 14,
   "id": "1c4d763f-5923-4d45-b236-1acac867f313",
   "metadata": {
    "ExecuteTime": {
     "end_time": "2025-07-16T09:46:50.581926Z",
     "start_time": "2025-07-16T09:46:50.502748Z"
    }
   },
   "outputs": [],
   "source": [
    "client = OpenAI()"
   ]
  },
  {
   "cell_type": "code",
   "execution_count": 15,
   "id": "61d5509c5d3c8be9",
   "metadata": {
    "ExecuteTime": {
     "end_time": "2025-07-16T09:47:24.801603Z",
     "start_time": "2025-07-16T09:47:24.799349Z"
    }
   },
   "outputs": [
    {
     "data": {
      "text/plain": [
       "[{'type': 'function',\n",
       "  'name': 'get_weather',\n",
       "  'description': 'Get current temperature for a given city.',\n",
       "  'parameters': {'type': 'object',\n",
       "   'properties': {'city': {'type': 'string',\n",
       "     'description': 'City, eg. Berlin, New Delhi'}},\n",
       "   'required': ['city'],\n",
       "   'additionalProperties': False}}]"
      ]
     },
     "execution_count": 15,
     "metadata": {},
     "output_type": "execute_result"
    }
   ],
   "source": [
    "tools = chat_assistant.Tools()\n",
    "\n",
    "tools.add_tool(get_weather, get_weather_tool)\n",
    "tools.get_tools()"
   ]
  },
  {
   "cell_type": "code",
   "execution_count": 16,
   "id": "6f17733b-837c-4e1a-8862-c40fe24307c0",
   "metadata": {},
   "outputs": [],
   "source": [
    "developer_prompt = \"\"\"\n",
    "You are a helpful assistant that can provide the current temperature for a given city.\n",
    "Use the available tools to answer user questions about the weather.\n",
    "If the user asks about a country, ask them to specify a city.\n",
    "\"\"\".strip()"
   ]
  },
  {
   "cell_type": "code",
   "execution_count": 17,
   "id": "b09600e7-cb27-40f6-ba8b-25e78ab084fa",
   "metadata": {},
   "outputs": [],
   "source": [
    "chat_interface = chat_assistant.ChatInterface()\n",
    "chat = chat_assistant.ChatAssistant(\n",
    "    tools=tools,\n",
    "    developer_prompt=developer_prompt,\n",
    "    chat_interface=chat_interface,\n",
    "    client=client\n",
    ")"
   ]
  },
  {
   "cell_type": "code",
   "execution_count": 18,
   "id": "84e20c54-62fa-4951-bbc0-a277bc908f50",
   "metadata": {},
   "outputs": [
    {
     "name": "stdin",
     "output_type": "stream",
     "text": [
      "You: What's the weather in Berlin?\n"
     ]
    },
    {
     "data": {
      "text/html": [
       "\n",
       "            <details>\n",
       "            <summary>Function call: <tt>get_weather({\"city\":\"Berlin\"})</tt></summary>\n",
       "            <div>\n",
       "                <b>Call</b>\n",
       "                <pre>ResponseFunctionToolCall(arguments='{\"city\":\"Berlin\"}', call_id='call_dgsNK8i8GgZR8CqRXcwc9FgR', name='get_weather', type='function_call', id='fc_687d0657b6e48191a84a176cfefeed770a7bf8e1e5a8019d', status='completed')</pre>\n",
       "            </div>\n",
       "            <div>\n",
       "                <b>Output</b>\n",
       "                <pre>20.0</pre>\n",
       "            </div>\n",
       "            \n",
       "            </details>\n",
       "        "
      ],
      "text/plain": [
       "<IPython.core.display.HTML object>"
      ]
     },
     "metadata": {},
     "output_type": "display_data"
    },
    {
     "data": {
      "text/html": [
       "\n",
       "            <div>\n",
       "                <div><b>Assistant:</b></div>\n",
       "                <div><p>The current temperature in Berlin is 20°C.</p></div>\n",
       "            </div>\n",
       "        "
      ],
      "text/plain": [
       "<IPython.core.display.HTML object>"
      ]
     },
     "metadata": {},
     "output_type": "display_data"
    },
    {
     "name": "stdin",
     "output_type": "stream",
     "text": [
      "You: What's the weather in Delhi?\n"
     ]
    },
    {
     "data": {
      "text/html": [
       "\n",
       "            <details>\n",
       "            <summary>Function call: <tt>get_weather({\"city\":\"New Delhi\"})</tt></summary>\n",
       "            <div>\n",
       "                <b>Call</b>\n",
       "                <pre>ResponseFunctionToolCall(arguments='{\"city\":\"New Delhi\"}', call_id='call_VsiJkLFldIbhW6LDTKBoTWGs', name='get_weather', type='function_call', id='fc_687d0669fe808191b716b461bde10eab0a7bf8e1e5a8019d', status='completed')</pre>\n",
       "            </div>\n",
       "            <div>\n",
       "                <b>Output</b>\n",
       "                <pre>28.8</pre>\n",
       "            </div>\n",
       "            \n",
       "            </details>\n",
       "        "
      ],
      "text/plain": [
       "<IPython.core.display.HTML object>"
      ]
     },
     "metadata": {},
     "output_type": "display_data"
    },
    {
     "data": {
      "text/html": [
       "\n",
       "            <div>\n",
       "                <div><b>Assistant:</b></div>\n",
       "                <div><p>The current temperature in New Delhi is 28.8°C.</p></div>\n",
       "            </div>\n",
       "        "
      ],
      "text/plain": [
       "<IPython.core.display.HTML object>"
      ]
     },
     "metadata": {},
     "output_type": "display_data"
    },
    {
     "name": "stdin",
     "output_type": "stream",
     "text": [
      "You: What's the weather in Delhi?\n"
     ]
    },
    {
     "data": {
      "text/html": [
       "\n",
       "            <details>\n",
       "            <summary>Function call: <tt>get_weather({\"city\":\"New Delhi\"})</tt></summary>\n",
       "            <div>\n",
       "                <b>Call</b>\n",
       "                <pre>ResponseFunctionToolCall(arguments='{\"city\":\"New Delhi\"}', call_id='call_XhrShH8s11S7G8TRXK0r8t9h', name='get_weather', type='function_call', id='fc_687d066e82688191b66538cc2459a9030a7bf8e1e5a8019d', status='completed')</pre>\n",
       "            </div>\n",
       "            <div>\n",
       "                <b>Output</b>\n",
       "                <pre>-4.5</pre>\n",
       "            </div>\n",
       "            \n",
       "            </details>\n",
       "        "
      ],
      "text/plain": [
       "<IPython.core.display.HTML object>"
      ]
     },
     "metadata": {},
     "output_type": "display_data"
    },
    {
     "data": {
      "text/html": [
       "\n",
       "            <div>\n",
       "                <div><b>Assistant:</b></div>\n",
       "                <div><p>The current temperature in New Delhi is -4.5°C. This seems unusually low; please check local sources for confirmation.</p></div>\n",
       "            </div>\n",
       "        "
      ],
      "text/plain": [
       "<IPython.core.display.HTML object>"
      ]
     },
     "metadata": {},
     "output_type": "display_data"
    },
    {
     "name": "stdin",
     "output_type": "stream",
     "text": [
      "You: What's the weather in Kolkata?\n"
     ]
    },
    {
     "data": {
      "text/html": [
       "\n",
       "            <details>\n",
       "            <summary>Function call: <tt>get_weather({\"city\":\"Kolkata\"})</tt></summary>\n",
       "            <div>\n",
       "                <b>Call</b>\n",
       "                <pre>ResponseFunctionToolCall(arguments='{\"city\":\"Kolkata\"}', call_id='call_sfgFK5grTrF8I60uBk1BPBuh', name='get_weather', type='function_call', id='fc_687d0676d8b08191bc9cbbd0af10ac190a7bf8e1e5a8019d', status='completed')</pre>\n",
       "            </div>\n",
       "            <div>\n",
       "                <b>Output</b>\n",
       "                <pre>20.0</pre>\n",
       "            </div>\n",
       "            \n",
       "            </details>\n",
       "        "
      ],
      "text/plain": [
       "<IPython.core.display.HTML object>"
      ]
     },
     "metadata": {},
     "output_type": "display_data"
    },
    {
     "data": {
      "text/html": [
       "\n",
       "            <div>\n",
       "                <div><b>Assistant:</b></div>\n",
       "                <div><p>The current temperature in Kolkata is 20°C.</p></div>\n",
       "            </div>\n",
       "        "
      ],
      "text/plain": [
       "<IPython.core.display.HTML object>"
      ]
     },
     "metadata": {},
     "output_type": "display_data"
    },
    {
     "name": "stdin",
     "output_type": "stream",
     "text": [
      "You: stop\n"
     ]
    },
    {
     "name": "stdout",
     "output_type": "stream",
     "text": [
      "Chat ended.\n"
     ]
    }
   ],
   "source": [
    "chat.run()"
   ]
  },
  {
   "cell_type": "markdown",
   "id": "daec3eea-4652-44b9-bd37-b62cdf8bcd76",
   "metadata": {},
   "source": [
    "## Q2. Adding another tool\n",
    "\n",
    "Let's add another tool - a function that can add weather data\n",
    "to our database:\n",
    "\n",
    "```python\n",
    "def set_weather(city: str, temp: float) -> None:\n",
    "    city = city.strip().lower()\n",
    "    known_weather_data[city] = temp\n",
    "    return 'OK'\n",
    "```\n",
    "\n",
    "Now let's write a description for it.\n",
    "\n",
    "What did you write?\n",
    "\n",
    "Optionally, you can test it after adding this function."
   ]
  },
  {
   "cell_type": "code",
   "execution_count": 19,
   "id": "10bde53e-9c48-4b99-88fb-f4ddaa3430bd",
   "metadata": {},
   "outputs": [],
   "source": [
    "def set_weather(city: str, temp: float) -> None:\n",
    "    city = city.strip().lower()\n",
    "    known_weather_data[city] = temp\n",
    "    return 'OK'"
   ]
  },
  {
   "cell_type": "code",
   "execution_count": 20,
   "id": "735703f3-0dd0-4577-bc19-a5f2496ac508",
   "metadata": {},
   "outputs": [],
   "source": [
    "set_weather_tool = {\n",
    "    \"type\": \"function\",\n",
    "    \"name\": \"set_weather\",\n",
    "    \"description\": \"Set the current temperature of a given city.\",\n",
    "    \"parameters\": {\n",
    "        \"type\": \"object\",\n",
    "        \"properties\": {\n",
    "            \"city\": {\n",
    "                \"type\": \"string\",\n",
    "                \"description\": \"City name to set the current temperature\"\n",
    "            },\n",
    "            \"temp\":{\n",
    "                \"type\": \"number\",\n",
    "                \"descripton\": \"Current temperature of the city\"\n",
    "            }\n",
    "        },\n",
    "        \"required\": [\n",
    "            \"city\",\n",
    "            \"temp\"\n",
    "        ],\n",
    "        \"additionalProperties\": False\n",
    "    }\n",
    "}"
   ]
  },
  {
   "cell_type": "code",
   "execution_count": 21,
   "id": "db1ddcd4-9edb-4685-ad3c-ac3c17b5482a",
   "metadata": {},
   "outputs": [],
   "source": [
    "tools.add_tool(set_weather, set_weather_tool)\n",
    "\n",
    "developer_prompt = \"\"\"\n",
    "You are a helpful assistant that can get and set the current temperature for a given city.\n",
    "Use the available tools to answer user questions about the weather.\n",
    "If the user asks about a country, ask them to specify a city.\n",
    "When a user provides a temperature for a city, use the set_weather tool.\n",
    "\"\"\".strip()\n",
    "\n",
    "chat_interface = chat_assistant.ChatInterface()\n",
    "\n",
    "chat = chat_assistant.ChatAssistant(\n",
    "    tools=tools,\n",
    "    developer_prompt=developer_prompt,\n",
    "    chat_interface=chat_interface,\n",
    "    client=client\n",
    ")"
   ]
  },
  {
   "cell_type": "code",
   "execution_count": 22,
   "id": "9e1336a7-0a72-4919-916f-eaaa07925c9c",
   "metadata": {
    "scrolled": true
   },
   "outputs": [
    {
     "name": "stdin",
     "output_type": "stream",
     "text": [
      "You: What's the weather in Kolkata?\n"
     ]
    },
    {
     "data": {
      "text/html": [
       "\n",
       "            <details>\n",
       "            <summary>Function call: <tt>get_weather({\"city\":\"Kolkata\"})</tt></summary>\n",
       "            <div>\n",
       "                <b>Call</b>\n",
       "                <pre>ResponseFunctionToolCall(arguments='{\"city\":\"Kolkata\"}', call_id='call_9ZHEt6B1GD8BYYcKPUV59YJd', name='get_weather', type='function_call', id='fc_687d068fa4a4819e926c72f3c13a512a08258872b2d4c254', status='completed')</pre>\n",
       "            </div>\n",
       "            <div>\n",
       "                <b>Output</b>\n",
       "                <pre>26.2</pre>\n",
       "            </div>\n",
       "            \n",
       "            </details>\n",
       "        "
      ],
      "text/plain": [
       "<IPython.core.display.HTML object>"
      ]
     },
     "metadata": {},
     "output_type": "display_data"
    },
    {
     "data": {
      "text/html": [
       "\n",
       "            <div>\n",
       "                <div><b>Assistant:</b></div>\n",
       "                <div><p>The current temperature in Kolkata is 26.2°C.</p></div>\n",
       "            </div>\n",
       "        "
      ],
      "text/plain": [
       "<IPython.core.display.HTML object>"
      ]
     },
     "metadata": {},
     "output_type": "display_data"
    },
    {
     "name": "stdin",
     "output_type": "stream",
     "text": [
      "You: Set the temperature in kolkata to 34 degrees celsius.\n"
     ]
    },
    {
     "data": {
      "text/html": [
       "\n",
       "            <details>\n",
       "            <summary>Function call: <tt>set_weather({\"city\":\"Kolkata\",\"temp\":34})</tt></summary>\n",
       "            <div>\n",
       "                <b>Call</b>\n",
       "                <pre>ResponseFunctionToolCall(arguments='{\"city\":\"Kolkata\",\"temp\":34}', call_id='call_6LbNMlpjvJVxSbogkga6YT3Y', name='set_weather', type='function_call', id='fc_687d06ad20bc819e99165a9d62a8c69308258872b2d4c254', status='completed')</pre>\n",
       "            </div>\n",
       "            <div>\n",
       "                <b>Output</b>\n",
       "                <pre>\"OK\"</pre>\n",
       "            </div>\n",
       "            \n",
       "            </details>\n",
       "        "
      ],
      "text/plain": [
       "<IPython.core.display.HTML object>"
      ]
     },
     "metadata": {},
     "output_type": "display_data"
    },
    {
     "data": {
      "text/html": [
       "\n",
       "            <div>\n",
       "                <div><b>Assistant:</b></div>\n",
       "                <div><p>The temperature in Kolkata has been set to 34°C.</p></div>\n",
       "            </div>\n",
       "        "
      ],
      "text/plain": [
       "<IPython.core.display.HTML object>"
      ]
     },
     "metadata": {},
     "output_type": "display_data"
    },
    {
     "name": "stdin",
     "output_type": "stream",
     "text": [
      "You: What's the weather in Kolkata?\n"
     ]
    },
    {
     "data": {
      "text/html": [
       "\n",
       "            <details>\n",
       "            <summary>Function call: <tt>get_weather({\"city\":\"Kolkata\"})</tt></summary>\n",
       "            <div>\n",
       "                <b>Call</b>\n",
       "                <pre>ResponseFunctionToolCall(arguments='{\"city\":\"Kolkata\"}', call_id='call_bdq9YQGavJGAJ5CTw4zbAeb0', name='get_weather', type='function_call', id='fc_687d06b544f0819eb1cddf22f323331708258872b2d4c254', status='completed')</pre>\n",
       "            </div>\n",
       "            <div>\n",
       "                <b>Output</b>\n",
       "                <pre>34</pre>\n",
       "            </div>\n",
       "            \n",
       "            </details>\n",
       "        "
      ],
      "text/plain": [
       "<IPython.core.display.HTML object>"
      ]
     },
     "metadata": {},
     "output_type": "display_data"
    },
    {
     "data": {
      "text/html": [
       "\n",
       "            <div>\n",
       "                <div><b>Assistant:</b></div>\n",
       "                <div><p>The current temperature in Kolkata is 34°C.</p></div>\n",
       "            </div>\n",
       "        "
      ],
      "text/plain": [
       "<IPython.core.display.HTML object>"
      ]
     },
     "metadata": {},
     "output_type": "display_data"
    },
    {
     "name": "stdin",
     "output_type": "stream",
     "text": [
      "You: What's the weather in Berlin?\n"
     ]
    },
    {
     "data": {
      "text/html": [
       "\n",
       "            <details>\n",
       "            <summary>Function call: <tt>get_weather({\"city\":\"Berlin\"})</tt></summary>\n",
       "            <div>\n",
       "                <b>Call</b>\n",
       "                <pre>ResponseFunctionToolCall(arguments='{\"city\":\"Berlin\"}', call_id='call_EIVO6Cc91kZii5P6Jj3mYgnS', name='get_weather', type='function_call', id='fc_687d06c0c01c819e8e48cba448f14c8708258872b2d4c254', status='completed')</pre>\n",
       "            </div>\n",
       "            <div>\n",
       "                <b>Output</b>\n",
       "                <pre>20.0</pre>\n",
       "            </div>\n",
       "            \n",
       "            </details>\n",
       "        "
      ],
      "text/plain": [
       "<IPython.core.display.HTML object>"
      ]
     },
     "metadata": {},
     "output_type": "display_data"
    },
    {
     "data": {
      "text/html": [
       "\n",
       "            <div>\n",
       "                <div><b>Assistant:</b></div>\n",
       "                <div><p>The current temperature in Berlin is 20.0°C.</p></div>\n",
       "            </div>\n",
       "        "
      ],
      "text/plain": [
       "<IPython.core.display.HTML object>"
      ]
     },
     "metadata": {},
     "output_type": "display_data"
    },
    {
     "name": "stdin",
     "output_type": "stream",
     "text": [
      "You: Set the temp in Berlin to 15 degrees.\n"
     ]
    },
    {
     "data": {
      "text/html": [
       "\n",
       "            <details>\n",
       "            <summary>Function call: <tt>set_weather({\"city\":\"Berlin\",\"temp\":15})</tt></summary>\n",
       "            <div>\n",
       "                <b>Call</b>\n",
       "                <pre>ResponseFunctionToolCall(arguments='{\"city\":\"Berlin\",\"temp\":15}', call_id='call_33wJhKTQhSP60gkHeQymsuGQ', name='set_weather', type='function_call', id='fc_687d06d04288819eb71a482c4591adbd08258872b2d4c254', status='completed')</pre>\n",
       "            </div>\n",
       "            <div>\n",
       "                <b>Output</b>\n",
       "                <pre>\"OK\"</pre>\n",
       "            </div>\n",
       "            \n",
       "            </details>\n",
       "        "
      ],
      "text/plain": [
       "<IPython.core.display.HTML object>"
      ]
     },
     "metadata": {},
     "output_type": "display_data"
    },
    {
     "data": {
      "text/html": [
       "\n",
       "            <div>\n",
       "                <div><b>Assistant:</b></div>\n",
       "                <div><p>The temperature in Berlin has been set to 15°C.</p></div>\n",
       "            </div>\n",
       "        "
      ],
      "text/plain": [
       "<IPython.core.display.HTML object>"
      ]
     },
     "metadata": {},
     "output_type": "display_data"
    },
    {
     "name": "stdin",
     "output_type": "stream",
     "text": [
      "You: What's the weather in Berlin?\n"
     ]
    },
    {
     "data": {
      "text/html": [
       "\n",
       "            <details>\n",
       "            <summary>Function call: <tt>get_weather({\"city\":\"Berlin\"})</tt></summary>\n",
       "            <div>\n",
       "                <b>Call</b>\n",
       "                <pre>ResponseFunctionToolCall(arguments='{\"city\":\"Berlin\"}', call_id='call_I5PtAXQ82DYFAT8rxNf6Zfgy', name='get_weather', type='function_call', id='fc_687d06d952a0819e9190e796e249227c08258872b2d4c254', status='completed')</pre>\n",
       "            </div>\n",
       "            <div>\n",
       "                <b>Output</b>\n",
       "                <pre>15</pre>\n",
       "            </div>\n",
       "            \n",
       "            </details>\n",
       "        "
      ],
      "text/plain": [
       "<IPython.core.display.HTML object>"
      ]
     },
     "metadata": {},
     "output_type": "display_data"
    },
    {
     "data": {
      "text/html": [
       "\n",
       "            <div>\n",
       "                <div><b>Assistant:</b></div>\n",
       "                <div><p>The current temperature in Berlin is 15°C.</p></div>\n",
       "            </div>\n",
       "        "
      ],
      "text/plain": [
       "<IPython.core.display.HTML object>"
      ]
     },
     "metadata": {},
     "output_type": "display_data"
    },
    {
     "name": "stdin",
     "output_type": "stream",
     "text": [
      "You: stop\n"
     ]
    },
    {
     "name": "stdout",
     "output_type": "stream",
     "text": [
      "Chat ended.\n"
     ]
    }
   ],
   "source": [
    "chat.run()"
   ]
  },
  {
   "cell_type": "markdown",
   "id": "d78bb222-4a0c-40aa-8fcd-2fb956a8a84e",
   "metadata": {},
   "source": [
    "## MCP\n",
    "\n",
    "MCP stands for Model-Context Protocol. It allows LLMs communicate\n",
    "with different tools (like Qdrant). It's function calling, but \n",
    "one step further:\n",
    "\n",
    "* A tool can export a list of functions it has\n",
    "* When we include the tool to our Agent, we just need to include the link to the MCP server"
   ]
  },
  {
   "cell_type": "markdown",
   "id": "1a2e4fe1-fb3c-4f00-b0a5-378712edffc9",
   "metadata": {},
   "source": [
    "## Q3. Install FastMCP\n",
    "\n",
    "Let's install a library for MCP - [FastMCP](https://github.com/jlowin/fastmcp):\n",
    "\n",
    "```bash\n",
    "pip install fastmcp\n",
    "```\n",
    "\n",
    "What's the version of FastMCP you installed?"
   ]
  },
  {
   "cell_type": "code",
   "execution_count": 23,
   "id": "ecb863ff-b2c0-4f06-94c0-e7c33ab1817f",
   "metadata": {
    "scrolled": true
   },
   "outputs": [
    {
     "name": "stdout",
     "output_type": "stream",
     "text": [
      "Requirement already satisfied: fastmcp in /home/sparsh-raj/anaconda3/lib/python3.12/site-packages (2.10.5)\n",
      "Requirement already satisfied: authlib>=1.5.2 in /home/sparsh-raj/anaconda3/lib/python3.12/site-packages (from fastmcp) (1.6.0)\n",
      "Requirement already satisfied: cyclopts>=3.0.0 in /home/sparsh-raj/anaconda3/lib/python3.12/site-packages (from fastmcp) (3.22.2)\n",
      "Requirement already satisfied: exceptiongroup>=1.2.2 in /home/sparsh-raj/anaconda3/lib/python3.12/site-packages (from fastmcp) (1.3.0)\n",
      "Requirement already satisfied: httpx>=0.28.1 in /home/sparsh-raj/anaconda3/lib/python3.12/site-packages (from fastmcp) (0.28.1)\n",
      "Requirement already satisfied: mcp>=1.10.0 in /home/sparsh-raj/anaconda3/lib/python3.12/site-packages (from fastmcp) (1.11.0)\n",
      "Requirement already satisfied: openapi-pydantic>=0.5.1 in /home/sparsh-raj/anaconda3/lib/python3.12/site-packages (from fastmcp) (0.5.1)\n",
      "Requirement already satisfied: pydantic>=2.11.7 in /home/sparsh-raj/anaconda3/lib/python3.12/site-packages (from pydantic[email]>=2.11.7->fastmcp) (2.11.7)\n",
      "Requirement already satisfied: pyperclip>=1.9.0 in /home/sparsh-raj/anaconda3/lib/python3.12/site-packages (from fastmcp) (1.9.0)\n",
      "Requirement already satisfied: python-dotenv>=1.1.0 in /home/sparsh-raj/anaconda3/lib/python3.12/site-packages (from fastmcp) (1.1.1)\n",
      "Requirement already satisfied: rich>=13.9.4 in /home/sparsh-raj/anaconda3/lib/python3.12/site-packages (from fastmcp) (14.0.0)\n",
      "Requirement already satisfied: cryptography in /home/sparsh-raj/anaconda3/lib/python3.12/site-packages (from authlib>=1.5.2->fastmcp) (42.0.5)\n",
      "Requirement already satisfied: attrs>=23.1.0 in /home/sparsh-raj/anaconda3/lib/python3.12/site-packages (from cyclopts>=3.0.0->fastmcp) (23.1.0)\n",
      "Requirement already satisfied: docstring-parser>=0.15 in /home/sparsh-raj/anaconda3/lib/python3.12/site-packages (from cyclopts>=3.0.0->fastmcp) (0.16)\n",
      "Requirement already satisfied: rich-rst<2.0.0,>=1.3.1 in /home/sparsh-raj/anaconda3/lib/python3.12/site-packages (from cyclopts>=3.0.0->fastmcp) (1.3.1)\n",
      "Requirement already satisfied: docutils in /home/sparsh-raj/anaconda3/lib/python3.12/site-packages (from rich-rst<2.0.0,>=1.3.1->cyclopts>=3.0.0->fastmcp) (0.18.1)\n",
      "Requirement already satisfied: typing-extensions>=4.6.0 in /home/sparsh-raj/anaconda3/lib/python3.12/site-packages (from exceptiongroup>=1.2.2->fastmcp) (4.12.2)\n",
      "Requirement already satisfied: anyio in /home/sparsh-raj/anaconda3/lib/python3.12/site-packages (from httpx>=0.28.1->fastmcp) (4.9.0)\n",
      "Requirement already satisfied: certifi in /home/sparsh-raj/anaconda3/lib/python3.12/site-packages (from httpx>=0.28.1->fastmcp) (2025.6.15)\n",
      "Requirement already satisfied: httpcore==1.* in /home/sparsh-raj/anaconda3/lib/python3.12/site-packages (from httpx>=0.28.1->fastmcp) (1.0.7)\n",
      "Requirement already satisfied: idna in /home/sparsh-raj/anaconda3/lib/python3.12/site-packages (from httpx>=0.28.1->fastmcp) (3.7)\n",
      "Requirement already satisfied: h11<0.15,>=0.13 in /home/sparsh-raj/anaconda3/lib/python3.12/site-packages (from httpcore==1.*->httpx>=0.28.1->fastmcp) (0.14.0)\n",
      "Requirement already satisfied: httpx-sse>=0.4 in /home/sparsh-raj/anaconda3/lib/python3.12/site-packages (from mcp>=1.10.0->fastmcp) (0.4.0)\n",
      "Requirement already satisfied: jsonschema>=4.20.0 in /home/sparsh-raj/anaconda3/lib/python3.12/site-packages (from mcp>=1.10.0->fastmcp) (4.24.0)\n",
      "Requirement already satisfied: pydantic-settings>=2.5.2 in /home/sparsh-raj/anaconda3/lib/python3.12/site-packages (from mcp>=1.10.0->fastmcp) (2.10.1)\n",
      "Requirement already satisfied: python-multipart>=0.0.9 in /home/sparsh-raj/anaconda3/lib/python3.12/site-packages (from mcp>=1.10.0->fastmcp) (0.0.20)\n",
      "Requirement already satisfied: sse-starlette>=1.6.1 in /home/sparsh-raj/anaconda3/lib/python3.12/site-packages (from mcp>=1.10.0->fastmcp) (2.4.1)\n",
      "Requirement already satisfied: starlette>=0.27 in /home/sparsh-raj/anaconda3/lib/python3.12/site-packages (from mcp>=1.10.0->fastmcp) (0.45.3)\n",
      "Requirement already satisfied: uvicorn>=0.23.1 in /home/sparsh-raj/anaconda3/lib/python3.12/site-packages (from mcp>=1.10.0->fastmcp) (0.35.0)\n",
      "Requirement already satisfied: annotated-types>=0.6.0 in /home/sparsh-raj/anaconda3/lib/python3.12/site-packages (from pydantic>=2.11.7->pydantic[email]>=2.11.7->fastmcp) (0.6.0)\n",
      "Requirement already satisfied: pydantic-core==2.33.2 in /home/sparsh-raj/anaconda3/lib/python3.12/site-packages (from pydantic>=2.11.7->pydantic[email]>=2.11.7->fastmcp) (2.33.2)\n",
      "Requirement already satisfied: typing-inspection>=0.4.0 in /home/sparsh-raj/anaconda3/lib/python3.12/site-packages (from pydantic>=2.11.7->pydantic[email]>=2.11.7->fastmcp) (0.4.1)\n",
      "Requirement already satisfied: sniffio>=1.1 in /home/sparsh-raj/anaconda3/lib/python3.12/site-packages (from anyio->httpx>=0.28.1->fastmcp) (1.3.0)\n",
      "Requirement already satisfied: jsonschema-specifications>=2023.03.6 in /home/sparsh-raj/anaconda3/lib/python3.12/site-packages (from jsonschema>=4.20.0->mcp>=1.10.0->fastmcp) (2023.7.1)\n",
      "Requirement already satisfied: referencing>=0.28.4 in /home/sparsh-raj/anaconda3/lib/python3.12/site-packages (from jsonschema>=4.20.0->mcp>=1.10.0->fastmcp) (0.30.2)\n",
      "Requirement already satisfied: rpds-py>=0.7.1 in /home/sparsh-raj/anaconda3/lib/python3.12/site-packages (from jsonschema>=4.20.0->mcp>=1.10.0->fastmcp) (0.10.6)\n",
      "Requirement already satisfied: email-validator>=2.0.0 in /home/sparsh-raj/anaconda3/lib/python3.12/site-packages (from pydantic[email]>=2.11.7->fastmcp) (2.2.0)\n",
      "Requirement already satisfied: dnspython>=2.0.0 in /home/sparsh-raj/anaconda3/lib/python3.12/site-packages (from email-validator>=2.0.0->pydantic[email]>=2.11.7->fastmcp) (2.7.0)\n",
      "Requirement already satisfied: markdown-it-py>=2.2.0 in /home/sparsh-raj/anaconda3/lib/python3.12/site-packages (from rich>=13.9.4->fastmcp) (2.2.0)\n",
      "Requirement already satisfied: pygments<3.0.0,>=2.13.0 in /home/sparsh-raj/anaconda3/lib/python3.12/site-packages (from rich>=13.9.4->fastmcp) (2.19.2)\n",
      "Requirement already satisfied: mdurl~=0.1 in /home/sparsh-raj/anaconda3/lib/python3.12/site-packages (from markdown-it-py>=2.2.0->rich>=13.9.4->fastmcp) (0.1.0)\n",
      "Requirement already satisfied: click>=7.0 in /home/sparsh-raj/anaconda3/lib/python3.12/site-packages (from uvicorn>=0.23.1->mcp>=1.10.0->fastmcp) (8.1.7)\n",
      "Requirement already satisfied: cffi>=1.12 in /home/sparsh-raj/anaconda3/lib/python3.12/site-packages (from cryptography->authlib>=1.5.2->fastmcp) (1.16.0)\n",
      "Requirement already satisfied: pycparser in /home/sparsh-raj/anaconda3/lib/python3.12/site-packages (from cffi>=1.12->cryptography->authlib>=1.5.2->fastmcp) (2.21)\n",
      "Note: you may need to restart the kernel to use updated packages.\n"
     ]
    }
   ],
   "source": [
    "pip install fastmcp"
   ]
  },
  {
   "attachments": {
    "6c2e9b4c-d99e-43c8-8042-8a5265d9e2d2.png": {
     "image/png": "[encoded data removed]"
    }
   },
   "cell_type": "markdown",
   "id": "6e720672-880e-4146-b3bf-117058f25dfa",
   "metadata": {},
   "source": [
    "Ans: ![Screenshot from 2025-07-16 15-44-06.png](attachment:6c2e9b4c-d99e-43c8-8042-8a5265d9e2d2.png)"
   ]
  },
  {
   "cell_type": "markdown",
   "id": "415b47b2-7462-4294-95b1-32f9a1630e30",
   "metadata": {},
   "source": [
    "## Q4. Simple MCP Server \n",
    "\n",
    "A simple MCP server from the documentation looks like that:\n",
    "\n",
    "```python\n",
    "# weather_server.py\n",
    "from fastmcp import FastMCP\n",
    "\n",
    "mcp = FastMCP(\"Demo 🚀\")\n",
    "\n",
    "@mcp.tool\n",
    "def add(a: int, b: int) -> int:\n",
    "    \"\"\"Add two numbers\"\"\"\n",
    "    return a + b\n",
    "\n",
    "if __name__ == \"__main__\":\n",
    "    mcp.run()\n",
    "```\n",
    "\n",
    "In our case, we need to write docstrings for our functions.\n",
    "\n",
    "Let's ask ChatGPT for help:\n",
    "\n",
    "```python\n",
    "def get_weather(city: str) -> float:\n",
    "    \"\"\"\n",
    "    Retrieves the temperature for a specified city.\n",
    "\n",
    "    Parameters:\n",
    "        city (str): The name of the city for which to retrieve weather data.\n",
    "\n",
    "    Returns:\n",
    "        float: The temperature associated with the city.\n",
    "    \"\"\"\n",
    "    city = city.strip().lower()\n",
    "\n",
    "    if city in known_weather_data:\n",
    "        return known_weather_data[city]\n",
    "\n",
    "    return round(random.uniform(-5, 35), 1)\n",
    "\n",
    "\n",
    "def set_weather(city: str, temp: float) -> None:\n",
    "    \"\"\"\n",
    "    Sets the temperature for a specified city.\n",
    "\n",
    "    Parameters:\n",
    "        city (str): The name of the city for which to set the weather data.\n",
    "        temp (float): The temperature to associate with the city.\n",
    "\n",
    "    Returns:\n",
    "        str: A confirmation string 'OK' indicating successful update.\n",
    "    \"\"\"\n",
    "    city = city.strip().lower()\n",
    "    known_weather_data[city] = temp\n",
    "    return 'OK'\n",
    "```\n",
    "\n",
    "Let's change the example for our case and run it\n",
    "\n",
    "What do you see in the output?\n",
    "\n",
    "Look for a string that matches this template:\n",
    "\n",
    "```\n",
    "Starting MCP server 'Demo 🚀' with transport '<TODO>'\n",
    "```\n",
    "\n",
    "What do you have instead of `<TODO>`?"
   ]
  },
  {
   "attachments": {
    "ff5ba895-71ab-4f50-975e-c8f4676388bb.png": {
     "image/png": "[encoded data removed]"
    }
   },
   "cell_type": "markdown",
   "id": "1ebc884f-b97b-4ad3-9dcd-159c35061525",
   "metadata": {},
   "source": [
    "### Ans: stdio\n",
    "![image.png](attachment:ff5ba895-71ab-4f50-975e-c8f4676388bb.png)"
   ]
  },
  {
   "cell_type": "markdown",
   "id": "14a75c47-5952-4c94-a010-0b393648754a",
   "metadata": {},
   "source": [
    "## Q5. Protocol\n",
    "\n",
    "There are different ways to communicate with an MCP server.\n",
    "Ours is currently running using standart input/output, which\n",
    "means that the client write something to stdin and read the\n",
    "answer using stdout.\n",
    "\n",
    "Our weather server is currently running.\n",
    "\n",
    "This is how we start communitcating with it:\n",
    "\n",
    "- First, we send an initialization request -- this way, we register our client with the server:\n",
    "    ```json\n",
    "    {\"jsonrpc\": \"2.0\", \"id\": 1, \"method\": \"initialize\", \"params\": {\"protocolVersion\": \"2024-11-05\", \"capabilities\": {\"roots\": {\"listChanged\": true}, \"sampling\": {}}, \"clientInfo\": {\"name\": \"test-client\", \"version\": \"1.0.0\"}}}\n",
    "    ```\n",
    "    We should get back something like that, which is an aknowledgement of the request:\n",
    "    ```json\n",
    "    {\"jsonrpc\":\"2.0\",\"id\":1,\"result\":{\"protocolVersion\":\"2024-11-05\",\"capabilities\":{\"experimental\":{},\"prompts\":{\"listChanged\":false},\"resources\":{\"subscribe\":false,\"listChanged\":false},\"tools\":{\"listChanged\":true}},\"serverInfo\":{\"name\":\"Demo 🚀\",\"version\":\"1.9.4\"}}}\n",
    "    ```\n",
    "-  Next, we reply back, confirming the initialization:\n",
    "    ```json\n",
    "    {\"jsonrpc\": \"2.0\", \"method\": \"notifications/initialized\"}\n",
    "    ```\n",
    "    We don't expect to get anything in response\n",
    "- Now we can ask for a list of available methods:\n",
    "    ```json\n",
    "    {\"jsonrpc\": \"2.0\", \"id\": 2, \"method\": \"tools/list\"}\n",
    "    ```\n",
    "- Let's ask the temperature in Berlin:\n",
    "    ```json\n",
    "    {\"jsonrpc\": \"2.0\", \"id\": 3, \"method\": \"tools/call\", \"params\": {\"name\": \"<TODO>\", \"arguments\": {<TODO>}}}\n",
    "    ```\n",
    "- What did you get in response?"
   ]
  },
  {
   "attachments": {
    "44e48231-fbc2-4189-9bd8-198d73be1d36.png": {
     "image/png": "[encoded data removed]"
    }
   },
   "cell_type": "markdown",
   "id": "121202b1-a66f-441e-a779-bfb19b09e994",
   "metadata": {},
   "source": [
    "### Ans:\n",
    "{\"jsonrpc\":\"2.0\",\"id\":3,\"result\":{\"content\":[{\"type\":\"text\",\"text\":\"20.0\"}],\"structuredContent\":{\"result\":20.0},\"isError\":false}}\n",
    "\n",
    "![image.png](attachment:44e48231-fbc2-4189-9bd8-198d73be1d36.png)"
   ]
  },
  {
   "cell_type": "markdown",
   "id": "e8f66c7c-2da0-44aa-b1d6-fbdf114dc054",
   "metadata": {},
   "source": [
    "## Q6. Client\n",
    "\n",
    "We typically don't interact with the server by copy-pasting \n",
    "commands in the terminal.\n",
    "\n",
    "In practice, we use an MCP Client. Let's implement it. \n",
    "\n",
    "FastMCP also supports MCP clients:\n",
    "\n",
    "```python\n",
    "from fastmcp import Client\n",
    "\n",
    "async def main():\n",
    "    async with Client(<TODO>) as mcp_client:\n",
    "        # TODO\n",
    "```\n",
    "\n",
    "Use the client to get the list of available tools\n",
    "of our script. How does the result look like?\n",
    "\n",
    "If you're running this code in Jupyter, you need to pass\n",
    "an instance of MCP server to the `Client`:\n",
    "\n",
    "```python\n",
    "import weather_server\n",
    "\n",
    "async def main():\n",
    "    async with Client(weather_server.mcp) as mcp_client:\n",
    "        # ....\n",
    "```\n",
    "\n",
    "If you run it in a script, you will need to use asyncio:\n",
    "\n",
    "```python\n",
    "import asyncio\n",
    "\n",
    "async def main():\n",
    "    async with Client(\"weather_server.py\") as mcp_client:\n",
    "        # ...\n",
    "\n",
    "if __name__ == \"__main__\":\n",
    "    test = asyncio.run(main())\n",
    "```\n",
    "\n",
    "Copy the output with the available tools when\n",
    "filling in the homework form.\n",
    "\n"
   ]
  },
  {
   "cell_type": "code",
   "execution_count": 25,
   "id": "b4161cc3-3cda-46da-bf8b-e25b70316896",
   "metadata": {},
   "outputs": [
    {
     "name": "stdout",
     "output_type": "stream",
     "text": [
      "Available tools: [Tool(name='get_weather', title=None, description='Retrieves the temperature for a specified city.\\n\\nParameters:\\n    city (str): The name of the city for which to retrieve weather data.\\n\\nReturns:\\n    float: The temperature associated with the city.', inputSchema={'properties': {'city': {'title': 'City', 'type': 'string'}}, 'required': ['city'], 'type': 'object'}, outputSchema={'properties': {'result': {'title': 'Result', 'type': 'number'}}, 'required': ['result'], 'title': '_WrappedResult', 'type': 'object', 'x-fastmcp-wrap-result': True}, annotations=None, meta=None), Tool(name='set_weather', title=None, description=\"Sets the temperature for a specified city.\\n\\nParameters:\\n    city (str): The name of the city for which to set the weather data.\\n    temp (float): The temperature to associate with the city.\\n\\nReturns:\\n    str: A confirmation string 'OK' indicating successful update.\", inputSchema={'properties': {'city': {'title': 'City', 'type': 'string'}, 'temp': {'title': 'Temp', 'type': 'number'}}, 'required': ['city', 'temp'], 'type': 'object'}, outputSchema={'properties': {'result': {'title': 'Result', 'type': 'string'}}, 'required': ['result'], 'title': '_WrappedResult', 'type': 'object', 'x-fastmcp-wrap-result': True}, annotations=None, meta=None)]\n"
     ]
    }
   ],
   "source": [
    "import asyncio\n",
    "from fastmcp import Client\n",
    "import nest_asyncio\n",
    "\n",
    "# nest_asyncio allows the event loop to be nested, which is needed in environments like Jupyter\n",
    "nest_asyncio.apply()\n",
    "\n",
    "async def main():\n",
    "    \"\"\"\n",
    "    Connects to the weather_server and lists its available tools.\n",
    "    \"\"\"\n",
    "    # The client will run the weather_server.py script as a subprocess\n",
    "    async with Client(\"weather_server.py\") as mcp_client:\n",
    "        tools = await mcp_client.list_tools()\n",
    "        print(f\"Available tools: {tools}\")\n",
    "\n",
    "# In a Jupyter Notebook, you can run the async main function like this\n",
    "asyncio.run(main())"
   ]
  },
  {
   "cell_type": "markdown",
   "id": "c9b64a65-83f5-4163-9f2c-74b245fa7d3c",
   "metadata": {},
   "source": [
    "## Using tools from the MCP server (optional)\n"
   ]
  },
  {
   "cell_type": "code",
   "execution_count": 26,
   "id": "7292e1aa-2bbc-488d-9c15-1cbac92554f4",
   "metadata": {},
   "outputs": [
    {
     "name": "stdout",
     "output_type": "stream",
     "text": [
      "Started server with command: python weather_server.py\n",
      "Sending initialize request...\n",
      "Initialize response: {'protocolVersion': '2024-11-05', 'capabilities': {'experimental': {}, 'prompts': {'listChanged': False}, 'resources': {'subscribe': False, 'listChanged': False}, 'tools': {'listChanged': True}}, 'serverInfo': {'name': 'Demo 🚀', 'version': '1.11.0'}}\n",
      "Sending initialized notification...\n",
      "Handshake completed successfully\n"
     ]
    }
   ],
   "source": [
    "import mcp_client\n",
    "\n",
    "our_mcp_client = mcp_client.MCPClient([\"python\", \"weather_server.py\"])\n",
    "\n",
    "our_mcp_client.start_server()\n",
    "our_mcp_client.initialize()\n",
    "our_mcp_client.initialized()\n"
   ]
  },
  {
   "cell_type": "code",
   "execution_count": 27,
   "id": "c46bb745-6fe9-4f40-9d01-63d2333bc27a",
   "metadata": {},
   "outputs": [
    {
     "name": "stdout",
     "output_type": "stream",
     "text": [
      "Retrieving available tools...\n",
      "Available tools: ['get_weather', 'set_weather']\n"
     ]
    },
    {
     "data": {
      "text/plain": [
       "[{'name': 'get_weather',\n",
       "  'description': 'Retrieves the temperature for a specified city.\\n\\nParameters:\\n    city (str): The name of the city for which to retrieve weather data.\\n\\nReturns:\\n    float: The temperature associated with the city.',\n",
       "  'inputSchema': {'properties': {'city': {'title': 'City', 'type': 'string'}},\n",
       "   'required': ['city'],\n",
       "   'type': 'object'},\n",
       "  'outputSchema': {'properties': {'result': {'title': 'Result',\n",
       "     'type': 'number'}},\n",
       "   'required': ['result'],\n",
       "   'title': '_WrappedResult',\n",
       "   'type': 'object',\n",
       "   'x-fastmcp-wrap-result': True}},\n",
       " {'name': 'set_weather',\n",
       "  'description': \"Sets the temperature for a specified city.\\n\\nParameters:\\n    city (str): The name of the city for which to set the weather data.\\n    temp (float): The temperature to associate with the city.\\n\\nReturns:\\n    str: A confirmation string 'OK' indicating successful update.\",\n",
       "  'inputSchema': {'properties': {'city': {'title': 'City', 'type': 'string'},\n",
       "    'temp': {'title': 'Temp', 'type': 'number'}},\n",
       "   'required': ['city', 'temp'],\n",
       "   'type': 'object'},\n",
       "  'outputSchema': {'properties': {'result': {'title': 'Result',\n",
       "     'type': 'string'}},\n",
       "   'required': ['result'],\n",
       "   'title': '_WrappedResult',\n",
       "   'type': 'object',\n",
       "   'x-fastmcp-wrap-result': True}}]"
      ]
     },
     "execution_count": 27,
     "metadata": {},
     "output_type": "execute_result"
    }
   ],
   "source": [
    "our_mcp_client.get_tools()"
   ]
  },
  {
   "cell_type": "code",
   "execution_count": 28,
   "id": "48d9b743-5e76-47b1-a76f-9addefa18278",
   "metadata": {},
   "outputs": [
    {
     "name": "stdout",
     "output_type": "stream",
     "text": [
      "Calling tool 'get_weather' with arguments: {'city': 'Berlin'}\n"
     ]
    },
    {
     "data": {
      "text/plain": [
       "{'content': [{'type': 'text', 'text': '20.0'}],\n",
       " 'structuredContent': {'result': 20.0},\n",
       " 'isError': False}"
      ]
     },
     "execution_count": 28,
     "metadata": {},
     "output_type": "execute_result"
    }
   ],
   "source": [
    "our_mcp_client.call_tool('get_weather', {'city': 'Berlin'})"
   ]
  },
  {
   "cell_type": "code",
   "execution_count": 29,
   "id": "131ee8c7-aade-4ea8-aa17-7a4cc8a98826",
   "metadata": {},
   "outputs": [],
   "source": [
    "import chat_assistant"
   ]
  },
  {
   "cell_type": "code",
   "execution_count": 30,
   "id": "03a30423-8534-461a-830e-92135d52e193",
   "metadata": {},
   "outputs": [
    {
     "name": "stdout",
     "output_type": "stream",
     "text": [
      "Started server with command: python weather_server.py\n",
      "Sending initialize request...\n",
      "Initialize response: {'protocolVersion': '2024-11-05', 'capabilities': {'experimental': {}, 'prompts': {'listChanged': False}, 'resources': {'subscribe': False, 'listChanged': False}, 'tools': {'listChanged': True}}, 'serverInfo': {'name': 'Demo 🚀', 'version': '1.11.0'}}\n",
      "Sending initialized notification...\n",
      "Handshake completed successfully\n"
     ]
    }
   ],
   "source": [
    "our_mcp_client = mcp_client.MCPClient([\"python\", \"weather_server.py\"])\n",
    "\n",
    "our_mcp_client.start_server()\n",
    "our_mcp_client.initialize()\n",
    "our_mcp_client.initialized()\n",
    "\n",
    "mcp_tools = mcp_client.MCPTools(mcp_client=our_mcp_client)"
   ]
  },
  {
   "cell_type": "code",
   "execution_count": 31,
   "id": "1bbda436-4266-4e60-9bee-2a6497abfad5",
   "metadata": {},
   "outputs": [],
   "source": [
    "developer_prompt = \"\"\"\n",
    "You help users find out the weather in their cities. \n",
    "If they didn't specify a city, ask them. Make sure we always use a city.\n",
    "\"\"\".strip()\n"
   ]
  },
  {
   "cell_type": "code",
   "execution_count": 32,
   "id": "6ed2c8fe-7c57-438d-a65c-43daab4170b1",
   "metadata": {},
   "outputs": [],
   "source": [
    "chat_interface = chat_assistant.ChatInterface()\n",
    "\n",
    "chat = chat_assistant.ChatAssistant(\n",
    "    tools=mcp_tools,\n",
    "    developer_prompt=developer_prompt,\n",
    "    chat_interface=chat_interface,\n",
    "    client=client\n",
    ")\n"
   ]
  },
  {
   "cell_type": "code",
   "execution_count": 33,
   "id": "94f164bf-a3e3-4f79-9457-fc0e62a5ef5f",
   "metadata": {},
   "outputs": [
    {
     "name": "stdin",
     "output_type": "stream",
     "text": [
      "You: What's the weather in Berlin?\n"
     ]
    },
    {
     "name": "stdout",
     "output_type": "stream",
     "text": [
      "Retrieving available tools...\n",
      "Available tools: ['get_weather', 'set_weather']\n",
      "Calling tool 'get_weather' with arguments: {'city': 'Berlin'}\n"
     ]
    },
    {
     "data": {
      "text/html": [
       "\n",
       "            <details>\n",
       "            <summary>Function call: <tt>get_weather({\"city\":\"Berlin\"})</tt></summary>\n",
       "            <div>\n",
       "                <b>Call</b>\n",
       "                <pre>ResponseFunctionToolCall(arguments='{\"city\":\"Berlin\"}', call_id='call_oKGUhKzkUSTVcONHc0RrEINn', name='get_weather', type='function_call', id='fc_687d08745d5481a0b772eabb5819f9cd08bbafa141ad7c69', status='completed')</pre>\n",
       "            </div>\n",
       "            <div>\n",
       "                <b>Output</b>\n",
       "                <pre>{\n",
       "  \"content\": [\n",
       "    {\n",
       "      \"type\": \"text\",\n",
       "      \"text\": \"20.0\"\n",
       "    }\n",
       "  ],\n",
       "  \"structuredContent\": {\n",
       "    \"result\": 20.0\n",
       "  },\n",
       "  \"isError\": false\n",
       "}</pre>\n",
       "            </div>\n",
       "            \n",
       "            </details>\n",
       "        "
      ],
      "text/plain": [
       "<IPython.core.display.HTML object>"
      ]
     },
     "metadata": {},
     "output_type": "display_data"
    },
    {
     "data": {
      "text/html": [
       "\n",
       "            <div>\n",
       "                <div><b>Assistant:</b></div>\n",
       "                <div><p>The current temperature in Berlin is 20°C. If you need more details, let me know!</p></div>\n",
       "            </div>\n",
       "        "
      ],
      "text/plain": [
       "<IPython.core.display.HTML object>"
      ]
     },
     "metadata": {},
     "output_type": "display_data"
    },
    {
     "name": "stdin",
     "output_type": "stream",
     "text": [
      "You: Set the temp in Berlin to 15 degrees.\n"
     ]
    },
    {
     "name": "stdout",
     "output_type": "stream",
     "text": [
      "Calling tool 'set_weather' with arguments: {'city': 'Berlin', 'temp': 15}\n"
     ]
    },
    {
     "data": {
      "text/html": [
       "\n",
       "            <details>\n",
       "            <summary>Function call: <tt>set_weather({\"city\":\"Berlin\",\"temp\":15})</tt></summary>\n",
       "            <div>\n",
       "                <b>Call</b>\n",
       "                <pre>ResponseFunctionToolCall(arguments='{\"city\":\"Berlin\",\"temp\":15}', call_id='call_403X2mAbPwDg1urtIxIFg0JZ', name='set_weather', type='function_call', id='fc_687d087a8c5c81a0bb3832f4618aef8208bbafa141ad7c69', status='completed')</pre>\n",
       "            </div>\n",
       "            <div>\n",
       "                <b>Output</b>\n",
       "                <pre>{\n",
       "  \"content\": [\n",
       "    {\n",
       "      \"type\": \"text\",\n",
       "      \"text\": \"OK\"\n",
       "    }\n",
       "  ],\n",
       "  \"structuredContent\": {\n",
       "    \"result\": \"OK\"\n",
       "  },\n",
       "  \"isError\": false\n",
       "}</pre>\n",
       "            </div>\n",
       "            \n",
       "            </details>\n",
       "        "
      ],
      "text/plain": [
       "<IPython.core.display.HTML object>"
      ]
     },
     "metadata": {},
     "output_type": "display_data"
    },
    {
     "data": {
      "text/html": [
       "\n",
       "            <div>\n",
       "                <div><b>Assistant:</b></div>\n",
       "                <div><p>The temperature in Berlin has been set to 15°C. If you need anything else, just let me know!</p></div>\n",
       "            </div>\n",
       "        "
      ],
      "text/plain": [
       "<IPython.core.display.HTML object>"
      ]
     },
     "metadata": {},
     "output_type": "display_data"
    },
    {
     "name": "stdin",
     "output_type": "stream",
     "text": [
      "You: What's the temp in Berlin?\n"
     ]
    },
    {
     "name": "stdout",
     "output_type": "stream",
     "text": [
      "Calling tool 'get_weather' with arguments: {'city': 'Berlin'}\n"
     ]
    },
    {
     "data": {
      "text/html": [
       "\n",
       "            <details>\n",
       "            <summary>Function call: <tt>get_weather({\"city\":\"Berlin\"})</tt></summary>\n",
       "            <div>\n",
       "                <b>Call</b>\n",
       "                <pre>ResponseFunctionToolCall(arguments='{\"city\":\"Berlin\"}', call_id='call_5XAsayPcIl6Msdwx20Ygak0f', name='get_weather', type='function_call', id='fc_687d0883183481a0a49e07e622f3bc2d08bbafa141ad7c69', status='completed')</pre>\n",
       "            </div>\n",
       "            <div>\n",
       "                <b>Output</b>\n",
       "                <pre>{\n",
       "  \"content\": [\n",
       "    {\n",
       "      \"type\": \"text\",\n",
       "      \"text\": \"15.0\"\n",
       "    }\n",
       "  ],\n",
       "  \"structuredContent\": {\n",
       "    \"result\": 15.0\n",
       "  },\n",
       "  \"isError\": false\n",
       "}</pre>\n",
       "            </div>\n",
       "            \n",
       "            </details>\n",
       "        "
      ],
      "text/plain": [
       "<IPython.core.display.HTML object>"
      ]
     },
     "metadata": {},
     "output_type": "display_data"
    },
    {
     "data": {
      "text/html": [
       "\n",
       "            <div>\n",
       "                <div><b>Assistant:</b></div>\n",
       "                <div><p>The current temperature in Berlin is now 15°C. If you need more information, feel free to ask!</p></div>\n",
       "            </div>\n",
       "        "
      ],
      "text/plain": [
       "<IPython.core.display.HTML object>"
      ]
     },
     "metadata": {},
     "output_type": "display_data"
    },
    {
     "name": "stdin",
     "output_type": "stream",
     "text": [
      "You: What's the weather in Kolkata?\n"
     ]
    },
    {
     "name": "stdout",
     "output_type": "stream",
     "text": [
      "Calling tool 'get_weather' with arguments: {'city': 'Kolkata'}\n"
     ]
    },
    {
     "data": {
      "text/html": [
       "\n",
       "            <details>\n",
       "            <summary>Function call: <tt>get_weather({\"city\":\"Kolkata\"})</tt></summary>\n",
       "            <div>\n",
       "                <b>Call</b>\n",
       "                <pre>ResponseFunctionToolCall(arguments='{\"city\":\"Kolkata\"}', call_id='call_2fphIpl894Bk05Ax1GVcCAEv', name='get_weather', type='function_call', id='fc_687d088e267881a098cc2fcf6ec96fee08bbafa141ad7c69', status='completed')</pre>\n",
       "            </div>\n",
       "            <div>\n",
       "                <b>Output</b>\n",
       "                <pre>{\n",
       "  \"content\": [\n",
       "    {\n",
       "      \"type\": \"text\",\n",
       "      \"text\": \"-4.6\"\n",
       "    }\n",
       "  ],\n",
       "  \"structuredContent\": {\n",
       "    \"result\": -4.6\n",
       "  },\n",
       "  \"isError\": false\n",
       "}</pre>\n",
       "            </div>\n",
       "            \n",
       "            </details>\n",
       "        "
      ],
      "text/plain": [
       "<IPython.core.display.HTML object>"
      ]
     },
     "metadata": {},
     "output_type": "display_data"
    },
    {
     "data": {
      "text/html": [
       "\n",
       "            <div>\n",
       "                <div><b>Assistant:</b></div>\n",
       "                <div><p>The current temperature in Kolkata is -4.6°C. This seems unusually low for Kolkata. If you need more information or details, just let me know!</p></div>\n",
       "            </div>\n",
       "        "
      ],
      "text/plain": [
       "<IPython.core.display.HTML object>"
      ]
     },
     "metadata": {},
     "output_type": "display_data"
    },
    {
     "name": "stdin",
     "output_type": "stream",
     "text": [
      "You: Set the temperature in kolkata to 34 degrees celsius.\n"
     ]
    },
    {
     "name": "stdout",
     "output_type": "stream",
     "text": [
      "Calling tool 'set_weather' with arguments: {'city': 'Kolkata', 'temp': 34}\n"
     ]
    },
    {
     "data": {
      "text/html": [
       "\n",
       "            <details>\n",
       "            <summary>Function call: <tt>set_weather({\"city\":\"Kolkata\",\"temp\":34})</tt></summary>\n",
       "            <div>\n",
       "                <b>Call</b>\n",
       "                <pre>ResponseFunctionToolCall(arguments='{\"city\":\"Kolkata\",\"temp\":34}', call_id='call_jWdN0XdFFtAgM6XRIrYVRTwL', name='set_weather', type='function_call', id='fc_687d089860c481a094f81c4bf0f4ed4308bbafa141ad7c69', status='completed')</pre>\n",
       "            </div>\n",
       "            <div>\n",
       "                <b>Output</b>\n",
       "                <pre>{\n",
       "  \"content\": [\n",
       "    {\n",
       "      \"type\": \"text\",\n",
       "      \"text\": \"OK\"\n",
       "    }\n",
       "  ],\n",
       "  \"structuredContent\": {\n",
       "    \"result\": \"OK\"\n",
       "  },\n",
       "  \"isError\": false\n",
       "}</pre>\n",
       "            </div>\n",
       "            \n",
       "            </details>\n",
       "        "
      ],
      "text/plain": [
       "<IPython.core.display.HTML object>"
      ]
     },
     "metadata": {},
     "output_type": "display_data"
    },
    {
     "data": {
      "text/html": [
       "\n",
       "            <div>\n",
       "                <div><b>Assistant:</b></div>\n",
       "                <div><p>The temperature in Kolkata has been set to 34°C. If there's anything else you need, just let me know!</p></div>\n",
       "            </div>\n",
       "        "
      ],
      "text/plain": [
       "<IPython.core.display.HTML object>"
      ]
     },
     "metadata": {},
     "output_type": "display_data"
    },
    {
     "name": "stdin",
     "output_type": "stream",
     "text": [
      "You: What's the weather in Kolkata?\n"
     ]
    },
    {
     "name": "stdout",
     "output_type": "stream",
     "text": [
      "Calling tool 'get_weather' with arguments: {'city': 'Kolkata'}\n"
     ]
    },
    {
     "data": {
      "text/html": [
       "\n",
       "            <details>\n",
       "            <summary>Function call: <tt>get_weather({\"city\":\"Kolkata\"})</tt></summary>\n",
       "            <div>\n",
       "                <b>Call</b>\n",
       "                <pre>ResponseFunctionToolCall(arguments='{\"city\":\"Kolkata\"}', call_id='call_at53Iz4XEFdzshkkhg6SiHMK', name='get_weather', type='function_call', id='fc_687d089c783881a0babf8145b277b6a308bbafa141ad7c69', status='completed')</pre>\n",
       "            </div>\n",
       "            <div>\n",
       "                <b>Output</b>\n",
       "                <pre>{\n",
       "  \"content\": [\n",
       "    {\n",
       "      \"type\": \"text\",\n",
       "      \"text\": \"34.0\"\n",
       "    }\n",
       "  ],\n",
       "  \"structuredContent\": {\n",
       "    \"result\": 34.0\n",
       "  },\n",
       "  \"isError\": false\n",
       "}</pre>\n",
       "            </div>\n",
       "            \n",
       "            </details>\n",
       "        "
      ],
      "text/plain": [
       "<IPython.core.display.HTML object>"
      ]
     },
     "metadata": {},
     "output_type": "display_data"
    },
    {
     "data": {
      "text/html": [
       "\n",
       "            <div>\n",
       "                <div><b>Assistant:</b></div>\n",
       "                <div><p>The current temperature in Kolkata is now 34°C. If you need further details or assistance, feel free to ask!</p></div>\n",
       "            </div>\n",
       "        "
      ],
      "text/plain": [
       "<IPython.core.display.HTML object>"
      ]
     },
     "metadata": {},
     "output_type": "display_data"
    },
    {
     "name": "stdin",
     "output_type": "stream",
     "text": [
      "You: stop\n"
     ]
    },
    {
     "name": "stdout",
     "output_type": "stream",
     "text": [
      "Chat ended.\n"
     ]
    }
   ],
   "source": [
    "chat.run()"
   ]
  }
 ],
 "metadata": {
  "kernelspec": {
   "display_name": "Python 3 (ipykernel)",
   "language": "python",
   "name": "python3"
  },
  "language_info": {
   "codemirror_mode": {
    "name": "ipython",
    "version": 3
   },
   "file_extension": ".py",
   "mimetype": "text/x-python",
   "name": "python",
   "nbconvert_exporter": "python",
   "pygments_lexer": "ipython3",
   "version": "3.12.11"
  }
 },
 "nbformat": 4,
 "nbformat_minor": 5
}
