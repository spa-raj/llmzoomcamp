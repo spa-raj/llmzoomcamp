{
 "cells": [
  {
   "cell_type": "code",
   "id": "01675915-777d-4ae1-a06d-344bf66c550a",
   "metadata": {
    "ExecuteTime": {
     "end_time": "2025-06-17T05:25:56.163062Z",
     "start_time": "2025-06-17T05:25:55.488331Z"
    }
   },
   "source": [
    "import os\n",
    "import openai\n",
    "from openai import OpenAI"
   ],
   "outputs": [],
   "execution_count": 1
  },
  {
   "cell_type": "code",
   "id": "d8ea5184-77a9-4e99-beef-8d5aa0a75186",
   "metadata": {
    "ExecuteTime": {
     "end_time": "2025-06-17T05:29:31.440168Z",
     "start_time": "2025-06-17T05:29:31.376601Z"
    }
   },
   "source": [
    "client = OpenAI()"
   ],
   "outputs": [],
   "execution_count": 6
  },
  {
   "cell_type": "code",
   "id": "91d603f8-74eb-478f-9df0-d9bd3c98e5c6",
   "metadata": {
    "ExecuteTime": {
     "end_time": "2025-06-17T05:29:41.664673Z",
     "start_time": "2025-06-17T05:29:38.934996Z"
    }
   },
   "source": [
    "response = client.chat.completions.create(\n",
    "  model=\"gpt-4.1\",\n",
    "    messages=[\n",
    "        {\n",
    "            \"role\": \"user\",\n",
    "            \"content\": \"Is it too late to join the course\"\n",
    "        }\n",
    "    ]\n",
    ")"
   ],
   "outputs": [],
   "execution_count": 7
  },
  {
   "cell_type": "code",
   "id": "1009260a-4e23-462e-a421-f6e489815f86",
   "metadata": {
    "ExecuteTime": {
     "end_time": "2025-06-17T05:29:42.773629Z",
     "start_time": "2025-06-17T05:29:42.768479Z"
    }
   },
   "source": [
    "print(response.choices[0].message.content)"
   ],
   "outputs": [
    {
     "name": "stdout",
     "output_type": "stream",
     "text": [
      "Could you please clarify which course you are referring to? The answer will depend on the specific course, its start date, and the institution or platform offering it. If you provide the course name or other details, I can help you find out whether it’s still possible to join.\n"
     ]
    }
   ],
   "execution_count": 8
  },
  {
   "cell_type": "code",
   "execution_count": null,
   "id": "d4b9880c-dcf2-4ab5-a62a-44d11b8b457d",
   "metadata": {},
   "outputs": [],
   "source": []
  }
 ],
 "metadata": {
  "kernelspec": {
   "display_name": "Python 3 (ipykernel)",
   "language": "python",
   "name": "python3"
  },
  "language_info": {
   "codemirror_mode": {
    "name": "ipython",
    "version": 3
   },
   "file_extension": ".py",
   "mimetype": "text/x-python",
   "name": "python",
   "nbconvert_exporter": "python",
   "pygments_lexer": "ipython3",
   "version": "3.13.5"
  }
 },
 "nbformat": 4,
 "nbformat_minor": 5
}
