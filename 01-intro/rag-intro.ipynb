{
 "cells": [
  {
   "cell_type": "code",
   "execution_count": 1,
   "id": "initial_id",
   "metadata": {
    "ExecuteTime": {
     "end_time": "2025-06-16T10:02:18.726266Z",
     "start_time": "2025-06-16T10:02:15.913623Z"
    }
   },
   "outputs": [
    {
     "name": "stdout",
     "output_type": "stream",
     "text": [
      "Collecting minsearch\n",
      "  Downloading minsearch-0.0.3-py3-none-any.whl.metadata (6.1 kB)\n",
      "Requirement already satisfied: pandas in /home/sparsh-raj/anaconda3/envs/llmzoomcamp/lib/python3.13/site-packages (from minsearch) (2.2.3)\n",
      "Requirement already satisfied: scikit-learn in /home/sparsh-raj/anaconda3/envs/llmzoomcamp/lib/python3.13/site-packages (from minsearch) (1.6.1)\n",
      "Requirement already satisfied: numpy>=1.26.0 in /home/sparsh-raj/anaconda3/envs/llmzoomcamp/lib/python3.13/site-packages (from pandas->minsearch) (2.2.5)\n",
      "Requirement already satisfied: python-dateutil>=2.8.2 in /home/sparsh-raj/anaconda3/envs/llmzoomcamp/lib/python3.13/site-packages (from pandas->minsearch) (2.9.0.post0)\n",
      "Requirement already satisfied: pytz>=2020.1 in /home/sparsh-raj/anaconda3/envs/llmzoomcamp/lib/python3.13/site-packages (from pandas->minsearch) (2024.1)\n",
      "Requirement already satisfied: tzdata>=2022.7 in /home/sparsh-raj/anaconda3/envs/llmzoomcamp/lib/python3.13/site-packages (from pandas->minsearch) (2025.2)\n",
      "Requirement already satisfied: six>=1.5 in /home/sparsh-raj/anaconda3/envs/llmzoomcamp/lib/python3.13/site-packages (from python-dateutil>=2.8.2->pandas->minsearch) (1.17.0)\n",
      "Requirement already satisfied: scipy>=1.6.0 in /home/sparsh-raj/anaconda3/envs/llmzoomcamp/lib/python3.13/site-packages (from scikit-learn->minsearch) (1.15.3)\n",
      "Requirement already satisfied: joblib>=1.2.0 in /home/sparsh-raj/anaconda3/envs/llmzoomcamp/lib/python3.13/site-packages (from scikit-learn->minsearch) (1.4.2)\n",
      "Requirement already satisfied: threadpoolctl>=3.1.0 in /home/sparsh-raj/anaconda3/envs/llmzoomcamp/lib/python3.13/site-packages (from scikit-learn->minsearch) (3.5.0)\n",
      "Downloading minsearch-0.0.3-py3-none-any.whl (9.3 kB)\n",
      "Installing collected packages: minsearch\n",
      "Successfully installed minsearch-0.0.3\n"
     ]
    }
   ],
   "source": [
    "import os\n",
    "\n",
    "from sympy.polys.polyconfig import query\n",
    "!pip install minsearch"
   ]
  },
  {
   "cell_type": "code",
   "execution_count": 2,
   "id": "a9124321b35f9101",
   "metadata": {
    "ExecuteTime": {
     "end_time": "2025-06-16T10:02:19.323199Z",
     "start_time": "2025-06-16T10:02:18.768551Z"
    }
   },
   "outputs": [],
   "source": [
    "import minsearch\n",
    "import json"
   ]
  },
  {
   "cell_type": "code",
   "execution_count": 4,
   "id": "d589bedf61bf1d64",
   "metadata": {
    "ExecuteTime": {
     "end_time": "2025-06-16T10:02:19.336823Z",
     "start_time": "2025-06-16T10:02:19.331416Z"
    }
   },
   "outputs": [],
   "source": [
    "with open('documents.json', 'rt') as f_in:\n",
    "    docs_raw = json.load(f_in)"
   ]
  },
  {
   "cell_type": "code",
   "execution_count": 5,
   "id": "493f59c87ce3b2f7",
   "metadata": {
    "ExecuteTime": {
     "end_time": "2025-06-16T10:02:19.382318Z",
     "start_time": "2025-06-16T10:02:19.379725Z"
    }
   },
   "outputs": [],
   "source": [
    "documents = []\n",
    "\n",
    "for course_dict in docs_raw:\n",
    "    for doc in course_dict['documents']:\n",
    "        doc['course'] = course_dict['course']\n",
    "        documents.append(doc)"
   ]
  },
  {
   "cell_type": "code",
   "execution_count": 6,
   "id": "37517ece4268b66d",
   "metadata": {
    "ExecuteTime": {
     "end_time": "2025-06-16T10:02:19.433832Z",
     "start_time": "2025-06-16T10:02:19.429481Z"
    }
   },
   "outputs": [
    {
     "data": {
      "text/plain": [
       "{'text': 'See DE zoomcamp 2025 pre-course Q&A\\nTo get the most out of this course, you should have:\\nBasic coding experience\\nFamiliarity with SQL\\nExperience with Python (helpful but not required)\\nNo prior data engineering experience is necessary. See Readme on GitHub',\n",
       " 'section': 'General course-related questions',\n",
       " 'question': 'Course - What are the prerequisites for this course?',\n",
       " 'course': 'data-engineering-zoomcamp'}"
      ]
     },
     "execution_count": 6,
     "metadata": {},
     "output_type": "execute_result"
    }
   ],
   "source": [
    "documents[1]"
   ]
  },
  {
   "cell_type": "code",
   "execution_count": 7,
   "id": "bc646ac7a5a0de04",
   "metadata": {
    "ExecuteTime": {
     "end_time": "2025-06-16T10:02:19.480404Z",
     "start_time": "2025-06-16T10:02:19.478527Z"
    }
   },
   "outputs": [],
   "source": [
    "index = minsearch.Index(\n",
    "    text_fields=[\"question\", \"text\", \"section\"],\n",
    "    keyword_fields=[\"course\"]\n",
    ")"
   ]
  },
  {
   "cell_type": "markdown",
   "id": "d438cba445dba27c",
   "metadata": {},
   "source": [
    "SELECT * WHERE course = 'data-engineering-zoomcamp';"
   ]
  },
  {
   "cell_type": "code",
   "execution_count": 8,
   "id": "647f8277b6fd2cd0",
   "metadata": {
    "ExecuteTime": {
     "end_time": "2025-06-16T10:02:19.593679Z",
     "start_time": "2025-06-16T10:02:19.526129Z"
    }
   },
   "outputs": [
    {
     "data": {
      "text/plain": [
       "<minsearch.minsearch.Index at 0x75a2540d5dc0>"
      ]
     },
     "execution_count": 8,
     "metadata": {},
     "output_type": "execute_result"
    }
   ],
   "source": [
    "q = 'the course has already started, can I still enroll?'\n",
    "index.fit(documents)"
   ]
  },
  {
   "cell_type": "code",
   "execution_count": 9,
   "id": "db7485757cac86aa",
   "metadata": {
    "ExecuteTime": {
     "end_time": "2025-06-16T10:02:19.612572Z",
     "start_time": "2025-06-16T10:02:19.605343Z"
    }
   },
   "outputs": [],
   "source": [
    "boost = {\"question\": 3.0,\n",
    "         \"section\": 0.5,\n",
    "         \"text\": 1.0}\n",
    "results = index.search(query=q,\n",
    "             filter_dict={\"course\": \"data-engineering-zoomcamp\"},\n",
    "             boost_dict=boost,\n",
    "             num_results=5)"
   ]
  },
  {
   "cell_type": "code",
   "execution_count": 10,
   "id": "dcbf64ebd7f2e567",
   "metadata": {
    "ExecuteTime": {
     "end_time": "2025-06-16T10:02:19.655658Z",
     "start_time": "2025-06-16T10:02:19.652746Z"
    }
   },
   "outputs": [
    {
     "data": {
      "text/plain": [
       "[{'text': \"Yes, even if you don't register, you're still eligible to submit the homework.\\nBe aware, however, that there will be deadlines for turning in homeworks and the final projects. So don't leave everything for the last minute.\",\n",
       "  'section': 'General course-related questions',\n",
       "  'question': 'Course - Can I still join the course after the start date?',\n",
       "  'course': 'data-engineering-zoomcamp'},\n",
       " {'text': 'Yes, we will keep all the materials after the course finishes, so you can follow the course at your own pace after it finishes.\\nYou can also continue looking at the homeworks and continue preparing for the next cohort. I guess you can also start working on your final capstone project.',\n",
       "  'section': 'General course-related questions',\n",
       "  'question': 'Course - Can I follow the course after it finishes?',\n",
       "  'course': 'data-engineering-zoomcamp'},\n",
       " {'text': 'Start by installing and setting up all the dependencies and requirements:\\nGoogle cloud account\\nGoogle Cloud SDK\\nPython 3 (installed with Anaconda)\\nTerraform\\nGit\\nLook over the prerequisites and syllabus to see if you are comfortable with these subjects.',\n",
       "  'section': 'General course-related questions',\n",
       "  'question': 'Course - What can I do before the course starts?',\n",
       "  'course': 'data-engineering-zoomcamp'},\n",
       " {'text': \"Data Engineering Zoomcamp FAQ\\nData Engineering Zoomcamp FAQ\\nThe purpose of this document is to capture Frequently asked technical questions\\nEditing guidelines:\\nWhen adding a new FAQ entry, make sure the question is “Heading 2”\\nFeel free to improve if you see something is off\\nDon’t change the formatting in the Data document or add any visual “improvements” (make a copy for yourself first if you need to do it for whatever reason)\\nDon’t change the pages format (it should be “pageless”)\\nAdd name and date for reference, if possible\\nThe next cohort starts January 13th 2025. More info at DTC.\\nRegister before the course starts using this link.\\nJoint the course Telegram channel with announcements.\\nDon’t forget to register in DataTalks.Club's Slack and join the channel.\",\n",
       "  'section': 'General course-related questions',\n",
       "  'question': 'Course - When does the course start?',\n",
       "  'course': 'data-engineering-zoomcamp'},\n",
       " {'text': 'Yes, the slack channel remains open and you can ask questions there. But always search the channel first and second, check the FAQ (this document), most likely all your questions are already answered here.\\nYou can also tag the bot @ZoomcampQABot to help you conduct the search, but don’t rely on its answers 100%, it is pretty good though.',\n",
       "  'section': 'General course-related questions',\n",
       "  'question': 'Course - Can I get support if I take the course in the self-paced mode?',\n",
       "  'course': 'data-engineering-zoomcamp'}]"
      ]
     },
     "execution_count": 10,
     "metadata": {},
     "output_type": "execute_result"
    }
   ],
   "source": [
    "results"
   ]
  },
  {
   "cell_type": "code",
   "execution_count": 4,
   "id": "aa4572ab41933f2d",
   "metadata": {
    "ExecuteTime": {
     "end_time": "2025-06-16T10:02:20.261786Z",
     "start_time": "2025-06-16T10:02:19.701599Z"
    }
   },
   "outputs": [],
   "source": [
    "from openai import OpenAI"
   ]
  },
  {
   "cell_type": "code",
   "execution_count": 3,
   "id": "4e13ea3392d540da",
   "metadata": {
    "ExecuteTime": {
     "end_time": "2025-06-16T10:05:18.839749Z",
     "start_time": "2025-06-16T10:05:18.775308Z"
    }
   },
   "outputs": [
    {
     "ename": "NameError",
     "evalue": "name 'OpenAI' is not defined",
     "output_type": "error",
     "traceback": [
      "\u001b[31m---------------------------------------------------------------------------\u001b[39m",
      "\u001b[31mNameError\u001b[39m                                 Traceback (most recent call last)",
      "\u001b[36mCell\u001b[39m\u001b[36m \u001b[39m\u001b[32mIn[3]\u001b[39m\u001b[32m, line 1\u001b[39m\n\u001b[32m----> \u001b[39m\u001b[32m1\u001b[39m client = OpenAI()\n",
      "\u001b[31mNameError\u001b[39m: name 'OpenAI' is not defined"
     ]
    }
   ],
   "source": [
    "client = OpenAI()"
   ]
  },
  {
   "cell_type": "code",
   "execution_count": null,
   "id": "eda90932ee8e4b5b",
   "metadata": {},
   "outputs": [],
   "source": [
    "os.environ"
   ]
  },
  {
   "cell_type": "code",
   "execution_count": 21,
   "id": "7513e39b5c1f8c58",
   "metadata": {
    "ExecuteTime": {
     "end_time": "2025-06-16T10:09:39.725237Z",
     "start_time": "2025-06-16T10:09:35.904522Z"
    }
   },
   "outputs": [
    {
     "data": {
      "text/plain": [
       "'It depends on the course and the institution offering it. Many courses allow late enrollment within a certain time frame, especially online courses or ones with self-paced modules. However, some courses may have strict deadlines and may not accept new students after the start date.\\n\\n**What to do:**\\n- **Check the course website or platform** for enrollment policies.\\n- **Contact the course administrator or instructor** to ask if late enrollment is possible.\\n- **Be prepared** to catch up on missed material if you are allowed to enroll late.\\n\\nIf you share more details—such as the course name, provider, or platform—I can offer more specific advice!'"
      ]
     },
     "execution_count": 21,
     "metadata": {},
     "output_type": "execute_result"
    }
   ],
   "source": [
    "response = client.chat.completions.create(\n",
    "    model='gpt-4.1',\n",
    "    messages=[{\"role\": \"user\", \"content\": q}]\n",
    ")\n",
    "\n",
    "response.choices[0].message.content"
   ]
  },
  {
   "cell_type": "code",
   "execution_count": 20,
   "id": "54ed31ad36747d2d",
   "metadata": {
    "ExecuteTime": {
     "end_time": "2025-06-16T10:08:48.063678Z",
     "start_time": "2025-06-16T10:08:48.053122Z"
    }
   },
   "outputs": [],
   "source": [
    "def search(query):\n",
    "    boost = {'question': 3.0, 'section': 0.5}\n",
    "\n",
    "    results = index.search(\n",
    "        query=query,\n",
    "        filter_dict={'course': 'data-engineering-zoomcamp'},\n",
    "        boost_dict=boost,\n",
    "        num_results=5\n",
    "    )\n",
    "\n",
    "    return results"
   ]
  },
  {
   "cell_type": "code",
   "execution_count": 22,
   "id": "acfa64d2b842ac46",
   "metadata": {
    "ExecuteTime": {
     "end_time": "2025-06-16T10:09:46.354649Z",
     "start_time": "2025-06-16T10:09:46.344336Z"
    }
   },
   "outputs": [],
   "source": [
    "def build_prompt(query, search_results):\n",
    "    prompt_template = \"\"\"\n",
    "You're a course teaching assistant. Answer the QUESTION based on the CONTEXT from the FAQ database.\n",
    "Use only the facts from the CONTEXT when answering the QUESTION.\n",
    "\n",
    "QUESTION: {question}\n",
    "\n",
    "CONTEXT:\n",
    "{context}\n",
    "\"\"\".strip()\n",
    "\n",
    "    context = \"\"\n",
    "\n",
    "    for doc in search_results:\n",
    "        context = context + f\"section: {doc['section']}\\nquestion: {doc['question']}\\nanswer: {doc['text']}\\n\\n\"\n",
    "\n",
    "    prompt = prompt_template.format(question=query, context=context).strip()\n",
    "    return prompt"
   ]
  },
  {
   "cell_type": "code",
   "execution_count": 24,
   "id": "858877cbcdf22f1a",
   "metadata": {
    "ExecuteTime": {
     "end_time": "2025-06-16T10:11:05.450410Z",
     "start_time": "2025-06-16T10:11:05.448062Z"
    }
   },
   "outputs": [],
   "source": [
    "def llm(prompt):\n",
    "    response = client.chat.completions.create(\n",
    "        model='gpt-4.1',\n",
    "        messages=[{\"role\": \"user\", \"content\": prompt}]\n",
    "    )\n",
    "\n",
    "    return response.choices[0].message.content"
   ]
  },
  {
   "cell_type": "code",
   "execution_count": 27,
   "id": "4967a9a5b960e4a8",
   "metadata": {
    "ExecuteTime": {
     "end_time": "2025-06-16T10:12:22.944081Z",
     "start_time": "2025-06-16T10:12:22.935497Z"
    }
   },
   "outputs": [],
   "source": [
    "query = 'how do I run kafka?'\n",
    "# query = q\n",
    "def rag(query):\n",
    "    search_results = search(query)\n",
    "    prompt = build_prompt(query, search_results)\n",
    "    answer = llm(prompt)\n",
    "    return answer"
   ]
  },
  {
   "cell_type": "code",
   "execution_count": 29,
   "id": "3b4b3d8be66e33bf",
   "metadata": {
    "ExecuteTime": {
     "end_time": "2025-06-16T10:12:53.678229Z",
     "start_time": "2025-06-16T10:12:48.988692Z"
    }
   },
   "outputs": [
    {
     "name": "stdout",
     "output_type": "stream",
     "text": [
      "To run Kafka in the context of your course, follow these steps depending on whether you’re using Python or Java:\n",
      "\n",
      "**For Python:**\n",
      "1. **Set up a virtual environment:**\n",
      "   - Create a virtual environment (do this only once):  \n",
      "     `python -m venv env`\n",
      "   - Activate the environment:  \n",
      "     - On MacOS/Linux: `source env/bin/activate`\n",
      "     - On Windows: `env\\Scripts\\activate`\n",
      "   - Install dependencies:  \n",
      "     `pip install -r ../requirements.txt`\n",
      "   - If you see `ModuleNotFoundError: No module named 'kafka'`, make sure to use  \n",
      "     `pip install kafka-python-ng` (as per the recommended library).\n",
      "\n",
      "2. **Run your producer or consumer Python files while the virtual environment is active.**\n",
      "   - Also, make sure all necessary Docker images (Kafka, Zookeeper, etc.) are up and running before running your Python files.\n",
      "\n",
      "**For Java:**\n",
      "- In your project directory, use the following command to run Kafka producer/consumer/KStreams, etc.:\n",
      "  ```\n",
      "  java -cp build/libs/<jar_name>-1.0-SNAPSHOT.jar:out src/main/java/org/example/JsonProducer.java\n",
      "  ```\n",
      "\n",
      "**General note:**  \n",
      "If you encounter a permission denied error (`./build.sh: Permission denied`), run:  \n",
      "`chmod +x build.sh`  \n",
      "in the directory where `build.sh` is located (normally `/docker/spark`).\n",
      "\n",
      "**Summary:**  \n",
      "- For Python, use a virtual environment and install required packages, then run your Python scripts.\n",
      "- For Java, use the `java -cp` command with the appropriate JAR file.\n",
      "- Ensure Docker services (Kafka, Zookeeper) are running before starting your code.\n"
     ]
    }
   ],
   "source": [
    "print(rag(query))"
   ]
  },
  {
   "cell_type": "code",
   "execution_count": 35,
   "id": "ea9feecb3a14f1d5",
   "metadata": {
    "ExecuteTime": {
     "end_time": "2025-06-16T10:45:22.034295Z",
     "start_time": "2025-06-16T10:45:22.026853Z"
    }
   },
   "outputs": [],
   "source": [
    "from elasticsearch import Elasticsearch"
   ]
  },
  {
   "cell_type": "code",
   "execution_count": 36,
   "id": "5c7b2798f51988ee",
   "metadata": {
    "ExecuteTime": {
     "end_time": "2025-06-16T10:45:23.082063Z",
     "start_time": "2025-06-16T10:45:23.072727Z"
    }
   },
   "outputs": [],
   "source": [
    "es_client = Elasticsearch('http://localhost:9200')"
   ]
  },
  {
   "cell_type": "code",
   "execution_count": 37,
   "id": "91a7d5d08f5dd4b2",
   "metadata": {
    "ExecuteTime": {
     "end_time": "2025-06-16T10:45:23.910320Z",
     "start_time": "2025-06-16T10:45:23.888485Z"
    }
   },
   "outputs": [
    {
     "data": {
      "text/plain": [
       "ObjectApiResponse({'name': '80f9e0461d82', 'cluster_name': 'docker-cluster', 'cluster_uuid': 'K--Di7DDRcO5HZx_ZbicIw', 'version': {'number': '9.0.2', 'build_flavor': 'default', 'build_type': 'docker', 'build_hash': '0a58bc1dc7a4ae5412db66624aab968370bd44ce', 'build_date': '2025-05-28T10:06:37.834829258Z', 'build_snapshot': False, 'lucene_version': '10.1.0', 'minimum_wire_compatibility_version': '8.18.0', 'minimum_index_compatibility_version': '8.0.0'}, 'tagline': 'You Know, for Search'})"
      ]
     },
     "execution_count": 37,
     "metadata": {},
     "output_type": "execute_result"
    }
   ],
   "source": [
    "es_client.info()"
   ]
  },
  {
   "cell_type": "code",
   "execution_count": 38,
   "id": "ca9d066e97ab4b3",
   "metadata": {
    "ExecuteTime": {
     "end_time": "2025-06-16T10:45:28.960259Z",
     "start_time": "2025-06-16T10:45:28.454183Z"
    }
   },
   "outputs": [
    {
     "data": {
      "text/plain": [
       "ObjectApiResponse({'acknowledged': True, 'shards_acknowledged': True, 'index': 'course-questions'})"
      ]
     },
     "execution_count": 38,
     "metadata": {},
     "output_type": "execute_result"
    }
   ],
   "source": [
    "index_settings = {\n",
    "    \"settings\": {\n",
    "        \"number_of_shards\": 1,\n",
    "        \"number_of_replicas\": 0\n",
    "    },\n",
    "    \"mappings\": {\n",
    "        \"properties\": {\n",
    "            \"text\": {\"type\": \"text\"},\n",
    "            \"section\": {\"type\": \"text\"},\n",
    "            \"question\": {\"type\": \"text\"},\n",
    "            \"course\": {\"type\": \"keyword\"}\n",
    "        }\n",
    "    }\n",
    "}\n",
    "\n",
    "index_name = \"course-questions\"\n",
    "\n",
    "es_client.indices.create(index=index_name, body=index_settings)"
   ]
  },
  {
   "cell_type": "code",
   "execution_count": 39,
   "id": "3f2ce0d08f7f0b8f",
   "metadata": {
    "ExecuteTime": {
     "end_time": "2025-06-16T10:46:27.126626Z",
     "start_time": "2025-06-16T10:46:27.123312Z"
    }
   },
   "outputs": [
    {
     "data": {
      "text/plain": [
       "{'text': \"Data Engineering Zoomcamp FAQ\\nData Engineering Zoomcamp FAQ\\nThe purpose of this document is to capture Frequently asked technical questions\\nEditing guidelines:\\nWhen adding a new FAQ entry, make sure the question is “Heading 2”\\nFeel free to improve if you see something is off\\nDon’t change the formatting in the Data document or add any visual “improvements” (make a copy for yourself first if you need to do it for whatever reason)\\nDon’t change the pages format (it should be “pageless”)\\nAdd name and date for reference, if possible\\nThe next cohort starts January 13th 2025. More info at DTC.\\nRegister before the course starts using this link.\\nJoint the course Telegram channel with announcements.\\nDon’t forget to register in DataTalks.Club's Slack and join the channel.\",\n",
       " 'section': 'General course-related questions',\n",
       " 'question': 'Course - When does the course start?',\n",
       " 'course': 'data-engineering-zoomcamp'}"
      ]
     },
     "execution_count": 39,
     "metadata": {},
     "output_type": "execute_result"
    }
   ],
   "source": [
    "documents[0]"
   ]
  },
  {
   "cell_type": "code",
   "execution_count": 40,
   "id": "a88608e21488c841",
   "metadata": {
    "ExecuteTime": {
     "end_time": "2025-06-16T10:46:39.310272Z",
     "start_time": "2025-06-16T10:46:39.239202Z"
    }
   },
   "outputs": [],
   "source": [
    "from tqdm.auto import tqdm"
   ]
  },
  {
   "cell_type": "code",
   "execution_count": 41,
   "id": "5c548f15cee501d9",
   "metadata": {
    "ExecuteTime": {
     "end_time": "2025-06-16T10:47:17.855114Z",
     "start_time": "2025-06-16T10:46:59.605659Z"
    }
   },
   "outputs": [
    {
     "data": {
      "application/vnd.jupyter.widget-view+json": {
       "model_id": "b9a18b14e75b44f2b349c14810f8beb7",
       "version_major": 2,
       "version_minor": 0
      },
      "text/plain": [
       "  0%|          | 0/1122 [00:00<?, ?it/s]"
      ]
     },
     "metadata": {},
     "output_type": "display_data"
    }
   ],
   "source": [
    "for doc in tqdm(documents):\n",
    "    es_client.index(index=index_name, document=doc)"
   ]
  },
  {
   "cell_type": "code",
   "execution_count": 42,
   "id": "373cd077cf8842eb",
   "metadata": {
    "ExecuteTime": {
     "end_time": "2025-06-16T10:47:52.107250Z",
     "start_time": "2025-06-16T10:47:52.105028Z"
    }
   },
   "outputs": [],
   "source": [
    "query = 'I just discovered the course. Can I still join it?'"
   ]
  },
  {
   "cell_type": "code",
   "execution_count": 43,
   "id": "cd93cc2da5cb7dad",
   "metadata": {
    "ExecuteTime": {
     "end_time": "2025-06-16T10:51:17.288059Z",
     "start_time": "2025-06-16T10:51:17.274990Z"
    }
   },
   "outputs": [],
   "source": [
    "def elastic_search(query):\n",
    "    search_query = {\n",
    "        \"size\": 5,\n",
    "        \"query\": {\n",
    "            \"bool\": {\n",
    "                \"must\": {\n",
    "                    \"multi_match\": {\n",
    "                        \"query\": query,\n",
    "                        \"fields\": [\"question^3\", \"text\", \"section\"],\n",
    "                        \"type\": \"best_fields\"\n",
    "                    }\n",
    "                },\n",
    "                \"filter\": {\n",
    "                    \"term\": {\n",
    "                        \"course\": \"data-engineering-zoomcamp\"\n",
    "                    }\n",
    "                }\n",
    "            }\n",
    "        }\n",
    "    }\n",
    "\n",
    "    response = es_client.search(index=index_name, body=search_query)\n",
    "\n",
    "    result_docs = []\n",
    "\n",
    "    for hit in response['hits']['hits']:\n",
    "        result_docs.append(hit['_source'])\n",
    "\n",
    "    return result_docs\n"
   ]
  },
  {
   "cell_type": "code",
   "execution_count": 44,
   "id": "5bf9c4b52ec6030f",
   "metadata": {
    "ExecuteTime": {
     "end_time": "2025-06-16T10:51:31.244950Z",
     "start_time": "2025-06-16T10:51:31.243051Z"
    }
   },
   "outputs": [],
   "source": [
    "def rag(query):\n",
    "    search_results = elastic_search(query)\n",
    "    prompt = build_prompt(query, search_results)\n",
    "    answer = llm(prompt)\n",
    "    return answer"
   ]
  },
  {
   "cell_type": "code",
   "execution_count": 45,
   "id": "72e500bebf208255",
   "metadata": {
    "ExecuteTime": {
     "end_time": "2025-06-16T10:51:45.515770Z",
     "start_time": "2025-06-16T10:51:43.402182Z"
    }
   },
   "outputs": [
    {
     "name": "stdout",
     "output_type": "stream",
     "text": [
      "Yes, you can still join the course even if you discovered it after the start date. You are eligible to submit the homework without registering, but please make sure to meet the deadlines for homework and final project submissions. Don’t leave everything for the last minute!\n"
     ]
    }
   ],
   "source": [
    "print(rag(query))"
   ]
  },
  {
   "cell_type": "code",
   "execution_count": null,
   "id": "9ad2bcdb660c4eaf",
   "metadata": {},
   "outputs": [],
   "source": []
  }
 ],
 "metadata": {
  "kernelspec": {
   "display_name": "Python 3 (ipykernel)",
   "language": "python",
   "name": "python3"
  },
  "language_info": {
   "codemirror_mode": {
    "name": "ipython",
    "version": 3
   },
   "file_extension": ".py",
   "mimetype": "text/x-python",
   "name": "python",
   "nbconvert_exporter": "python",
   "pygments_lexer": "ipython3",
   "version": "3.13.5"
  }
 },
 "nbformat": 4,
 "nbformat_minor": 5
}
