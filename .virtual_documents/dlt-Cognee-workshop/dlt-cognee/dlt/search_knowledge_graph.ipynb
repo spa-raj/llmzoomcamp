%%capture
!pip install cognee
!pip install kuzu


import cognee
from cognee.api.v1.search import SearchType
from cognee.modules.engine.models import NodeSet


async def search_cognee(query, node_set, query_type=SearchType.GRAPH_COMPLETION):
    answer = await cognee.search(
        query_text=query,
        query_type=query_type,
        node_type=NodeSet,
        node_name=node_set
    )
    return answer


results = await search_cognee(
    query="What API endpoints are in the Ticketmaster api? Give me specific endpoint urls.",
    node_set=['developer.ticketmaster.com']
)


print(results[0])


results = await search_cognee(
    query="What auth info do i need in the ticketmaster API?",
    node_set=['developer.ticketmaster.com']
)


print(results[0])


results = await search_cognee(
    query="What pagination do i need in the ticketmaster API?",
    node_set=['developer.ticketmaster.com']
)


print(results[0])


results = await search_cognee(
    query="What pagination do i need in the ticketmaster API?",
    node_set=['developer.ticketmaster.com']
)





results = await search_cognee('''
    What sort of API information is in this knowledge graph?
    ''', 
    node_set=['docs'], query_type=SearchType.RAG_COMPLETION)


print(results[0])








results = await search_cognee('''
    What sort of API information is in this knowledge graph?
    ''', 
    node_set=['developer.ticketmaster.com'])


print(results[0])
