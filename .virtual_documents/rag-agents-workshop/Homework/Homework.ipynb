import random


known_weather_data = {
    'berlin': 20.0
}

def get_weather(city: str) -> float:
    city = city.strip().lower()

    if city in known_weather_data:
        return known_weather_data[city]

    return round(random.uniform(-5, 35), 1)





get_weather_tool = {
    "type": "function",
    "name": "get_weather",
    "description": "Get the current temperature of a given city.",
    "parameters": {
        "type": "object",
        "properties": {
            "city": {
                "type": "string",
                "description": "City name to get the current temperature"
            }
        },
        "required": [
            "city"
        ],
        "additionalProperties": False
    }
}





from openai import OpenAI
import chat_assistant


client = OpenAI()


tools = chat_assistant.Tools()

tools.add_tool(get_weather, get_weather_tool)
tools.get_tools()


developer_prompt = """
You are a helpful assistant that can provide the current temperature for a given city.
Use the available tools to answer user questions about the weather.
If the user asks about a country, ask them to specify a city.
""".strip()


chat_interface = chat_assistant.ChatInterface()
chat = chat_assistant.ChatAssistant(
    tools=tools,
    developer_prompt=developer_prompt,
    chat_interface=chat_interface,
    client=client
)


chat.run()





def set_weather(city: str, temp: float) -> None:
    city = city.strip().lower()
    known_weather_data[city] = temp
    return 'OK'


set_weather_tool = {
    "type": "function",
    "name": "set_weather",
    "description": "Set the current temperature of a given city.",
    "parameters": {
        "type": "object",
        "properties": {
            "city": {
                "type": "string",
                "description": "City name to set the current temperature"
            },
            "temp":{
                "type": "number",
                "descripton": "Current temperature of the city"
            }
        },
        "required": [
            "city",
            "temp"
        ],
        "additionalProperties": False
    }
}


tools.add_tool(set_weather, set_weather_tool)

developer_prompt = """
You are a helpful assistant that can get and set the current temperature for a given city.
Use the available tools to answer user questions about the weather.
If the user asks about a country, ask them to specify a city.
When a user provides a temperature for a city, use the set_weather tool.
""".strip()

chat_interface = chat_assistant.ChatInterface()

chat = chat_assistant.ChatAssistant(
    tools=tools,
    developer_prompt=developer_prompt,
    chat_interface=chat_interface,
    client=client
)


chat.run()








pip install fastmcp




















import asyncio
from fastmcp import Client
import nest_asyncio

# nest_asyncio allows the event loop to be nested, which is needed in environments like Jupyter
# nest_asyncio.apply()

async def main():
    """
    Connects to the weather_server and lists its available tools.
    """
    # The client will run the weather_server.py script as a subprocess
    async with Client("weather_server.py") as mcp_client:
        tools = await mcp_client.list_tools()
        print(f"Available tools: {tools}")

# In a Jupyter Notebook, you can run the async main function like this
asyncio.run(main())
