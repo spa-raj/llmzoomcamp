{
 "cells": [
  {
   "metadata": {
    "ExecuteTime": {
     "end_time": "2025-06-16T09:36:04.698558Z",
     "start_time": "2025-06-16T09:36:04.654065Z"
    }
   },
   "cell_type": "code",
   "source": [
    "import io\n",
    "\n",
    "import requests\n",
    "import docx"
   ],
   "id": "4cd1eaa8-3424-41ad-9cf2-3e8548712865",
   "outputs": [],
   "execution_count": 9
  },
  {
   "cell_type": "code",
   "id": "8180e7e4-b90d-4900-a59b-d22e5d6537c4",
   "metadata": {
    "ExecuteTime": {
     "end_time": "2025-06-16T09:36:08.212381Z",
     "start_time": "2025-06-16T09:36:08.204357Z"
    }
   },
   "source": [
    "def clean_line(line):\n",
    "    line = line.strip()\n",
    "    line = line.strip('\\uFEFF')\n",
    "    return line\n",
    "\n",
    "def read_faq(file_id):\n",
    "    url = f'https://docs.google.com/document/d/{file_id}/export?format=docx'\n",
    "    \n",
    "    response = requests.get(url)\n",
    "    response.raise_for_status()\n",
    "    \n",
    "    with io.BytesIO(response.content) as f_in:\n",
    "        doc = docx.Document(f_in)\n",
    "\n",
    "    questions = []\n",
    "\n",
    "    question_heading_style = 'heading 2'\n",
    "    section_heading_style = 'heading 1'\n",
    "    \n",
    "    heading_id = ''\n",
    "    section_title = ''\n",
    "    question_title = ''\n",
    "    answer_text_so_far = ''\n",
    "     \n",
    "    for p in doc.paragraphs:\n",
    "        style = p.style.name.lower()\n",
    "        p_text = clean_line(p.text)\n",
    "    \n",
    "        if len(p_text) == 0:\n",
    "            continue\n",
    "    \n",
    "        if style == section_heading_style:\n",
    "            section_title = p_text\n",
    "            continue\n",
    "    \n",
    "        if style == question_heading_style:\n",
    "            answer_text_so_far = answer_text_so_far.strip()\n",
    "            if answer_text_so_far != '' and section_title != '' and question_title != '':\n",
    "                questions.append({\n",
    "                    'text': answer_text_so_far,\n",
    "                    'section': section_title,\n",
    "                    'question': question_title,\n",
    "                })\n",
    "                answer_text_so_far = ''\n",
    "    \n",
    "            question_title = p_text\n",
    "            continue\n",
    "        \n",
    "        answer_text_so_far += '\\n' + p_text\n",
    "    \n",
    "    answer_text_so_far = answer_text_so_far.strip()\n",
    "    if answer_text_so_far != '' and section_title != '' and question_title != '':\n",
    "        questions.append({\n",
    "            'text': answer_text_so_far,\n",
    "            'section': section_title,\n",
    "            'question': question_title,\n",
    "        })\n",
    "\n",
    "    return questions"
   ],
   "outputs": [],
   "execution_count": 10
  },
  {
   "cell_type": "code",
   "id": "7d3c2dd7-f64a-4dc7-a4e3-3e8aadfa720f",
   "metadata": {
    "ExecuteTime": {
     "end_time": "2025-06-16T09:36:10.270350Z",
     "start_time": "2025-06-16T09:36:10.267980Z"
    }
   },
   "source": [
    "faq_documents = {\n",
    "    'data-engineering-zoomcamp': '19bnYs80DwuUimHM65UV3sylsCn2j1vziPOwzBwQrebw',\n",
    "    'machine-learning-zoomcamp': '1LpPanc33QJJ6BSsyxVg-pWNMplal84TdZtq10naIhD8',\n",
    "    'mlops-zoomcamp': '12TlBfhIiKtyBv8RnsoJR6F72bkPDGEvPOItJIxaEzE0',\n",
    "}"
   ],
   "outputs": [],
   "execution_count": 11
  },
  {
   "cell_type": "code",
   "id": "f94efe26-05e8-4ae5-a0fa-0a8e16852816",
   "metadata": {
    "ExecuteTime": {
     "end_time": "2025-06-16T09:36:49.276940Z",
     "start_time": "2025-06-16T09:36:13.510298Z"
    }
   },
   "source": [
    "documents = []\n",
    "\n",
    "for course, file_id in faq_documents.items():\n",
    "    print(course)\n",
    "    course_documents = read_faq(file_id)\n",
    "    documents.append({'course': course, 'documents': course_documents})"
   ],
   "outputs": [
    {
     "name": "stdout",
     "output_type": "stream",
     "text": [
      "data-engineering-zoomcamp\n",
      "machine-learning-zoomcamp\n",
      "mlops-zoomcamp\n"
     ]
    }
   ],
   "execution_count": 12
  },
  {
   "cell_type": "code",
   "id": "06b8d8be-f656-4cc3-893f-b159be8fda21",
   "metadata": {
    "ExecuteTime": {
     "end_time": "2025-06-16T09:38:17.202630Z",
     "start_time": "2025-06-16T09:38:17.200374Z"
    }
   },
   "source": [
    "import json"
   ],
   "outputs": [],
   "execution_count": 13
  },
  {
   "cell_type": "code",
   "id": "30d50bc1-8d26-44ee-8734-cafce05e0523",
   "metadata": {
    "ExecuteTime": {
     "end_time": "2025-06-16T09:39:07.356002Z",
     "start_time": "2025-06-16T09:39:07.345908Z"
    }
   },
   "source": [
    "with open('documents.json', 'wt') as f_out:\n",
    "    json.dump(documents, f_out, indent=2)"
   ],
   "outputs": [],
   "execution_count": 16
  },
  {
   "cell_type": "code",
   "id": "0eabb1c6-5cc6-4d4d-a6da-e27d41cea546",
   "metadata": {
    "ExecuteTime": {
     "end_time": "2025-06-16T09:39:10.595475Z",
     "start_time": "2025-06-16T09:39:10.352829Z"
    }
   },
   "source": [
    "!head documents.json"
   ],
   "outputs": [
    {
     "name": "stdout",
     "output_type": "stream",
     "text": [
      "[\r\n",
      "  {\r\n",
      "    \"course\": \"data-engineering-zoomcamp\",\r\n",
      "    \"documents\": [\r\n",
      "      {\r\n",
      "        \"text\": \"Data Engineering Zoomcamp FAQ\\nData Engineering Zoomcamp FAQ\\nThe purpose of this document is to capture Frequently asked technical questions\\nEditing guidelines:\\nWhen adding a new FAQ entry, make sure the question is \\u201cHeading 2\\u201d\\nFeel free to improve if you see something is off\\nDon\\u2019t change the formatting in the Data document or add any visual \\u201cimprovements\\u201d (make a copy for yourself first if you need to do it for whatever reason)\\nDon\\u2019t change the pages format (it should be \\u201cpageless\\u201d)\\nAdd name and date for reference, if possible\\nThe next cohort starts January 13th 2025. More info at DTC.\\nRegister before the course starts using this link.\\nJoint the course Telegram channel with announcements.\\nDon\\u2019t forget to register in DataTalks.Club's Slack and join the channel.\",\r\n",
      "        \"section\": \"General course-related questions\",\r\n",
      "        \"question\": \"Course - When does the course start?\"\r\n",
      "      },\r\n",
      "      {\r\n"
     ]
    }
   ],
   "execution_count": 17
  },
  {
   "cell_type": "code",
   "execution_count": null,
   "id": "1b21af5c-2f6d-49e7-92e9-ca229e2473b9",
   "metadata": {},
   "outputs": [],
   "source": []
  }
 ],
 "metadata": {
  "kernelspec": {
   "display_name": "Python 3 (ipykernel)",
   "language": "python",
   "name": "python3"
  },
  "language_info": {
   "codemirror_mode": {
    "name": "ipython",
    "version": 3
   },
   "file_extension": ".py",
   "mimetype": "text/x-python",
   "name": "python",
   "nbconvert_exporter": "python",
   "pygments_lexer": "ipython3",
   "version": "3.9.13"
  }
 },
 "nbformat": 4,
 "nbformat_minor": 5
}
