{
 "cells": [
  {
   "cell_type": "code",
   "execution_count": 2,
   "id": "001c8c66-beab-4ce4-bdcb-0daf80d617a0",
   "metadata": {},
   "outputs": [],
   "source": [
    "%%capture\n",
    "!pip install cognee\n",
    "!pip install kuzu"
   ]
  },
  {
   "cell_type": "code",
   "execution_count": 3,
   "id": "initial_id",
   "metadata": {
    "ExecuteTime": {
     "end_time": "2025-07-10T06:05:17.398557Z",
     "start_time": "2025-07-10T06:05:17.157228Z"
    }
   },
   "outputs": [
    {
     "name": "stderr",
     "output_type": "stream",
     "text": [
      "\n",
      "\u001b[2m2025-07-10T06:18:46.949040\u001b[0m [\u001b[32m\u001b[1minfo     \u001b[0m] \u001b[1mLogging initialized           \u001b[0m [\u001b[0m\u001b[1m\u001b[34mcognee.shared.logging_utils\u001b[0m]\u001b[0m \u001b[36mcognee_version\u001b[0m=\u001b[35m0.2.0\u001b[0m \u001b[36mos_info\u001b[0m=\u001b[35m'Linux 6.11.0-29-generic (#29~24.04.1-Ubuntu SMP PREEMPT_DYNAMIC Thu Jun 26 14:16:59 UTC 2)'\u001b[0m \u001b[36mpython_version\u001b[0m=\u001b[35m3.12.11\u001b[0m \u001b[36mstructlog_version\u001b[0m=\u001b[35m25.4.0\u001b[0m\n",
      "\n",
      "\u001b[2m2025-07-10T06:18:46.964779\u001b[0m [\u001b[32m\u001b[1minfo     \u001b[0m] \u001b[1mWant to learn more? Visit the Cognee documentation: https://docs.cognee.ai\u001b[0m [\u001b[0m\u001b[1m\u001b[34mcognee.shared.logging_utils\u001b[0m]\u001b[0m\n",
      "\n",
      "\u001b[1mHTTP Request: GET https://raw.githubusercontent.com/BerriAI/litellm/main/model_prices_and_context_window.json \"HTTP/1.1 200 OK\"\u001b[0m\n"
     ]
    }
   ],
   "source": [
    "import cognee\n",
    "from cognee.api.v1.search import SearchType\n",
    "from cognee.modules.engine.models import NodeSet"
   ]
  },
  {
   "cell_type": "code",
   "execution_count": 4,
   "id": "7c411d23c4d25853",
   "metadata": {
    "ExecuteTime": {
     "end_time": "2025-06-29T16:04:46.521295800Z",
     "start_time": "2025-06-29T16:04:46.505654600Z"
    },
    "collapsed": false,
    "jupyter": {
     "outputs_hidden": false
    }
   },
   "outputs": [],
   "source": [
    "async def search_cognee(query, node_set, query_type=SearchType.GRAPH_COMPLETION):\n",
    "    answer = await cognee.search(\n",
    "        query_text=query,\n",
    "        query_type=query_type,\n",
    "        node_type=NodeSet,\n",
    "        node_name=node_set\n",
    "    )\n",
    "    return answer"
   ]
  },
  {
   "cell_type": "code",
   "execution_count": 5,
   "id": "5ed879e375ccfb68",
   "metadata": {
    "ExecuteTime": {
     "end_time": "2025-06-29T14:07:37.703006100Z",
     "start_time": "2025-06-29T14:07:25.203355900Z"
    },
    "collapsed": false,
    "jupyter": {
     "outputs_hidden": false
    }
   },
   "outputs": [
    {
     "ename": "OperationalError",
     "evalue": "(sqlite3.OperationalError) unable to open database file\n(Background on this error at: https://sqlalche.me/e/20/e3q8)",
     "output_type": "error",
     "traceback": [
      "\u001b[0;31m---------------------------------------------------------------------------\u001b[0m",
      "\u001b[0;31mOperationalError\u001b[0m                          Traceback (most recent call last)",
      "File \u001b[0;32m~/anaconda3/lib/python3.12/site-packages/sqlalchemy/engine/base.py:146\u001b[0m, in \u001b[0;36mConnection.__init__\u001b[0;34m(self, engine, connection, _has_events, _allow_revalidate, _allow_autobegin)\u001b[0m\n\u001b[1;32m    145\u001b[0m \u001b[38;5;28;01mtry\u001b[39;00m:\n\u001b[0;32m--> 146\u001b[0m     \u001b[38;5;28mself\u001b[39m\u001b[38;5;241m.\u001b[39m_dbapi_connection \u001b[38;5;241m=\u001b[39m engine\u001b[38;5;241m.\u001b[39mraw_connection()\n\u001b[1;32m    147\u001b[0m \u001b[38;5;28;01mexcept\u001b[39;00m dialect\u001b[38;5;241m.\u001b[39mloaded_dbapi\u001b[38;5;241m.\u001b[39mError \u001b[38;5;28;01mas\u001b[39;00m err:\n",
      "File \u001b[0;32m~/anaconda3/lib/python3.12/site-packages/sqlalchemy/engine/base.py:3298\u001b[0m, in \u001b[0;36mEngine.raw_connection\u001b[0;34m(self)\u001b[0m\n\u001b[1;32m   3277\u001b[0m \u001b[38;5;250m\u001b[39m\u001b[38;5;124;03m\"\"\"Return a \"raw\" DBAPI connection from the connection pool.\u001b[39;00m\n\u001b[1;32m   3278\u001b[0m \n\u001b[1;32m   3279\u001b[0m \u001b[38;5;124;03mThe returned object is a proxied version of the DBAPI\u001b[39;00m\n\u001b[0;32m   (...)\u001b[0m\n\u001b[1;32m   3296\u001b[0m \n\u001b[1;32m   3297\u001b[0m \u001b[38;5;124;03m\"\"\"\u001b[39;00m\n\u001b[0;32m-> 3298\u001b[0m \u001b[38;5;28;01mreturn\u001b[39;00m \u001b[38;5;28mself\u001b[39m\u001b[38;5;241m.\u001b[39mpool\u001b[38;5;241m.\u001b[39mconnect()\n",
      "File \u001b[0;32m~/anaconda3/lib/python3.12/site-packages/sqlalchemy/pool/base.py:449\u001b[0m, in \u001b[0;36mPool.connect\u001b[0;34m(self)\u001b[0m\n\u001b[1;32m    442\u001b[0m \u001b[38;5;250m\u001b[39m\u001b[38;5;124;03m\"\"\"Return a DBAPI connection from the pool.\u001b[39;00m\n\u001b[1;32m    443\u001b[0m \n\u001b[1;32m    444\u001b[0m \u001b[38;5;124;03mThe connection is instrumented such that when its\u001b[39;00m\n\u001b[0;32m   (...)\u001b[0m\n\u001b[1;32m    447\u001b[0m \n\u001b[1;32m    448\u001b[0m \u001b[38;5;124;03m\"\"\"\u001b[39;00m\n\u001b[0;32m--> 449\u001b[0m \u001b[38;5;28;01mreturn\u001b[39;00m _ConnectionFairy\u001b[38;5;241m.\u001b[39m_checkout(\u001b[38;5;28mself\u001b[39m)\n",
      "File \u001b[0;32m~/anaconda3/lib/python3.12/site-packages/sqlalchemy/pool/base.py:1264\u001b[0m, in \u001b[0;36m_ConnectionFairy._checkout\u001b[0;34m(cls, pool, threadconns, fairy)\u001b[0m\n\u001b[1;32m   1263\u001b[0m \u001b[38;5;28;01mif\u001b[39;00m \u001b[38;5;129;01mnot\u001b[39;00m fairy:\n\u001b[0;32m-> 1264\u001b[0m     fairy \u001b[38;5;241m=\u001b[39m _ConnectionRecord\u001b[38;5;241m.\u001b[39mcheckout(pool)\n\u001b[1;32m   1266\u001b[0m     \u001b[38;5;28;01mif\u001b[39;00m threadconns \u001b[38;5;129;01mis\u001b[39;00m \u001b[38;5;129;01mnot\u001b[39;00m \u001b[38;5;28;01mNone\u001b[39;00m:\n",
      "File \u001b[0;32m~/anaconda3/lib/python3.12/site-packages/sqlalchemy/pool/base.py:713\u001b[0m, in \u001b[0;36m_ConnectionRecord.checkout\u001b[0;34m(cls, pool)\u001b[0m\n\u001b[1;32m    712\u001b[0m \u001b[38;5;28;01melse\u001b[39;00m:\n\u001b[0;32m--> 713\u001b[0m     rec \u001b[38;5;241m=\u001b[39m pool\u001b[38;5;241m.\u001b[39m_do_get()\n\u001b[1;32m    715\u001b[0m \u001b[38;5;28;01mtry\u001b[39;00m:\n",
      "File \u001b[0;32m~/anaconda3/lib/python3.12/site-packages/sqlalchemy/pool/impl.py:179\u001b[0m, in \u001b[0;36mQueuePool._do_get\u001b[0;34m(self)\u001b[0m\n\u001b[1;32m    178\u001b[0m \u001b[38;5;28;01mexcept\u001b[39;00m:\n\u001b[0;32m--> 179\u001b[0m     \u001b[38;5;28;01mwith\u001b[39;00m util\u001b[38;5;241m.\u001b[39msafe_reraise():\n\u001b[1;32m    180\u001b[0m         \u001b[38;5;28mself\u001b[39m\u001b[38;5;241m.\u001b[39m_dec_overflow()\n",
      "File \u001b[0;32m~/anaconda3/lib/python3.12/site-packages/sqlalchemy/util/langhelpers.py:146\u001b[0m, in \u001b[0;36msafe_reraise.__exit__\u001b[0;34m(self, type_, value, traceback)\u001b[0m\n\u001b[1;32m    145\u001b[0m     \u001b[38;5;28mself\u001b[39m\u001b[38;5;241m.\u001b[39m_exc_info \u001b[38;5;241m=\u001b[39m \u001b[38;5;28;01mNone\u001b[39;00m  \u001b[38;5;66;03m# remove potential circular references\u001b[39;00m\n\u001b[0;32m--> 146\u001b[0m     \u001b[38;5;28;01mraise\u001b[39;00m exc_value\u001b[38;5;241m.\u001b[39mwith_traceback(exc_tb)\n\u001b[1;32m    147\u001b[0m \u001b[38;5;28;01melse\u001b[39;00m:\n",
      "File \u001b[0;32m~/anaconda3/lib/python3.12/site-packages/sqlalchemy/pool/impl.py:177\u001b[0m, in \u001b[0;36mQueuePool._do_get\u001b[0;34m(self)\u001b[0m\n\u001b[1;32m    176\u001b[0m \u001b[38;5;28;01mtry\u001b[39;00m:\n\u001b[0;32m--> 177\u001b[0m     \u001b[38;5;28;01mreturn\u001b[39;00m \u001b[38;5;28mself\u001b[39m\u001b[38;5;241m.\u001b[39m_create_connection()\n\u001b[1;32m    178\u001b[0m \u001b[38;5;28;01mexcept\u001b[39;00m:\n",
      "File \u001b[0;32m~/anaconda3/lib/python3.12/site-packages/sqlalchemy/pool/base.py:390\u001b[0m, in \u001b[0;36mPool._create_connection\u001b[0;34m(self)\u001b[0m\n\u001b[1;32m    388\u001b[0m \u001b[38;5;250m\u001b[39m\u001b[38;5;124;03m\"\"\"Called by subclasses to create a new ConnectionRecord.\"\"\"\u001b[39;00m\n\u001b[0;32m--> 390\u001b[0m \u001b[38;5;28;01mreturn\u001b[39;00m _ConnectionRecord(\u001b[38;5;28mself\u001b[39m)\n",
      "File \u001b[0;32m~/anaconda3/lib/python3.12/site-packages/sqlalchemy/pool/base.py:675\u001b[0m, in \u001b[0;36m_ConnectionRecord.__init__\u001b[0;34m(self, pool, connect)\u001b[0m\n\u001b[1;32m    674\u001b[0m \u001b[38;5;28;01mif\u001b[39;00m connect:\n\u001b[0;32m--> 675\u001b[0m     \u001b[38;5;28mself\u001b[39m\u001b[38;5;241m.\u001b[39m__connect()\n\u001b[1;32m    676\u001b[0m \u001b[38;5;28mself\u001b[39m\u001b[38;5;241m.\u001b[39mfinalize_callback \u001b[38;5;241m=\u001b[39m deque()\n",
      "File \u001b[0;32m~/anaconda3/lib/python3.12/site-packages/sqlalchemy/pool/base.py:901\u001b[0m, in \u001b[0;36m_ConnectionRecord.__connect\u001b[0;34m(self)\u001b[0m\n\u001b[1;32m    900\u001b[0m \u001b[38;5;28;01mexcept\u001b[39;00m \u001b[38;5;167;01mBaseException\u001b[39;00m \u001b[38;5;28;01mas\u001b[39;00m e:\n\u001b[0;32m--> 901\u001b[0m     \u001b[38;5;28;01mwith\u001b[39;00m util\u001b[38;5;241m.\u001b[39msafe_reraise():\n\u001b[1;32m    902\u001b[0m         pool\u001b[38;5;241m.\u001b[39mlogger\u001b[38;5;241m.\u001b[39mdebug(\u001b[38;5;124m\"\u001b[39m\u001b[38;5;124mError on connect(): \u001b[39m\u001b[38;5;132;01m%s\u001b[39;00m\u001b[38;5;124m\"\u001b[39m, e)\n",
      "File \u001b[0;32m~/anaconda3/lib/python3.12/site-packages/sqlalchemy/util/langhelpers.py:146\u001b[0m, in \u001b[0;36msafe_reraise.__exit__\u001b[0;34m(self, type_, value, traceback)\u001b[0m\n\u001b[1;32m    145\u001b[0m     \u001b[38;5;28mself\u001b[39m\u001b[38;5;241m.\u001b[39m_exc_info \u001b[38;5;241m=\u001b[39m \u001b[38;5;28;01mNone\u001b[39;00m  \u001b[38;5;66;03m# remove potential circular references\u001b[39;00m\n\u001b[0;32m--> 146\u001b[0m     \u001b[38;5;28;01mraise\u001b[39;00m exc_value\u001b[38;5;241m.\u001b[39mwith_traceback(exc_tb)\n\u001b[1;32m    147\u001b[0m \u001b[38;5;28;01melse\u001b[39;00m:\n",
      "File \u001b[0;32m~/anaconda3/lib/python3.12/site-packages/sqlalchemy/pool/base.py:897\u001b[0m, in \u001b[0;36m_ConnectionRecord.__connect\u001b[0;34m(self)\u001b[0m\n\u001b[1;32m    896\u001b[0m \u001b[38;5;28mself\u001b[39m\u001b[38;5;241m.\u001b[39mstarttime \u001b[38;5;241m=\u001b[39m time\u001b[38;5;241m.\u001b[39mtime()\n\u001b[0;32m--> 897\u001b[0m \u001b[38;5;28mself\u001b[39m\u001b[38;5;241m.\u001b[39mdbapi_connection \u001b[38;5;241m=\u001b[39m connection \u001b[38;5;241m=\u001b[39m pool\u001b[38;5;241m.\u001b[39m_invoke_creator(\u001b[38;5;28mself\u001b[39m)\n\u001b[1;32m    898\u001b[0m pool\u001b[38;5;241m.\u001b[39mlogger\u001b[38;5;241m.\u001b[39mdebug(\u001b[38;5;124m\"\u001b[39m\u001b[38;5;124mCreated new connection \u001b[39m\u001b[38;5;132;01m%r\u001b[39;00m\u001b[38;5;124m\"\u001b[39m, connection)\n",
      "File \u001b[0;32m~/anaconda3/lib/python3.12/site-packages/sqlalchemy/engine/create.py:646\u001b[0m, in \u001b[0;36mcreate_engine.<locals>.connect\u001b[0;34m(connection_record)\u001b[0m\n\u001b[1;32m    644\u001b[0m             \u001b[38;5;28;01mreturn\u001b[39;00m connection\n\u001b[0;32m--> 646\u001b[0m \u001b[38;5;28;01mreturn\u001b[39;00m dialect\u001b[38;5;241m.\u001b[39mconnect(\u001b[38;5;241m*\u001b[39mcargs, \u001b[38;5;241m*\u001b[39m\u001b[38;5;241m*\u001b[39mcparams)\n",
      "File \u001b[0;32m~/anaconda3/lib/python3.12/site-packages/sqlalchemy/engine/default.py:622\u001b[0m, in \u001b[0;36mDefaultDialect.connect\u001b[0;34m(self, *cargs, **cparams)\u001b[0m\n\u001b[1;32m    620\u001b[0m \u001b[38;5;28;01mdef\u001b[39;00m \u001b[38;5;21mconnect\u001b[39m(\u001b[38;5;28mself\u001b[39m, \u001b[38;5;241m*\u001b[39mcargs, \u001b[38;5;241m*\u001b[39m\u001b[38;5;241m*\u001b[39mcparams):\n\u001b[1;32m    621\u001b[0m     \u001b[38;5;66;03m# inherits the docstring from interfaces.Dialect.connect\u001b[39;00m\n\u001b[0;32m--> 622\u001b[0m     \u001b[38;5;28;01mreturn\u001b[39;00m \u001b[38;5;28mself\u001b[39m\u001b[38;5;241m.\u001b[39mloaded_dbapi\u001b[38;5;241m.\u001b[39mconnect(\u001b[38;5;241m*\u001b[39mcargs, \u001b[38;5;241m*\u001b[39m\u001b[38;5;241m*\u001b[39mcparams)\n",
      "File \u001b[0;32m~/anaconda3/lib/python3.12/site-packages/sqlalchemy/dialects/sqlite/aiosqlite.py:377\u001b[0m, in \u001b[0;36mAsyncAdapt_aiosqlite_dbapi.connect\u001b[0;34m(self, *arg, **kw)\u001b[0m\n\u001b[1;32m    374\u001b[0m \u001b[38;5;28;01melse\u001b[39;00m:\n\u001b[1;32m    375\u001b[0m     \u001b[38;5;28;01mreturn\u001b[39;00m AsyncAdapt_aiosqlite_connection(\n\u001b[1;32m    376\u001b[0m         \u001b[38;5;28mself\u001b[39m,\n\u001b[0;32m--> 377\u001b[0m         await_only(connection),\n\u001b[1;32m    378\u001b[0m     )\n",
      "File \u001b[0;32m~/anaconda3/lib/python3.12/site-packages/sqlalchemy/util/_concurrency_py3k.py:132\u001b[0m, in \u001b[0;36mawait_only\u001b[0;34m(awaitable)\u001b[0m\n\u001b[1;32m    128\u001b[0m \u001b[38;5;66;03m# returns the control to the driver greenlet passing it\u001b[39;00m\n\u001b[1;32m    129\u001b[0m \u001b[38;5;66;03m# a coroutine to run. Once the awaitable is done, the driver greenlet\u001b[39;00m\n\u001b[1;32m    130\u001b[0m \u001b[38;5;66;03m# switches back to this greenlet with the result of awaitable that is\u001b[39;00m\n\u001b[1;32m    131\u001b[0m \u001b[38;5;66;03m# then returned to the caller (or raised as error)\u001b[39;00m\n\u001b[0;32m--> 132\u001b[0m \u001b[38;5;28;01mreturn\u001b[39;00m current\u001b[38;5;241m.\u001b[39mparent\u001b[38;5;241m.\u001b[39mswitch(awaitable)\n",
      "File \u001b[0;32m~/anaconda3/lib/python3.12/site-packages/sqlalchemy/util/_concurrency_py3k.py:196\u001b[0m, in \u001b[0;36mgreenlet_spawn\u001b[0;34m(fn, _require_await, *args, **kwargs)\u001b[0m\n\u001b[1;32m    193\u001b[0m \u001b[38;5;28;01mtry\u001b[39;00m:\n\u001b[1;32m    194\u001b[0m     \u001b[38;5;66;03m# wait for a coroutine from await_only and then return its\u001b[39;00m\n\u001b[1;32m    195\u001b[0m     \u001b[38;5;66;03m# result back to it.\u001b[39;00m\n\u001b[0;32m--> 196\u001b[0m     value \u001b[38;5;241m=\u001b[39m \u001b[38;5;28;01mawait\u001b[39;00m result\n\u001b[1;32m    197\u001b[0m \u001b[38;5;28;01mexcept\u001b[39;00m \u001b[38;5;167;01mBaseException\u001b[39;00m:\n\u001b[1;32m    198\u001b[0m     \u001b[38;5;66;03m# this allows an exception to be raised within\u001b[39;00m\n\u001b[1;32m    199\u001b[0m     \u001b[38;5;66;03m# the moderated greenlet so that it can continue\u001b[39;00m\n\u001b[1;32m    200\u001b[0m     \u001b[38;5;66;03m# its expected flow.\u001b[39;00m\n",
      "File \u001b[0;32m~/anaconda3/lib/python3.12/site-packages/aiosqlite/core.py:140\u001b[0m, in \u001b[0;36mConnection._connect\u001b[0;34m(self)\u001b[0m\n\u001b[1;32m    139\u001b[0m     \u001b[38;5;28mself\u001b[39m\u001b[38;5;241m.\u001b[39m_tx\u001b[38;5;241m.\u001b[39mput_nowait((future, \u001b[38;5;28mself\u001b[39m\u001b[38;5;241m.\u001b[39m_connector))\n\u001b[0;32m--> 140\u001b[0m     \u001b[38;5;28mself\u001b[39m\u001b[38;5;241m.\u001b[39m_connection \u001b[38;5;241m=\u001b[39m \u001b[38;5;28;01mawait\u001b[39;00m future\n\u001b[1;32m    141\u001b[0m \u001b[38;5;28;01mexcept\u001b[39;00m \u001b[38;5;167;01mException\u001b[39;00m:\n",
      "File \u001b[0;32m~/anaconda3/lib/python3.12/site-packages/aiosqlite/core.py:115\u001b[0m, in \u001b[0;36mConnection.run\u001b[0;34m(self)\u001b[0m\n\u001b[1;32m    114\u001b[0m LOG\u001b[38;5;241m.\u001b[39mdebug(\u001b[38;5;124m\"\u001b[39m\u001b[38;5;124mexecuting \u001b[39m\u001b[38;5;132;01m%s\u001b[39;00m\u001b[38;5;124m\"\u001b[39m, function)\n\u001b[0;32m--> 115\u001b[0m result \u001b[38;5;241m=\u001b[39m function()\n\u001b[1;32m    116\u001b[0m LOG\u001b[38;5;241m.\u001b[39mdebug(\u001b[38;5;124m\"\u001b[39m\u001b[38;5;124moperation \u001b[39m\u001b[38;5;132;01m%s\u001b[39;00m\u001b[38;5;124m completed\u001b[39m\u001b[38;5;124m\"\u001b[39m, function)\n",
      "File \u001b[0;32m~/anaconda3/lib/python3.12/site-packages/aiosqlite/core.py:392\u001b[0m, in \u001b[0;36mconnect.<locals>.connector\u001b[0;34m()\u001b[0m\n\u001b[1;32m    390\u001b[0m     loc \u001b[38;5;241m=\u001b[39m \u001b[38;5;28mstr\u001b[39m(database)\n\u001b[0;32m--> 392\u001b[0m \u001b[38;5;28;01mreturn\u001b[39;00m sqlite3\u001b[38;5;241m.\u001b[39mconnect(loc, \u001b[38;5;241m*\u001b[39m\u001b[38;5;241m*\u001b[39mkwargs)\n",
      "\u001b[0;31mOperationalError\u001b[0m: unable to open database file",
      "\nThe above exception was the direct cause of the following exception:\n",
      "\u001b[0;31mOperationalError\u001b[0m                          Traceback (most recent call last)",
      "Cell \u001b[0;32mIn[5], line 1\u001b[0m\n\u001b[0;32m----> 1\u001b[0m results \u001b[38;5;241m=\u001b[39m \u001b[38;5;28;01mawait\u001b[39;00m search_cognee(\n\u001b[1;32m      2\u001b[0m     query\u001b[38;5;241m=\u001b[39m\u001b[38;5;124m\"\u001b[39m\u001b[38;5;124mWhat API endpoints are in the Ticketmaster api? Give me specific endpoint urls.\u001b[39m\u001b[38;5;124m\"\u001b[39m,\n\u001b[1;32m      3\u001b[0m     node_set\u001b[38;5;241m=\u001b[39m[\u001b[38;5;124m'\u001b[39m\u001b[38;5;124mdeveloper.ticketmaster.com\u001b[39m\u001b[38;5;124m'\u001b[39m]\n\u001b[1;32m      4\u001b[0m )\n",
      "Cell \u001b[0;32mIn[4], line 2\u001b[0m, in \u001b[0;36msearch_cognee\u001b[0;34m(query, node_set, query_type)\u001b[0m\n\u001b[1;32m      1\u001b[0m \u001b[38;5;28;01masync\u001b[39;00m \u001b[38;5;28;01mdef\u001b[39;00m \u001b[38;5;21msearch_cognee\u001b[39m(query, node_set, query_type\u001b[38;5;241m=\u001b[39mSearchType\u001b[38;5;241m.\u001b[39mGRAPH_COMPLETION):\n\u001b[0;32m----> 2\u001b[0m     answer \u001b[38;5;241m=\u001b[39m \u001b[38;5;28;01mawait\u001b[39;00m cognee\u001b[38;5;241m.\u001b[39msearch(\n\u001b[1;32m      3\u001b[0m         query_text\u001b[38;5;241m=\u001b[39mquery,\n\u001b[1;32m      4\u001b[0m         query_type\u001b[38;5;241m=\u001b[39mquery_type,\n\u001b[1;32m      5\u001b[0m         node_type\u001b[38;5;241m=\u001b[39mNodeSet,\n\u001b[1;32m      6\u001b[0m         node_name\u001b[38;5;241m=\u001b[39mnode_set\n\u001b[1;32m      7\u001b[0m     )\n\u001b[1;32m      8\u001b[0m     \u001b[38;5;28;01mreturn\u001b[39;00m answer\n",
      "File \u001b[0;32m~/anaconda3/lib/python3.12/site-packages/cognee/api/v1/search/search.py:28\u001b[0m, in \u001b[0;36msearch\u001b[0;34m(query_text, query_type, user, datasets, dataset_ids, system_prompt_path, top_k, node_type, node_name)\u001b[0m\n\u001b[1;32m     25\u001b[0m     datasets \u001b[38;5;241m=\u001b[39m [datasets]\n\u001b[1;32m     27\u001b[0m \u001b[38;5;28;01mif\u001b[39;00m user \u001b[38;5;129;01mis\u001b[39;00m \u001b[38;5;28;01mNone\u001b[39;00m:\n\u001b[0;32m---> 28\u001b[0m     user \u001b[38;5;241m=\u001b[39m \u001b[38;5;28;01mawait\u001b[39;00m get_default_user()\n\u001b[1;32m     30\u001b[0m \u001b[38;5;66;03m# Transform string based datasets to UUID - String based datasets can only be found for current user\u001b[39;00m\n\u001b[1;32m     31\u001b[0m \u001b[38;5;28;01mif\u001b[39;00m datasets \u001b[38;5;129;01mis\u001b[39;00m \u001b[38;5;129;01mnot\u001b[39;00m \u001b[38;5;28;01mNone\u001b[39;00m \u001b[38;5;129;01mand\u001b[39;00m [\u001b[38;5;28mall\u001b[39m(\u001b[38;5;28misinstance\u001b[39m(dataset, \u001b[38;5;28mstr\u001b[39m) \u001b[38;5;28;01mfor\u001b[39;00m dataset \u001b[38;5;129;01min\u001b[39;00m datasets)]:\n",
      "File \u001b[0;32m~/anaconda3/lib/python3.12/site-packages/cognee/modules/users/methods/get_default_user.py:24\u001b[0m, in \u001b[0;36mget_default_user\u001b[0;34m()\u001b[0m\n\u001b[1;32m     19\u001b[0m \u001b[38;5;28;01masync\u001b[39;00m \u001b[38;5;28;01mwith\u001b[39;00m db_engine\u001b[38;5;241m.\u001b[39mget_async_session() \u001b[38;5;28;01mas\u001b[39;00m session:\n\u001b[1;32m     20\u001b[0m     query \u001b[38;5;241m=\u001b[39m (\n\u001b[1;32m     21\u001b[0m         select(User)\u001b[38;5;241m.\u001b[39moptions(selectinload(User\u001b[38;5;241m.\u001b[39mroles))\u001b[38;5;241m.\u001b[39mwhere(User\u001b[38;5;241m.\u001b[39memail \u001b[38;5;241m==\u001b[39m default_email)\n\u001b[1;32m     22\u001b[0m     )\n\u001b[0;32m---> 24\u001b[0m     result \u001b[38;5;241m=\u001b[39m \u001b[38;5;28;01mawait\u001b[39;00m session\u001b[38;5;241m.\u001b[39mexecute(query)\n\u001b[1;32m     25\u001b[0m     user \u001b[38;5;241m=\u001b[39m result\u001b[38;5;241m.\u001b[39mscalars()\u001b[38;5;241m.\u001b[39mfirst()\n\u001b[1;32m     27\u001b[0m     \u001b[38;5;28;01mif\u001b[39;00m user \u001b[38;5;129;01mis\u001b[39;00m \u001b[38;5;28;01mNone\u001b[39;00m:\n",
      "File \u001b[0;32m~/anaconda3/lib/python3.12/site-packages/sqlalchemy/ext/asyncio/session.py:463\u001b[0m, in \u001b[0;36mAsyncSession.execute\u001b[0;34m(self, statement, params, execution_options, bind_arguments, **kw)\u001b[0m\n\u001b[1;32m    460\u001b[0m \u001b[38;5;28;01melse\u001b[39;00m:\n\u001b[1;32m    461\u001b[0m     execution_options \u001b[38;5;241m=\u001b[39m _EXECUTE_OPTIONS\n\u001b[0;32m--> 463\u001b[0m result \u001b[38;5;241m=\u001b[39m \u001b[38;5;28;01mawait\u001b[39;00m greenlet_spawn(\n\u001b[1;32m    464\u001b[0m     \u001b[38;5;28mself\u001b[39m\u001b[38;5;241m.\u001b[39msync_session\u001b[38;5;241m.\u001b[39mexecute,\n\u001b[1;32m    465\u001b[0m     statement,\n\u001b[1;32m    466\u001b[0m     params\u001b[38;5;241m=\u001b[39mparams,\n\u001b[1;32m    467\u001b[0m     execution_options\u001b[38;5;241m=\u001b[39mexecution_options,\n\u001b[1;32m    468\u001b[0m     bind_arguments\u001b[38;5;241m=\u001b[39mbind_arguments,\n\u001b[1;32m    469\u001b[0m     \u001b[38;5;241m*\u001b[39m\u001b[38;5;241m*\u001b[39mkw,\n\u001b[1;32m    470\u001b[0m )\n\u001b[1;32m    471\u001b[0m \u001b[38;5;28;01mreturn\u001b[39;00m \u001b[38;5;28;01mawait\u001b[39;00m _ensure_sync_result(result, \u001b[38;5;28mself\u001b[39m\u001b[38;5;241m.\u001b[39mexecute)\n",
      "File \u001b[0;32m~/anaconda3/lib/python3.12/site-packages/sqlalchemy/util/_concurrency_py3k.py:201\u001b[0m, in \u001b[0;36mgreenlet_spawn\u001b[0;34m(fn, _require_await, *args, **kwargs)\u001b[0m\n\u001b[1;32m    196\u001b[0m     value \u001b[38;5;241m=\u001b[39m \u001b[38;5;28;01mawait\u001b[39;00m result\n\u001b[1;32m    197\u001b[0m \u001b[38;5;28;01mexcept\u001b[39;00m \u001b[38;5;167;01mBaseException\u001b[39;00m:\n\u001b[1;32m    198\u001b[0m     \u001b[38;5;66;03m# this allows an exception to be raised within\u001b[39;00m\n\u001b[1;32m    199\u001b[0m     \u001b[38;5;66;03m# the moderated greenlet so that it can continue\u001b[39;00m\n\u001b[1;32m    200\u001b[0m     \u001b[38;5;66;03m# its expected flow.\u001b[39;00m\n\u001b[0;32m--> 201\u001b[0m     result \u001b[38;5;241m=\u001b[39m context\u001b[38;5;241m.\u001b[39mthrow(\u001b[38;5;241m*\u001b[39msys\u001b[38;5;241m.\u001b[39mexc_info())\n\u001b[1;32m    202\u001b[0m \u001b[38;5;28;01melse\u001b[39;00m:\n\u001b[1;32m    203\u001b[0m     result \u001b[38;5;241m=\u001b[39m context\u001b[38;5;241m.\u001b[39mswitch(value)\n",
      "File \u001b[0;32m~/anaconda3/lib/python3.12/site-packages/sqlalchemy/orm/session.py:2365\u001b[0m, in \u001b[0;36mSession.execute\u001b[0;34m(self, statement, params, execution_options, bind_arguments, _parent_execute_state, _add_event)\u001b[0m\n\u001b[1;32m   2305\u001b[0m \u001b[38;5;28;01mdef\u001b[39;00m \u001b[38;5;21mexecute\u001b[39m(\n\u001b[1;32m   2306\u001b[0m     \u001b[38;5;28mself\u001b[39m,\n\u001b[1;32m   2307\u001b[0m     statement: Executable,\n\u001b[0;32m   (...)\u001b[0m\n\u001b[1;32m   2313\u001b[0m     _add_event: Optional[Any] \u001b[38;5;241m=\u001b[39m \u001b[38;5;28;01mNone\u001b[39;00m,\n\u001b[1;32m   2314\u001b[0m ) \u001b[38;5;241m-\u001b[39m\u001b[38;5;241m>\u001b[39m Result[Any]:\n\u001b[1;32m   2315\u001b[0m \u001b[38;5;250m    \u001b[39m\u001b[38;5;124mr\u001b[39m\u001b[38;5;124;03m\"\"\"Execute a SQL expression construct.\u001b[39;00m\n\u001b[1;32m   2316\u001b[0m \n\u001b[1;32m   2317\u001b[0m \u001b[38;5;124;03m    Returns a :class:`_engine.Result` object representing\u001b[39;00m\n\u001b[0;32m   (...)\u001b[0m\n\u001b[1;32m   2363\u001b[0m \n\u001b[1;32m   2364\u001b[0m \u001b[38;5;124;03m    \"\"\"\u001b[39;00m\n\u001b[0;32m-> 2365\u001b[0m     \u001b[38;5;28;01mreturn\u001b[39;00m \u001b[38;5;28mself\u001b[39m\u001b[38;5;241m.\u001b[39m_execute_internal(\n\u001b[1;32m   2366\u001b[0m         statement,\n\u001b[1;32m   2367\u001b[0m         params,\n\u001b[1;32m   2368\u001b[0m         execution_options\u001b[38;5;241m=\u001b[39mexecution_options,\n\u001b[1;32m   2369\u001b[0m         bind_arguments\u001b[38;5;241m=\u001b[39mbind_arguments,\n\u001b[1;32m   2370\u001b[0m         _parent_execute_state\u001b[38;5;241m=\u001b[39m_parent_execute_state,\n\u001b[1;32m   2371\u001b[0m         _add_event\u001b[38;5;241m=\u001b[39m_add_event,\n\u001b[1;32m   2372\u001b[0m     )\n",
      "File \u001b[0;32m~/anaconda3/lib/python3.12/site-packages/sqlalchemy/orm/session.py:2241\u001b[0m, in \u001b[0;36mSession._execute_internal\u001b[0;34m(self, statement, params, execution_options, bind_arguments, _parent_execute_state, _add_event, _scalar_result)\u001b[0m\n\u001b[1;32m   2227\u001b[0m     (\n\u001b[1;32m   2228\u001b[0m         statement,\n\u001b[1;32m   2229\u001b[0m         execution_options,\n\u001b[0;32m   (...)\u001b[0m\n\u001b[1;32m   2236\u001b[0m         \u001b[38;5;28;01mFalse\u001b[39;00m,\n\u001b[1;32m   2237\u001b[0m     )\n\u001b[1;32m   2239\u001b[0m bind \u001b[38;5;241m=\u001b[39m \u001b[38;5;28mself\u001b[39m\u001b[38;5;241m.\u001b[39mget_bind(\u001b[38;5;241m*\u001b[39m\u001b[38;5;241m*\u001b[39mbind_arguments)\n\u001b[0;32m-> 2241\u001b[0m conn \u001b[38;5;241m=\u001b[39m \u001b[38;5;28mself\u001b[39m\u001b[38;5;241m.\u001b[39m_connection_for_bind(bind)\n\u001b[1;32m   2243\u001b[0m \u001b[38;5;28;01mif\u001b[39;00m _scalar_result \u001b[38;5;129;01mand\u001b[39;00m \u001b[38;5;129;01mnot\u001b[39;00m compile_state_cls:\n\u001b[1;32m   2244\u001b[0m     \u001b[38;5;28;01mif\u001b[39;00m TYPE_CHECKING:\n",
      "File \u001b[0;32m~/anaconda3/lib/python3.12/site-packages/sqlalchemy/orm/session.py:2110\u001b[0m, in \u001b[0;36mSession._connection_for_bind\u001b[0;34m(self, engine, execution_options, **kw)\u001b[0m\n\u001b[1;32m   2108\u001b[0m \u001b[38;5;28;01mif\u001b[39;00m trans \u001b[38;5;129;01mis\u001b[39;00m \u001b[38;5;28;01mNone\u001b[39;00m:\n\u001b[1;32m   2109\u001b[0m     trans \u001b[38;5;241m=\u001b[39m \u001b[38;5;28mself\u001b[39m\u001b[38;5;241m.\u001b[39m_autobegin_t()\n\u001b[0;32m-> 2110\u001b[0m \u001b[38;5;28;01mreturn\u001b[39;00m trans\u001b[38;5;241m.\u001b[39m_connection_for_bind(engine, execution_options)\n",
      "File \u001b[0;32m<string>:2\u001b[0m, in \u001b[0;36m_connection_for_bind\u001b[0;34m(self, bind, execution_options)\u001b[0m\n",
      "File \u001b[0;32m~/anaconda3/lib/python3.12/site-packages/sqlalchemy/orm/state_changes.py:139\u001b[0m, in \u001b[0;36m_StateChange.declare_states.<locals>._go\u001b[0;34m(fn, self, *arg, **kw)\u001b[0m\n\u001b[1;32m    137\u001b[0m \u001b[38;5;28mself\u001b[39m\u001b[38;5;241m.\u001b[39m_next_state \u001b[38;5;241m=\u001b[39m _StateChangeStates\u001b[38;5;241m.\u001b[39mCHANGE_IN_PROGRESS\n\u001b[1;32m    138\u001b[0m \u001b[38;5;28;01mtry\u001b[39;00m:\n\u001b[0;32m--> 139\u001b[0m     ret_value \u001b[38;5;241m=\u001b[39m fn(\u001b[38;5;28mself\u001b[39m, \u001b[38;5;241m*\u001b[39marg, \u001b[38;5;241m*\u001b[39m\u001b[38;5;241m*\u001b[39mkw)\n\u001b[1;32m    140\u001b[0m \u001b[38;5;28;01mexcept\u001b[39;00m:\n\u001b[1;32m    141\u001b[0m     \u001b[38;5;28;01mraise\u001b[39;00m\n",
      "File \u001b[0;32m~/anaconda3/lib/python3.12/site-packages/sqlalchemy/orm/session.py:1189\u001b[0m, in \u001b[0;36mSessionTransaction._connection_for_bind\u001b[0;34m(self, bind, execution_options)\u001b[0m\n\u001b[1;32m   1184\u001b[0m             \u001b[38;5;28;01mraise\u001b[39;00m sa_exc\u001b[38;5;241m.\u001b[39mInvalidRequestError(\n\u001b[1;32m   1185\u001b[0m                 \u001b[38;5;124m\"\u001b[39m\u001b[38;5;124mSession already has a Connection associated \u001b[39m\u001b[38;5;124m\"\u001b[39m\n\u001b[1;32m   1186\u001b[0m                 \u001b[38;5;124m\"\u001b[39m\u001b[38;5;124mfor the given Connection\u001b[39m\u001b[38;5;124m'\u001b[39m\u001b[38;5;124ms Engine\u001b[39m\u001b[38;5;124m\"\u001b[39m\n\u001b[1;32m   1187\u001b[0m             )\n\u001b[1;32m   1188\u001b[0m     \u001b[38;5;28;01melse\u001b[39;00m:\n\u001b[0;32m-> 1189\u001b[0m         conn \u001b[38;5;241m=\u001b[39m bind\u001b[38;5;241m.\u001b[39mconnect()\n\u001b[1;32m   1190\u001b[0m         local_connect \u001b[38;5;241m=\u001b[39m \u001b[38;5;28;01mTrue\u001b[39;00m\n\u001b[1;32m   1192\u001b[0m \u001b[38;5;28;01mtry\u001b[39;00m:\n",
      "File \u001b[0;32m~/anaconda3/lib/python3.12/site-packages/sqlalchemy/engine/base.py:3274\u001b[0m, in \u001b[0;36mEngine.connect\u001b[0;34m(self)\u001b[0m\n\u001b[1;32m   3251\u001b[0m \u001b[38;5;28;01mdef\u001b[39;00m \u001b[38;5;21mconnect\u001b[39m(\u001b[38;5;28mself\u001b[39m) \u001b[38;5;241m-\u001b[39m\u001b[38;5;241m>\u001b[39m Connection:\n\u001b[1;32m   3252\u001b[0m \u001b[38;5;250m    \u001b[39m\u001b[38;5;124;03m\"\"\"Return a new :class:`_engine.Connection` object.\u001b[39;00m\n\u001b[1;32m   3253\u001b[0m \n\u001b[1;32m   3254\u001b[0m \u001b[38;5;124;03m    The :class:`_engine.Connection` acts as a Python context manager, so\u001b[39;00m\n\u001b[0;32m   (...)\u001b[0m\n\u001b[1;32m   3271\u001b[0m \n\u001b[1;32m   3272\u001b[0m \u001b[38;5;124;03m    \"\"\"\u001b[39;00m\n\u001b[0;32m-> 3274\u001b[0m     \u001b[38;5;28;01mreturn\u001b[39;00m \u001b[38;5;28mself\u001b[39m\u001b[38;5;241m.\u001b[39m_connection_cls(\u001b[38;5;28mself\u001b[39m)\n",
      "File \u001b[0;32m~/anaconda3/lib/python3.12/site-packages/sqlalchemy/engine/base.py:148\u001b[0m, in \u001b[0;36mConnection.__init__\u001b[0;34m(self, engine, connection, _has_events, _allow_revalidate, _allow_autobegin)\u001b[0m\n\u001b[1;32m    146\u001b[0m         \u001b[38;5;28mself\u001b[39m\u001b[38;5;241m.\u001b[39m_dbapi_connection \u001b[38;5;241m=\u001b[39m engine\u001b[38;5;241m.\u001b[39mraw_connection()\n\u001b[1;32m    147\u001b[0m     \u001b[38;5;28;01mexcept\u001b[39;00m dialect\u001b[38;5;241m.\u001b[39mloaded_dbapi\u001b[38;5;241m.\u001b[39mError \u001b[38;5;28;01mas\u001b[39;00m err:\n\u001b[0;32m--> 148\u001b[0m         Connection\u001b[38;5;241m.\u001b[39m_handle_dbapi_exception_noconnection(\n\u001b[1;32m    149\u001b[0m             err, dialect, engine\n\u001b[1;32m    150\u001b[0m         )\n\u001b[1;32m    151\u001b[0m         \u001b[38;5;28;01mraise\u001b[39;00m\n\u001b[1;32m    152\u001b[0m \u001b[38;5;28;01melse\u001b[39;00m:\n",
      "File \u001b[0;32m~/anaconda3/lib/python3.12/site-packages/sqlalchemy/engine/base.py:2439\u001b[0m, in \u001b[0;36mConnection._handle_dbapi_exception_noconnection\u001b[0;34m(cls, e, dialect, engine, is_disconnect, invalidate_pool_on_disconnect, is_pre_ping)\u001b[0m\n\u001b[1;32m   2437\u001b[0m \u001b[38;5;28;01melif\u001b[39;00m should_wrap:\n\u001b[1;32m   2438\u001b[0m     \u001b[38;5;28;01massert\u001b[39;00m sqlalchemy_exception \u001b[38;5;129;01mis\u001b[39;00m \u001b[38;5;129;01mnot\u001b[39;00m \u001b[38;5;28;01mNone\u001b[39;00m\n\u001b[0;32m-> 2439\u001b[0m     \u001b[38;5;28;01mraise\u001b[39;00m sqlalchemy_exception\u001b[38;5;241m.\u001b[39mwith_traceback(exc_info[\u001b[38;5;241m2\u001b[39m]) \u001b[38;5;28;01mfrom\u001b[39;00m \u001b[38;5;21;01me\u001b[39;00m\n\u001b[1;32m   2440\u001b[0m \u001b[38;5;28;01melse\u001b[39;00m:\n\u001b[1;32m   2441\u001b[0m     \u001b[38;5;28;01massert\u001b[39;00m exc_info[\u001b[38;5;241m1\u001b[39m] \u001b[38;5;129;01mis\u001b[39;00m \u001b[38;5;129;01mnot\u001b[39;00m \u001b[38;5;28;01mNone\u001b[39;00m\n",
      "File \u001b[0;32m~/anaconda3/lib/python3.12/site-packages/sqlalchemy/engine/base.py:146\u001b[0m, in \u001b[0;36mConnection.__init__\u001b[0;34m(self, engine, connection, _has_events, _allow_revalidate, _allow_autobegin)\u001b[0m\n\u001b[1;32m    144\u001b[0m \u001b[38;5;28;01mif\u001b[39;00m connection \u001b[38;5;129;01mis\u001b[39;00m \u001b[38;5;28;01mNone\u001b[39;00m:\n\u001b[1;32m    145\u001b[0m     \u001b[38;5;28;01mtry\u001b[39;00m:\n\u001b[0;32m--> 146\u001b[0m         \u001b[38;5;28mself\u001b[39m\u001b[38;5;241m.\u001b[39m_dbapi_connection \u001b[38;5;241m=\u001b[39m engine\u001b[38;5;241m.\u001b[39mraw_connection()\n\u001b[1;32m    147\u001b[0m     \u001b[38;5;28;01mexcept\u001b[39;00m dialect\u001b[38;5;241m.\u001b[39mloaded_dbapi\u001b[38;5;241m.\u001b[39mError \u001b[38;5;28;01mas\u001b[39;00m err:\n\u001b[1;32m    148\u001b[0m         Connection\u001b[38;5;241m.\u001b[39m_handle_dbapi_exception_noconnection(\n\u001b[1;32m    149\u001b[0m             err, dialect, engine\n\u001b[1;32m    150\u001b[0m         )\n",
      "File \u001b[0;32m~/anaconda3/lib/python3.12/site-packages/sqlalchemy/engine/base.py:3298\u001b[0m, in \u001b[0;36mEngine.raw_connection\u001b[0;34m(self)\u001b[0m\n\u001b[1;32m   3276\u001b[0m \u001b[38;5;28;01mdef\u001b[39;00m \u001b[38;5;21mraw_connection\u001b[39m(\u001b[38;5;28mself\u001b[39m) \u001b[38;5;241m-\u001b[39m\u001b[38;5;241m>\u001b[39m PoolProxiedConnection:\n\u001b[1;32m   3277\u001b[0m \u001b[38;5;250m    \u001b[39m\u001b[38;5;124;03m\"\"\"Return a \"raw\" DBAPI connection from the connection pool.\u001b[39;00m\n\u001b[1;32m   3278\u001b[0m \n\u001b[1;32m   3279\u001b[0m \u001b[38;5;124;03m    The returned object is a proxied version of the DBAPI\u001b[39;00m\n\u001b[0;32m   (...)\u001b[0m\n\u001b[1;32m   3296\u001b[0m \n\u001b[1;32m   3297\u001b[0m \u001b[38;5;124;03m    \"\"\"\u001b[39;00m\n\u001b[0;32m-> 3298\u001b[0m     \u001b[38;5;28;01mreturn\u001b[39;00m \u001b[38;5;28mself\u001b[39m\u001b[38;5;241m.\u001b[39mpool\u001b[38;5;241m.\u001b[39mconnect()\n",
      "File \u001b[0;32m~/anaconda3/lib/python3.12/site-packages/sqlalchemy/pool/base.py:449\u001b[0m, in \u001b[0;36mPool.connect\u001b[0;34m(self)\u001b[0m\n\u001b[1;32m    441\u001b[0m \u001b[38;5;28;01mdef\u001b[39;00m \u001b[38;5;21mconnect\u001b[39m(\u001b[38;5;28mself\u001b[39m) \u001b[38;5;241m-\u001b[39m\u001b[38;5;241m>\u001b[39m PoolProxiedConnection:\n\u001b[1;32m    442\u001b[0m \u001b[38;5;250m    \u001b[39m\u001b[38;5;124;03m\"\"\"Return a DBAPI connection from the pool.\u001b[39;00m\n\u001b[1;32m    443\u001b[0m \n\u001b[1;32m    444\u001b[0m \u001b[38;5;124;03m    The connection is instrumented such that when its\u001b[39;00m\n\u001b[0;32m   (...)\u001b[0m\n\u001b[1;32m    447\u001b[0m \n\u001b[1;32m    448\u001b[0m \u001b[38;5;124;03m    \"\"\"\u001b[39;00m\n\u001b[0;32m--> 449\u001b[0m     \u001b[38;5;28;01mreturn\u001b[39;00m _ConnectionFairy\u001b[38;5;241m.\u001b[39m_checkout(\u001b[38;5;28mself\u001b[39m)\n",
      "File \u001b[0;32m~/anaconda3/lib/python3.12/site-packages/sqlalchemy/pool/base.py:1264\u001b[0m, in \u001b[0;36m_ConnectionFairy._checkout\u001b[0;34m(cls, pool, threadconns, fairy)\u001b[0m\n\u001b[1;32m   1256\u001b[0m \u001b[38;5;129m@classmethod\u001b[39m\n\u001b[1;32m   1257\u001b[0m \u001b[38;5;28;01mdef\u001b[39;00m \u001b[38;5;21m_checkout\u001b[39m(\n\u001b[1;32m   1258\u001b[0m     \u001b[38;5;28mcls\u001b[39m,\n\u001b[0;32m   (...)\u001b[0m\n\u001b[1;32m   1261\u001b[0m     fairy: Optional[_ConnectionFairy] \u001b[38;5;241m=\u001b[39m \u001b[38;5;28;01mNone\u001b[39;00m,\n\u001b[1;32m   1262\u001b[0m ) \u001b[38;5;241m-\u001b[39m\u001b[38;5;241m>\u001b[39m _ConnectionFairy:\n\u001b[1;32m   1263\u001b[0m     \u001b[38;5;28;01mif\u001b[39;00m \u001b[38;5;129;01mnot\u001b[39;00m fairy:\n\u001b[0;32m-> 1264\u001b[0m         fairy \u001b[38;5;241m=\u001b[39m _ConnectionRecord\u001b[38;5;241m.\u001b[39mcheckout(pool)\n\u001b[1;32m   1266\u001b[0m         \u001b[38;5;28;01mif\u001b[39;00m threadconns \u001b[38;5;129;01mis\u001b[39;00m \u001b[38;5;129;01mnot\u001b[39;00m \u001b[38;5;28;01mNone\u001b[39;00m:\n\u001b[1;32m   1267\u001b[0m             threadconns\u001b[38;5;241m.\u001b[39mcurrent \u001b[38;5;241m=\u001b[39m weakref\u001b[38;5;241m.\u001b[39mref(fairy)\n",
      "File \u001b[0;32m~/anaconda3/lib/python3.12/site-packages/sqlalchemy/pool/base.py:713\u001b[0m, in \u001b[0;36m_ConnectionRecord.checkout\u001b[0;34m(cls, pool)\u001b[0m\n\u001b[1;32m    711\u001b[0m     rec \u001b[38;5;241m=\u001b[39m cast(_ConnectionRecord, pool\u001b[38;5;241m.\u001b[39m_do_get())\n\u001b[1;32m    712\u001b[0m \u001b[38;5;28;01melse\u001b[39;00m:\n\u001b[0;32m--> 713\u001b[0m     rec \u001b[38;5;241m=\u001b[39m pool\u001b[38;5;241m.\u001b[39m_do_get()\n\u001b[1;32m    715\u001b[0m \u001b[38;5;28;01mtry\u001b[39;00m:\n\u001b[1;32m    716\u001b[0m     dbapi_connection \u001b[38;5;241m=\u001b[39m rec\u001b[38;5;241m.\u001b[39mget_connection()\n",
      "File \u001b[0;32m~/anaconda3/lib/python3.12/site-packages/sqlalchemy/pool/impl.py:179\u001b[0m, in \u001b[0;36mQueuePool._do_get\u001b[0;34m(self)\u001b[0m\n\u001b[1;32m    177\u001b[0m     \u001b[38;5;28;01mreturn\u001b[39;00m \u001b[38;5;28mself\u001b[39m\u001b[38;5;241m.\u001b[39m_create_connection()\n\u001b[1;32m    178\u001b[0m \u001b[38;5;28;01mexcept\u001b[39;00m:\n\u001b[0;32m--> 179\u001b[0m     \u001b[38;5;28;01mwith\u001b[39;00m util\u001b[38;5;241m.\u001b[39msafe_reraise():\n\u001b[1;32m    180\u001b[0m         \u001b[38;5;28mself\u001b[39m\u001b[38;5;241m.\u001b[39m_dec_overflow()\n\u001b[1;32m    181\u001b[0m     \u001b[38;5;28;01mraise\u001b[39;00m\n",
      "File \u001b[0;32m~/anaconda3/lib/python3.12/site-packages/sqlalchemy/util/langhelpers.py:146\u001b[0m, in \u001b[0;36msafe_reraise.__exit__\u001b[0;34m(self, type_, value, traceback)\u001b[0m\n\u001b[1;32m    144\u001b[0m     \u001b[38;5;28;01massert\u001b[39;00m exc_value \u001b[38;5;129;01mis\u001b[39;00m \u001b[38;5;129;01mnot\u001b[39;00m \u001b[38;5;28;01mNone\u001b[39;00m\n\u001b[1;32m    145\u001b[0m     \u001b[38;5;28mself\u001b[39m\u001b[38;5;241m.\u001b[39m_exc_info \u001b[38;5;241m=\u001b[39m \u001b[38;5;28;01mNone\u001b[39;00m  \u001b[38;5;66;03m# remove potential circular references\u001b[39;00m\n\u001b[0;32m--> 146\u001b[0m     \u001b[38;5;28;01mraise\u001b[39;00m exc_value\u001b[38;5;241m.\u001b[39mwith_traceback(exc_tb)\n\u001b[1;32m    147\u001b[0m \u001b[38;5;28;01melse\u001b[39;00m:\n\u001b[1;32m    148\u001b[0m     \u001b[38;5;28mself\u001b[39m\u001b[38;5;241m.\u001b[39m_exc_info \u001b[38;5;241m=\u001b[39m \u001b[38;5;28;01mNone\u001b[39;00m  \u001b[38;5;66;03m# remove potential circular references\u001b[39;00m\n",
      "File \u001b[0;32m~/anaconda3/lib/python3.12/site-packages/sqlalchemy/pool/impl.py:177\u001b[0m, in \u001b[0;36mQueuePool._do_get\u001b[0;34m(self)\u001b[0m\n\u001b[1;32m    175\u001b[0m \u001b[38;5;28;01mif\u001b[39;00m \u001b[38;5;28mself\u001b[39m\u001b[38;5;241m.\u001b[39m_inc_overflow():\n\u001b[1;32m    176\u001b[0m     \u001b[38;5;28;01mtry\u001b[39;00m:\n\u001b[0;32m--> 177\u001b[0m         \u001b[38;5;28;01mreturn\u001b[39;00m \u001b[38;5;28mself\u001b[39m\u001b[38;5;241m.\u001b[39m_create_connection()\n\u001b[1;32m    178\u001b[0m     \u001b[38;5;28;01mexcept\u001b[39;00m:\n\u001b[1;32m    179\u001b[0m         \u001b[38;5;28;01mwith\u001b[39;00m util\u001b[38;5;241m.\u001b[39msafe_reraise():\n",
      "File \u001b[0;32m~/anaconda3/lib/python3.12/site-packages/sqlalchemy/pool/base.py:390\u001b[0m, in \u001b[0;36mPool._create_connection\u001b[0;34m(self)\u001b[0m\n\u001b[1;32m    387\u001b[0m \u001b[38;5;28;01mdef\u001b[39;00m \u001b[38;5;21m_create_connection\u001b[39m(\u001b[38;5;28mself\u001b[39m) \u001b[38;5;241m-\u001b[39m\u001b[38;5;241m>\u001b[39m ConnectionPoolEntry:\n\u001b[1;32m    388\u001b[0m \u001b[38;5;250m    \u001b[39m\u001b[38;5;124;03m\"\"\"Called by subclasses to create a new ConnectionRecord.\"\"\"\u001b[39;00m\n\u001b[0;32m--> 390\u001b[0m     \u001b[38;5;28;01mreturn\u001b[39;00m _ConnectionRecord(\u001b[38;5;28mself\u001b[39m)\n",
      "File \u001b[0;32m~/anaconda3/lib/python3.12/site-packages/sqlalchemy/pool/base.py:675\u001b[0m, in \u001b[0;36m_ConnectionRecord.__init__\u001b[0;34m(self, pool, connect)\u001b[0m\n\u001b[1;32m    673\u001b[0m \u001b[38;5;28mself\u001b[39m\u001b[38;5;241m.\u001b[39m__pool \u001b[38;5;241m=\u001b[39m pool\n\u001b[1;32m    674\u001b[0m \u001b[38;5;28;01mif\u001b[39;00m connect:\n\u001b[0;32m--> 675\u001b[0m     \u001b[38;5;28mself\u001b[39m\u001b[38;5;241m.\u001b[39m__connect()\n\u001b[1;32m    676\u001b[0m \u001b[38;5;28mself\u001b[39m\u001b[38;5;241m.\u001b[39mfinalize_callback \u001b[38;5;241m=\u001b[39m deque()\n",
      "File \u001b[0;32m~/anaconda3/lib/python3.12/site-packages/sqlalchemy/pool/base.py:901\u001b[0m, in \u001b[0;36m_ConnectionRecord.__connect\u001b[0;34m(self)\u001b[0m\n\u001b[1;32m    899\u001b[0m     \u001b[38;5;28mself\u001b[39m\u001b[38;5;241m.\u001b[39mfresh \u001b[38;5;241m=\u001b[39m \u001b[38;5;28;01mTrue\u001b[39;00m\n\u001b[1;32m    900\u001b[0m \u001b[38;5;28;01mexcept\u001b[39;00m \u001b[38;5;167;01mBaseException\u001b[39;00m \u001b[38;5;28;01mas\u001b[39;00m e:\n\u001b[0;32m--> 901\u001b[0m     \u001b[38;5;28;01mwith\u001b[39;00m util\u001b[38;5;241m.\u001b[39msafe_reraise():\n\u001b[1;32m    902\u001b[0m         pool\u001b[38;5;241m.\u001b[39mlogger\u001b[38;5;241m.\u001b[39mdebug(\u001b[38;5;124m\"\u001b[39m\u001b[38;5;124mError on connect(): \u001b[39m\u001b[38;5;132;01m%s\u001b[39;00m\u001b[38;5;124m\"\u001b[39m, e)\n\u001b[1;32m    903\u001b[0m \u001b[38;5;28;01melse\u001b[39;00m:\n\u001b[1;32m    904\u001b[0m     \u001b[38;5;66;03m# in SQLAlchemy 1.4 the first_connect event is not used by\u001b[39;00m\n\u001b[1;32m    905\u001b[0m     \u001b[38;5;66;03m# the engine, so this will usually not be set\u001b[39;00m\n",
      "File \u001b[0;32m~/anaconda3/lib/python3.12/site-packages/sqlalchemy/util/langhelpers.py:146\u001b[0m, in \u001b[0;36msafe_reraise.__exit__\u001b[0;34m(self, type_, value, traceback)\u001b[0m\n\u001b[1;32m    144\u001b[0m     \u001b[38;5;28;01massert\u001b[39;00m exc_value \u001b[38;5;129;01mis\u001b[39;00m \u001b[38;5;129;01mnot\u001b[39;00m \u001b[38;5;28;01mNone\u001b[39;00m\n\u001b[1;32m    145\u001b[0m     \u001b[38;5;28mself\u001b[39m\u001b[38;5;241m.\u001b[39m_exc_info \u001b[38;5;241m=\u001b[39m \u001b[38;5;28;01mNone\u001b[39;00m  \u001b[38;5;66;03m# remove potential circular references\u001b[39;00m\n\u001b[0;32m--> 146\u001b[0m     \u001b[38;5;28;01mraise\u001b[39;00m exc_value\u001b[38;5;241m.\u001b[39mwith_traceback(exc_tb)\n\u001b[1;32m    147\u001b[0m \u001b[38;5;28;01melse\u001b[39;00m:\n\u001b[1;32m    148\u001b[0m     \u001b[38;5;28mself\u001b[39m\u001b[38;5;241m.\u001b[39m_exc_info \u001b[38;5;241m=\u001b[39m \u001b[38;5;28;01mNone\u001b[39;00m  \u001b[38;5;66;03m# remove potential circular references\u001b[39;00m\n",
      "File \u001b[0;32m~/anaconda3/lib/python3.12/site-packages/sqlalchemy/pool/base.py:897\u001b[0m, in \u001b[0;36m_ConnectionRecord.__connect\u001b[0;34m(self)\u001b[0m\n\u001b[1;32m    895\u001b[0m \u001b[38;5;28;01mtry\u001b[39;00m:\n\u001b[1;32m    896\u001b[0m     \u001b[38;5;28mself\u001b[39m\u001b[38;5;241m.\u001b[39mstarttime \u001b[38;5;241m=\u001b[39m time\u001b[38;5;241m.\u001b[39mtime()\n\u001b[0;32m--> 897\u001b[0m     \u001b[38;5;28mself\u001b[39m\u001b[38;5;241m.\u001b[39mdbapi_connection \u001b[38;5;241m=\u001b[39m connection \u001b[38;5;241m=\u001b[39m pool\u001b[38;5;241m.\u001b[39m_invoke_creator(\u001b[38;5;28mself\u001b[39m)\n\u001b[1;32m    898\u001b[0m     pool\u001b[38;5;241m.\u001b[39mlogger\u001b[38;5;241m.\u001b[39mdebug(\u001b[38;5;124m\"\u001b[39m\u001b[38;5;124mCreated new connection \u001b[39m\u001b[38;5;132;01m%r\u001b[39;00m\u001b[38;5;124m\"\u001b[39m, connection)\n\u001b[1;32m    899\u001b[0m     \u001b[38;5;28mself\u001b[39m\u001b[38;5;241m.\u001b[39mfresh \u001b[38;5;241m=\u001b[39m \u001b[38;5;28;01mTrue\u001b[39;00m\n",
      "File \u001b[0;32m~/anaconda3/lib/python3.12/site-packages/sqlalchemy/engine/create.py:646\u001b[0m, in \u001b[0;36mcreate_engine.<locals>.connect\u001b[0;34m(connection_record)\u001b[0m\n\u001b[1;32m    643\u001b[0m         \u001b[38;5;28;01mif\u001b[39;00m connection \u001b[38;5;129;01mis\u001b[39;00m \u001b[38;5;129;01mnot\u001b[39;00m \u001b[38;5;28;01mNone\u001b[39;00m:\n\u001b[1;32m    644\u001b[0m             \u001b[38;5;28;01mreturn\u001b[39;00m connection\n\u001b[0;32m--> 646\u001b[0m \u001b[38;5;28;01mreturn\u001b[39;00m dialect\u001b[38;5;241m.\u001b[39mconnect(\u001b[38;5;241m*\u001b[39mcargs, \u001b[38;5;241m*\u001b[39m\u001b[38;5;241m*\u001b[39mcparams)\n",
      "File \u001b[0;32m~/anaconda3/lib/python3.12/site-packages/sqlalchemy/engine/default.py:622\u001b[0m, in \u001b[0;36mDefaultDialect.connect\u001b[0;34m(self, *cargs, **cparams)\u001b[0m\n\u001b[1;32m    620\u001b[0m \u001b[38;5;28;01mdef\u001b[39;00m \u001b[38;5;21mconnect\u001b[39m(\u001b[38;5;28mself\u001b[39m, \u001b[38;5;241m*\u001b[39mcargs, \u001b[38;5;241m*\u001b[39m\u001b[38;5;241m*\u001b[39mcparams):\n\u001b[1;32m    621\u001b[0m     \u001b[38;5;66;03m# inherits the docstring from interfaces.Dialect.connect\u001b[39;00m\n\u001b[0;32m--> 622\u001b[0m     \u001b[38;5;28;01mreturn\u001b[39;00m \u001b[38;5;28mself\u001b[39m\u001b[38;5;241m.\u001b[39mloaded_dbapi\u001b[38;5;241m.\u001b[39mconnect(\u001b[38;5;241m*\u001b[39mcargs, \u001b[38;5;241m*\u001b[39m\u001b[38;5;241m*\u001b[39mcparams)\n",
      "File \u001b[0;32m~/anaconda3/lib/python3.12/site-packages/sqlalchemy/dialects/sqlite/aiosqlite.py:377\u001b[0m, in \u001b[0;36mAsyncAdapt_aiosqlite_dbapi.connect\u001b[0;34m(self, *arg, **kw)\u001b[0m\n\u001b[1;32m    370\u001b[0m     \u001b[38;5;28;01mreturn\u001b[39;00m AsyncAdaptFallback_aiosqlite_connection(\n\u001b[1;32m    371\u001b[0m         \u001b[38;5;28mself\u001b[39m,\n\u001b[1;32m    372\u001b[0m         await_fallback(connection),\n\u001b[1;32m    373\u001b[0m     )\n\u001b[1;32m    374\u001b[0m \u001b[38;5;28;01melse\u001b[39;00m:\n\u001b[1;32m    375\u001b[0m     \u001b[38;5;28;01mreturn\u001b[39;00m AsyncAdapt_aiosqlite_connection(\n\u001b[1;32m    376\u001b[0m         \u001b[38;5;28mself\u001b[39m,\n\u001b[0;32m--> 377\u001b[0m         await_only(connection),\n\u001b[1;32m    378\u001b[0m     )\n",
      "File \u001b[0;32m~/anaconda3/lib/python3.12/site-packages/sqlalchemy/util/_concurrency_py3k.py:132\u001b[0m, in \u001b[0;36mawait_only\u001b[0;34m(awaitable)\u001b[0m\n\u001b[1;32m    123\u001b[0m     \u001b[38;5;28;01mraise\u001b[39;00m exc\u001b[38;5;241m.\u001b[39mMissingGreenlet(\n\u001b[1;32m    124\u001b[0m         \u001b[38;5;124m\"\u001b[39m\u001b[38;5;124mgreenlet_spawn has not been called; can\u001b[39m\u001b[38;5;124m'\u001b[39m\u001b[38;5;124mt call await_only() \u001b[39m\u001b[38;5;124m\"\u001b[39m\n\u001b[1;32m    125\u001b[0m         \u001b[38;5;124m\"\u001b[39m\u001b[38;5;124mhere. Was IO attempted in an unexpected place?\u001b[39m\u001b[38;5;124m\"\u001b[39m\n\u001b[1;32m    126\u001b[0m     )\n\u001b[1;32m    128\u001b[0m \u001b[38;5;66;03m# returns the control to the driver greenlet passing it\u001b[39;00m\n\u001b[1;32m    129\u001b[0m \u001b[38;5;66;03m# a coroutine to run. Once the awaitable is done, the driver greenlet\u001b[39;00m\n\u001b[1;32m    130\u001b[0m \u001b[38;5;66;03m# switches back to this greenlet with the result of awaitable that is\u001b[39;00m\n\u001b[1;32m    131\u001b[0m \u001b[38;5;66;03m# then returned to the caller (or raised as error)\u001b[39;00m\n\u001b[0;32m--> 132\u001b[0m \u001b[38;5;28;01mreturn\u001b[39;00m current\u001b[38;5;241m.\u001b[39mparent\u001b[38;5;241m.\u001b[39mswitch(awaitable)\n",
      "File \u001b[0;32m~/anaconda3/lib/python3.12/site-packages/sqlalchemy/util/_concurrency_py3k.py:196\u001b[0m, in \u001b[0;36mgreenlet_spawn\u001b[0;34m(fn, _require_await, *args, **kwargs)\u001b[0m\n\u001b[1;32m    192\u001b[0m switch_occurred \u001b[38;5;241m=\u001b[39m \u001b[38;5;28;01mTrue\u001b[39;00m\n\u001b[1;32m    193\u001b[0m \u001b[38;5;28;01mtry\u001b[39;00m:\n\u001b[1;32m    194\u001b[0m     \u001b[38;5;66;03m# wait for a coroutine from await_only and then return its\u001b[39;00m\n\u001b[1;32m    195\u001b[0m     \u001b[38;5;66;03m# result back to it.\u001b[39;00m\n\u001b[0;32m--> 196\u001b[0m     value \u001b[38;5;241m=\u001b[39m \u001b[38;5;28;01mawait\u001b[39;00m result\n\u001b[1;32m    197\u001b[0m \u001b[38;5;28;01mexcept\u001b[39;00m \u001b[38;5;167;01mBaseException\u001b[39;00m:\n\u001b[1;32m    198\u001b[0m     \u001b[38;5;66;03m# this allows an exception to be raised within\u001b[39;00m\n\u001b[1;32m    199\u001b[0m     \u001b[38;5;66;03m# the moderated greenlet so that it can continue\u001b[39;00m\n\u001b[1;32m    200\u001b[0m     \u001b[38;5;66;03m# its expected flow.\u001b[39;00m\n\u001b[1;32m    201\u001b[0m     result \u001b[38;5;241m=\u001b[39m context\u001b[38;5;241m.\u001b[39mthrow(\u001b[38;5;241m*\u001b[39msys\u001b[38;5;241m.\u001b[39mexc_info())\n",
      "File \u001b[0;32m~/anaconda3/lib/python3.12/site-packages/aiosqlite/core.py:140\u001b[0m, in \u001b[0;36mConnection._connect\u001b[0;34m(self)\u001b[0m\n\u001b[1;32m    138\u001b[0m     future \u001b[38;5;241m=\u001b[39m asyncio\u001b[38;5;241m.\u001b[39mget_event_loop()\u001b[38;5;241m.\u001b[39mcreate_future()\n\u001b[1;32m    139\u001b[0m     \u001b[38;5;28mself\u001b[39m\u001b[38;5;241m.\u001b[39m_tx\u001b[38;5;241m.\u001b[39mput_nowait((future, \u001b[38;5;28mself\u001b[39m\u001b[38;5;241m.\u001b[39m_connector))\n\u001b[0;32m--> 140\u001b[0m     \u001b[38;5;28mself\u001b[39m\u001b[38;5;241m.\u001b[39m_connection \u001b[38;5;241m=\u001b[39m \u001b[38;5;28;01mawait\u001b[39;00m future\n\u001b[1;32m    141\u001b[0m \u001b[38;5;28;01mexcept\u001b[39;00m \u001b[38;5;167;01mException\u001b[39;00m:\n\u001b[1;32m    142\u001b[0m     \u001b[38;5;28mself\u001b[39m\u001b[38;5;241m.\u001b[39m_stop_running()\n",
      "File \u001b[0;32m~/anaconda3/lib/python3.12/site-packages/aiosqlite/core.py:115\u001b[0m, in \u001b[0;36mConnection.run\u001b[0;34m(self)\u001b[0m\n\u001b[1;32m    113\u001b[0m \u001b[38;5;28;01mtry\u001b[39;00m:\n\u001b[1;32m    114\u001b[0m     LOG\u001b[38;5;241m.\u001b[39mdebug(\u001b[38;5;124m\"\u001b[39m\u001b[38;5;124mexecuting \u001b[39m\u001b[38;5;132;01m%s\u001b[39;00m\u001b[38;5;124m\"\u001b[39m, function)\n\u001b[0;32m--> 115\u001b[0m     result \u001b[38;5;241m=\u001b[39m function()\n\u001b[1;32m    116\u001b[0m     LOG\u001b[38;5;241m.\u001b[39mdebug(\u001b[38;5;124m\"\u001b[39m\u001b[38;5;124moperation \u001b[39m\u001b[38;5;132;01m%s\u001b[39;00m\u001b[38;5;124m completed\u001b[39m\u001b[38;5;124m\"\u001b[39m, function)\n\u001b[1;32m    117\u001b[0m     future\u001b[38;5;241m.\u001b[39mget_loop()\u001b[38;5;241m.\u001b[39mcall_soon_threadsafe(set_result, future, result)\n",
      "File \u001b[0;32m~/anaconda3/lib/python3.12/site-packages/aiosqlite/core.py:392\u001b[0m, in \u001b[0;36mconnect.<locals>.connector\u001b[0;34m()\u001b[0m\n\u001b[1;32m    389\u001b[0m \u001b[38;5;28;01melse\u001b[39;00m:\n\u001b[1;32m    390\u001b[0m     loc \u001b[38;5;241m=\u001b[39m \u001b[38;5;28mstr\u001b[39m(database)\n\u001b[0;32m--> 392\u001b[0m \u001b[38;5;28;01mreturn\u001b[39;00m sqlite3\u001b[38;5;241m.\u001b[39mconnect(loc, \u001b[38;5;241m*\u001b[39m\u001b[38;5;241m*\u001b[39mkwargs)\n",
      "\u001b[0;31mOperationalError\u001b[0m: (sqlite3.OperationalError) unable to open database file\n(Background on this error at: https://sqlalche.me/e/20/e3q8)"
     ]
    }
   ],
   "source": [
    "results = await search_cognee(\n",
    "    query=\"What API endpoints are in the Ticketmaster api? Give me specific endpoint urls.\",\n",
    "    node_set=['developer.ticketmaster.com']\n",
    ")"
   ]
  },
  {
   "cell_type": "code",
   "execution_count": 4,
   "id": "a4535a0f3783e01f",
   "metadata": {
    "ExecuteTime": {
     "end_time": "2025-06-29T14:07:37.722548200Z",
     "start_time": "2025-06-29T14:07:37.706911800Z"
    },
    "collapsed": false,
    "jupyter": {
     "outputs_hidden": false
    }
   },
   "outputs": [
    {
     "name": "stdout",
     "output_type": "stream",
     "text": [
      "Here are some of the API endpoints in the Ticketmaster API:\n",
      "\n",
      "1. Event Search: `https://developer.ticketmaster.com/explore` - Power your event discovery experience.\n",
      "2. Partner API: `https://developer.ticketmaster.com/support/partner-api-faq` - Access to the Partner API for specific use cases.\n",
      "3. Ticket Management: `https://developer.ticketmaster.com/explore` - Validate tickets and manage scanning devices.\n",
      "4. Inventory Status: `https://developer.ticketmaster.com/explore` - Get status for primary Ticketmaster inventory with real-time updates.\n",
      "5. Shipping Options: [GET] Shipping endpoint - Fetch valid shipping options for an event.\n"
     ]
    }
   ],
   "source": [
    "print(results[0])"
   ]
  },
  {
   "cell_type": "code",
   "execution_count": 5,
   "id": "9fb00f7e802a0811",
   "metadata": {
    "ExecuteTime": {
     "end_time": "2025-06-29T14:07:45.454409Z",
     "start_time": "2025-06-29T14:07:37.722548200Z"
    },
    "collapsed": false,
    "jupyter": {
     "outputs_hidden": false
    }
   },
   "outputs": [
    {
     "name": "stderr",
     "output_type": "stream",
     "text": [
      "\u001b[92m16:07:39 - LiteLLM:INFO\u001b[0m: cost_calculator.py:655 - selected model name for cost calculation: openai/text-embedding-3-large\n",
      "\u001b[1mselected model name for cost calculation: openai/text-embedding-3-large\u001b[0m\u001b[92m16:07:39 - LiteLLM:INFO\u001b[0m: cost_calculator.py:655 - selected model name for cost calculation: openai/text-embedding-3-large\n",
      "\u001b[1mselected model name for cost calculation: openai/text-embedding-3-large\u001b[0m\u001b[92m16:07:39 - LiteLLM:INFO\u001b[0m: cost_calculator.py:655 - selected model name for cost calculation: openai/text-embedding-3-large\n",
      "\u001b[1mselected model name for cost calculation: openai/text-embedding-3-large\u001b[0m\u001b[92m16:07:39 - LiteLLM:INFO\u001b[0m: cost_calculator.py:655 - selected model name for cost calculation: openai/text-embedding-3-large\n",
      "\u001b[1mselected model name for cost calculation: openai/text-embedding-3-large\u001b[0m\u001b[92m16:07:39 - LiteLLM:INFO\u001b[0m: cost_calculator.py:655 - selected model name for cost calculation: openai/text-embedding-3-large\n",
      "\u001b[1mselected model name for cost calculation: openai/text-embedding-3-large\u001b[0m\u001b[92m16:07:39 - LiteLLM:INFO\u001b[0m: cost_calculator.py:655 - selected model name for cost calculation: openai/text-embedding-3-large\n",
      "\u001b[1mselected model name for cost calculation: openai/text-embedding-3-large\u001b[0m\u001b[92m16:07:39 - LiteLLM:INFO\u001b[0m: cost_calculator.py:655 - selected model name for cost calculation: openai/text-embedding-3-large\n",
      "\u001b[1mselected model name for cost calculation: openai/text-embedding-3-large\u001b[0m\u001b[92m16:07:39 - LiteLLM:INFO\u001b[0m: cost_calculator.py:655 - selected model name for cost calculation: openai/text-embedding-3-large\n",
      "\u001b[1mselected model name for cost calculation: openai/text-embedding-3-large\u001b[0m\u001b[92m16:07:39 - LiteLLM:INFO\u001b[0m: cost_calculator.py:655 - selected model name for cost calculation: openai/text-embedding-3-large\n",
      "\u001b[1mselected model name for cost calculation: openai/text-embedding-3-large\u001b[0m\u001b[92m16:07:39 - LiteLLM:INFO\u001b[0m: cost_calculator.py:655 - selected model name for cost calculation: openai/text-embedding-3-large\n",
      "\u001b[1mselected model name for cost calculation: openai/text-embedding-3-large\u001b[0m\u001b[92m16:07:39 - LiteLLM:INFO\u001b[0m: cost_calculator.py:655 - selected model name for cost calculation: openai/text-embedding-3-large\n",
      "\u001b[1mselected model name for cost calculation: openai/text-embedding-3-large\u001b[0m\u001b[92m16:07:39 - LiteLLM:INFO\u001b[0m: cost_calculator.py:655 - selected model name for cost calculation: openai/text-embedding-3-large\n",
      "\u001b[1mselected model name for cost calculation: openai/text-embedding-3-large\u001b[0m\u001b[92m16:07:39 - LiteLLM:INFO\u001b[0m: cost_calculator.py:655 - selected model name for cost calculation: openai/text-embedding-3-large\n",
      "\u001b[1mselected model name for cost calculation: openai/text-embedding-3-large\u001b[0m\u001b[92m16:07:39 - LiteLLM:INFO\u001b[0m: cost_calculator.py:655 - selected model name for cost calculation: openai/text-embedding-3-large\n",
      "\u001b[1mselected model name for cost calculation: openai/text-embedding-3-large\u001b[0m\u001b[92m16:07:39 - LiteLLM:INFO\u001b[0m: cost_calculator.py:655 - selected model name for cost calculation: openai/text-embedding-3-large\n",
      "\u001b[1mselected model name for cost calculation: openai/text-embedding-3-large\u001b[0m\u001b[92m16:07:39 - LiteLLM:INFO\u001b[0m: cost_calculator.py:655 - selected model name for cost calculation: openai/text-embedding-3-large\n",
      "\u001b[1mselected model name for cost calculation: openai/text-embedding-3-large\u001b[0m\u001b[92m16:07:39 - LiteLLM:INFO\u001b[0m: cost_calculator.py:655 - selected model name for cost calculation: openai/text-embedding-3-large\n",
      "\u001b[1mselected model name for cost calculation: openai/text-embedding-3-large\u001b[0m\u001b[92m16:07:39 - LiteLLM:INFO\u001b[0m: cost_calculator.py:655 - selected model name for cost calculation: openai/text-embedding-3-large\n",
      "\u001b[1mselected model name for cost calculation: openai/text-embedding-3-large\u001b[0m\u001b[92m16:07:39 - LiteLLM:INFO\u001b[0m: cost_calculator.py:655 - selected model name for cost calculation: openai/text-embedding-3-large\n",
      "\u001b[1mselected model name for cost calculation: openai/text-embedding-3-large\u001b[0m\u001b[92m16:07:39 - LiteLLM:INFO\u001b[0m: cost_calculator.py:655 - selected model name for cost calculation: openai/text-embedding-3-large\n",
      "\u001b[1mselected model name for cost calculation: openai/text-embedding-3-large\u001b[0m\u001b[92m16:07:39 - LiteLLM:INFO\u001b[0m: cost_calculator.py:655 - selected model name for cost calculation: openai/text-embedding-3-large\n",
      "\u001b[1mselected model name for cost calculation: openai/text-embedding-3-large\u001b[0m\u001b[92m16:07:41 - LiteLLM:INFO\u001b[0m: cost_calculator.py:655 - selected model name for cost calculation: openai/text-embedding-3-large\n",
      "\u001b[1mselected model name for cost calculation: openai/text-embedding-3-large\u001b[0m\u001b[92m16:07:41 - LiteLLM:INFO\u001b[0m: cost_calculator.py:655 - selected model name for cost calculation: openai/text-embedding-3-large\n",
      "\u001b[1mselected model name for cost calculation: openai/text-embedding-3-large\u001b[0m\u001b[92m16:07:43 - LiteLLM:INFO\u001b[0m: utils.py:2929 - \n",
      "LiteLLM completion() model= gpt-4o-mini; provider = openai\n",
      "\u001b[1m\n",
      "LiteLLM completion() model= gpt-4o-mini; provider = openai\u001b[0m\u001b[92m16:07:45 - LiteLLM:INFO\u001b[0m: cost_calculator.py:655 - selected model name for cost calculation: openai/gpt-4o-mini-2024-07-18\n",
      "\u001b[1mselected model name for cost calculation: openai/gpt-4o-mini-2024-07-18\u001b[0m\u001b[92m16:07:45 - LiteLLM:INFO\u001b[0m: cost_calculator.py:655 - selected model name for cost calculation: openai/gpt-4o-mini-2024-07-18\n",
      "\u001b[1mselected model name for cost calculation: openai/gpt-4o-mini-2024-07-18\u001b[0m"
     ]
    }
   ],
   "source": [
    "results = await search_cognee(\n",
    "    query=\"What auth info do i need in the ticketmaster API?\",\n",
    "    node_set=['developer.ticketmaster.com']\n",
    ")"
   ]
  },
  {
   "cell_type": "code",
   "execution_count": 6,
   "id": "7780d3730129559b",
   "metadata": {
    "ExecuteTime": {
     "end_time": "2025-06-29T14:07:45.485727700Z",
     "start_time": "2025-06-29T14:07:45.470074600Z"
    },
    "collapsed": false,
    "jupyter": {
     "outputs_hidden": false
    }
   },
   "outputs": [
    {
     "name": "stdout",
     "output_type": "stream",
     "text": [
      "To use the Ticketmaster API, you need authorization. Specifically, it requires API authorization to access its services.\n"
     ]
    }
   ],
   "source": [
    "print(results[0])"
   ]
  },
  {
   "cell_type": "code",
   "execution_count": 7,
   "id": "26eae9036e0a3619",
   "metadata": {
    "ExecuteTime": {
     "end_time": "2025-06-29T14:08:28.316460100Z",
     "start_time": "2025-06-29T14:08:19.856433100Z"
    },
    "collapsed": false,
    "jupyter": {
     "outputs_hidden": false
    }
   },
   "outputs": [
    {
     "name": "stderr",
     "output_type": "stream",
     "text": [
      "\u001b[92m16:08:21 - LiteLLM:INFO\u001b[0m: cost_calculator.py:655 - selected model name for cost calculation: openai/text-embedding-3-large\n",
      "\u001b[1mselected model name for cost calculation: openai/text-embedding-3-large\u001b[0m\u001b[92m16:08:21 - LiteLLM:INFO\u001b[0m: cost_calculator.py:655 - selected model name for cost calculation: openai/text-embedding-3-large\n",
      "\u001b[1mselected model name for cost calculation: openai/text-embedding-3-large\u001b[0m\u001b[92m16:08:21 - LiteLLM:INFO\u001b[0m: cost_calculator.py:655 - selected model name for cost calculation: openai/text-embedding-3-large\n",
      "\u001b[1mselected model name for cost calculation: openai/text-embedding-3-large\u001b[0m\u001b[92m16:08:21 - LiteLLM:INFO\u001b[0m: cost_calculator.py:655 - selected model name for cost calculation: openai/text-embedding-3-large\n",
      "\u001b[1mselected model name for cost calculation: openai/text-embedding-3-large\u001b[0m\u001b[92m16:08:21 - LiteLLM:INFO\u001b[0m: cost_calculator.py:655 - selected model name for cost calculation: openai/text-embedding-3-large\n",
      "\u001b[1mselected model name for cost calculation: openai/text-embedding-3-large\u001b[0m\u001b[92m16:08:21 - LiteLLM:INFO\u001b[0m: cost_calculator.py:655 - selected model name for cost calculation: openai/text-embedding-3-large\n",
      "\u001b[1mselected model name for cost calculation: openai/text-embedding-3-large\u001b[0m\u001b[92m16:08:21 - LiteLLM:INFO\u001b[0m: cost_calculator.py:655 - selected model name for cost calculation: openai/text-embedding-3-large\n",
      "\u001b[1mselected model name for cost calculation: openai/text-embedding-3-large\u001b[0m\u001b[92m16:08:21 - LiteLLM:INFO\u001b[0m: cost_calculator.py:655 - selected model name for cost calculation: openai/text-embedding-3-large\n",
      "\u001b[1mselected model name for cost calculation: openai/text-embedding-3-large\u001b[0m\u001b[92m16:08:21 - LiteLLM:INFO\u001b[0m: cost_calculator.py:655 - selected model name for cost calculation: openai/text-embedding-3-large\n",
      "\u001b[1mselected model name for cost calculation: openai/text-embedding-3-large\u001b[0m\u001b[92m16:08:21 - LiteLLM:INFO\u001b[0m: cost_calculator.py:655 - selected model name for cost calculation: openai/text-embedding-3-large\n",
      "\u001b[1mselected model name for cost calculation: openai/text-embedding-3-large\u001b[0m\u001b[92m16:08:21 - LiteLLM:INFO\u001b[0m: cost_calculator.py:655 - selected model name for cost calculation: openai/text-embedding-3-large\n",
      "\u001b[1mselected model name for cost calculation: openai/text-embedding-3-large\u001b[0m\u001b[92m16:08:21 - LiteLLM:INFO\u001b[0m: cost_calculator.py:655 - selected model name for cost calculation: openai/text-embedding-3-large\n",
      "\u001b[1mselected model name for cost calculation: openai/text-embedding-3-large\u001b[0m\u001b[92m16:08:21 - LiteLLM:INFO\u001b[0m: cost_calculator.py:655 - selected model name for cost calculation: openai/text-embedding-3-large\n",
      "\u001b[1mselected model name for cost calculation: openai/text-embedding-3-large\u001b[0m\u001b[92m16:08:21 - LiteLLM:INFO\u001b[0m: cost_calculator.py:655 - selected model name for cost calculation: openai/text-embedding-3-large\n",
      "\u001b[1mselected model name for cost calculation: openai/text-embedding-3-large\u001b[0m\u001b[92m16:08:21 - LiteLLM:INFO\u001b[0m: cost_calculator.py:655 - selected model name for cost calculation: openai/text-embedding-3-large\n",
      "\u001b[1mselected model name for cost calculation: openai/text-embedding-3-large\u001b[0m\u001b[92m16:08:21 - LiteLLM:INFO\u001b[0m: cost_calculator.py:655 - selected model name for cost calculation: openai/text-embedding-3-large\n",
      "\u001b[1mselected model name for cost calculation: openai/text-embedding-3-large\u001b[0m\u001b[92m16:08:21 - LiteLLM:INFO\u001b[0m: cost_calculator.py:655 - selected model name for cost calculation: openai/text-embedding-3-large\n",
      "\u001b[1mselected model name for cost calculation: openai/text-embedding-3-large\u001b[0m\u001b[92m16:08:21 - LiteLLM:INFO\u001b[0m: cost_calculator.py:655 - selected model name for cost calculation: openai/text-embedding-3-large\n",
      "\u001b[1mselected model name for cost calculation: openai/text-embedding-3-large\u001b[0m\u001b[92m16:08:21 - LiteLLM:INFO\u001b[0m: cost_calculator.py:655 - selected model name for cost calculation: openai/text-embedding-3-large\n",
      "\u001b[1mselected model name for cost calculation: openai/text-embedding-3-large\u001b[0m\u001b[92m16:08:22 - LiteLLM:INFO\u001b[0m: cost_calculator.py:655 - selected model name for cost calculation: openai/text-embedding-3-large\n",
      "\u001b[1mselected model name for cost calculation: openai/text-embedding-3-large\u001b[0m\u001b[92m16:08:22 - LiteLLM:INFO\u001b[0m: cost_calculator.py:655 - selected model name for cost calculation: openai/text-embedding-3-large\n",
      "\u001b[1mselected model name for cost calculation: openai/text-embedding-3-large\u001b[0m\u001b[92m16:08:24 - LiteLLM:INFO\u001b[0m: cost_calculator.py:655 - selected model name for cost calculation: openai/text-embedding-3-large\n",
      "\u001b[1mselected model name for cost calculation: openai/text-embedding-3-large\u001b[0m\u001b[92m16:08:24 - LiteLLM:INFO\u001b[0m: cost_calculator.py:655 - selected model name for cost calculation: openai/text-embedding-3-large\n",
      "\u001b[1mselected model name for cost calculation: openai/text-embedding-3-large\u001b[0m\u001b[92m16:08:25 - LiteLLM:INFO\u001b[0m: utils.py:2929 - \n",
      "LiteLLM completion() model= gpt-4o-mini; provider = openai\n",
      "\u001b[1m\n",
      "LiteLLM completion() model= gpt-4o-mini; provider = openai\u001b[0m\u001b[92m16:08:28 - LiteLLM:INFO\u001b[0m: cost_calculator.py:655 - selected model name for cost calculation: openai/gpt-4o-mini-2024-07-18\n",
      "\u001b[1mselected model name for cost calculation: openai/gpt-4o-mini-2024-07-18\u001b[0m\u001b[92m16:08:28 - LiteLLM:INFO\u001b[0m: cost_calculator.py:655 - selected model name for cost calculation: openai/gpt-4o-mini-2024-07-18\n",
      "\u001b[1mselected model name for cost calculation: openai/gpt-4o-mini-2024-07-18\u001b[0m"
     ]
    }
   ],
   "source": [
    "results = await search_cognee(\n",
    "    query=\"What pagination do i need in the ticketmaster API?\",\n",
    "    node_set=['developer.ticketmaster.com']\n",
    ")"
   ]
  },
  {
   "cell_type": "code",
   "execution_count": 8,
   "id": "ee43c774778c6107",
   "metadata": {
    "ExecuteTime": {
     "end_time": "2025-06-29T14:08:30.419447Z",
     "start_time": "2025-06-29T14:08:30.397569800Z"
    },
    "collapsed": false,
    "jupyter": {
     "outputs_hidden": false
    }
   },
   "outputs": [
    {
     "name": "stdout",
     "output_type": "stream",
     "text": [
      "To implement pagination in the Ticketmaster API, you typically need to use parameters such as `limit` to specify the number of results per page and `offset` to determine the starting point of the results. The API documentation should provide details on how to use these parameters effectively.\n"
     ]
    }
   ],
   "source": [
    "print(results[0])"
   ]
  },
  {
   "cell_type": "code",
   "execution_count": 6,
   "id": "8d737a18d7af915b",
   "metadata": {
    "ExecuteTime": {
     "end_time": "2025-06-29T15:39:54.930438200Z",
     "start_time": "2025-06-29T15:39:48.198131100Z"
    },
    "collapsed": false,
    "jupyter": {
     "outputs_hidden": false
    }
   },
   "outputs": [
    {
     "name": "stderr",
     "output_type": "stream",
     "text": [
      "\u001b[92m17:39:49 - LiteLLM:INFO\u001b[0m: cost_calculator.py:655 - selected model name for cost calculation: openai/text-embedding-3-large\n",
      "\u001b[1mselected model name for cost calculation: openai/text-embedding-3-large\u001b[0m\u001b[92m17:39:49 - LiteLLM:INFO\u001b[0m: cost_calculator.py:655 - selected model name for cost calculation: openai/text-embedding-3-large\n",
      "\u001b[1mselected model name for cost calculation: openai/text-embedding-3-large\u001b[0m\u001b[92m17:39:49 - LiteLLM:INFO\u001b[0m: cost_calculator.py:655 - selected model name for cost calculation: openai/text-embedding-3-large\n",
      "\u001b[1mselected model name for cost calculation: openai/text-embedding-3-large\u001b[0m\u001b[92m17:39:49 - LiteLLM:INFO\u001b[0m: cost_calculator.py:655 - selected model name for cost calculation: openai/text-embedding-3-large\n",
      "\u001b[1mselected model name for cost calculation: openai/text-embedding-3-large\u001b[0m\u001b[92m17:39:49 - LiteLLM:INFO\u001b[0m: cost_calculator.py:655 - selected model name for cost calculation: openai/text-embedding-3-large\n",
      "\u001b[1mselected model name for cost calculation: openai/text-embedding-3-large\u001b[0m\u001b[92m17:39:49 - LiteLLM:INFO\u001b[0m: cost_calculator.py:655 - selected model name for cost calculation: openai/text-embedding-3-large\n",
      "\u001b[1mselected model name for cost calculation: openai/text-embedding-3-large\u001b[0m\u001b[92m17:39:49 - LiteLLM:INFO\u001b[0m: cost_calculator.py:655 - selected model name for cost calculation: openai/text-embedding-3-large\n",
      "\u001b[1mselected model name for cost calculation: openai/text-embedding-3-large\u001b[0m\u001b[92m17:39:49 - LiteLLM:INFO\u001b[0m: cost_calculator.py:655 - selected model name for cost calculation: openai/text-embedding-3-large\n",
      "\u001b[1mselected model name for cost calculation: openai/text-embedding-3-large\u001b[0m\u001b[92m17:39:49 - LiteLLM:INFO\u001b[0m: cost_calculator.py:655 - selected model name for cost calculation: openai/text-embedding-3-large\n",
      "\u001b[1mselected model name for cost calculation: openai/text-embedding-3-large\u001b[0m\u001b[92m17:39:49 - LiteLLM:INFO\u001b[0m: cost_calculator.py:655 - selected model name for cost calculation: openai/text-embedding-3-large\n",
      "\u001b[1mselected model name for cost calculation: openai/text-embedding-3-large\u001b[0m\u001b[92m17:39:49 - LiteLLM:INFO\u001b[0m: cost_calculator.py:655 - selected model name for cost calculation: openai/text-embedding-3-large\n",
      "\u001b[1mselected model name for cost calculation: openai/text-embedding-3-large\u001b[0m\u001b[92m17:39:49 - LiteLLM:INFO\u001b[0m: cost_calculator.py:655 - selected model name for cost calculation: openai/text-embedding-3-large\n",
      "\u001b[1mselected model name for cost calculation: openai/text-embedding-3-large\u001b[0m\u001b[92m17:39:49 - LiteLLM:INFO\u001b[0m: cost_calculator.py:655 - selected model name for cost calculation: openai/text-embedding-3-large\n",
      "\u001b[1mselected model name for cost calculation: openai/text-embedding-3-large\u001b[0m\u001b[92m17:39:49 - LiteLLM:INFO\u001b[0m: cost_calculator.py:655 - selected model name for cost calculation: openai/text-embedding-3-large\n",
      "\u001b[1mselected model name for cost calculation: openai/text-embedding-3-large\u001b[0m\u001b[92m17:39:49 - LiteLLM:INFO\u001b[0m: cost_calculator.py:655 - selected model name for cost calculation: openai/text-embedding-3-large\n",
      "\u001b[1mselected model name for cost calculation: openai/text-embedding-3-large\u001b[0m\u001b[92m17:39:49 - LiteLLM:INFO\u001b[0m: cost_calculator.py:655 - selected model name for cost calculation: openai/text-embedding-3-large\n",
      "\u001b[1mselected model name for cost calculation: openai/text-embedding-3-large\u001b[0m\u001b[92m17:39:49 - LiteLLM:INFO\u001b[0m: cost_calculator.py:655 - selected model name for cost calculation: openai/text-embedding-3-large\n",
      "\u001b[1mselected model name for cost calculation: openai/text-embedding-3-large\u001b[0m\u001b[92m17:39:49 - LiteLLM:INFO\u001b[0m: cost_calculator.py:655 - selected model name for cost calculation: openai/text-embedding-3-large\n",
      "\u001b[1mselected model name for cost calculation: openai/text-embedding-3-large\u001b[0m\u001b[92m17:39:49 - LiteLLM:INFO\u001b[0m: cost_calculator.py:655 - selected model name for cost calculation: openai/text-embedding-3-large\n",
      "\u001b[1mselected model name for cost calculation: openai/text-embedding-3-large\u001b[0m\u001b[92m17:39:49 - LiteLLM:INFO\u001b[0m: cost_calculator.py:655 - selected model name for cost calculation: openai/text-embedding-3-large\n",
      "\u001b[1mselected model name for cost calculation: openai/text-embedding-3-large\u001b[0m\u001b[92m17:39:49 - LiteLLM:INFO\u001b[0m: cost_calculator.py:655 - selected model name for cost calculation: openai/text-embedding-3-large\n",
      "\u001b[1mselected model name for cost calculation: openai/text-embedding-3-large\u001b[0m\u001b[92m17:39:51 - LiteLLM:INFO\u001b[0m: cost_calculator.py:655 - selected model name for cost calculation: openai/text-embedding-3-large\n",
      "\u001b[1mselected model name for cost calculation: openai/text-embedding-3-large\u001b[0m\u001b[92m17:39:51 - LiteLLM:INFO\u001b[0m: cost_calculator.py:655 - selected model name for cost calculation: openai/text-embedding-3-large\n",
      "\u001b[1mselected model name for cost calculation: openai/text-embedding-3-large\u001b[0m\u001b[92m17:39:52 - LiteLLM:INFO\u001b[0m: utils.py:2929 - \n",
      "LiteLLM completion() model= gpt-4o-mini; provider = openai\n",
      "\u001b[1m\n",
      "LiteLLM completion() model= gpt-4o-mini; provider = openai\u001b[0m\u001b[92m17:39:54 - LiteLLM:INFO\u001b[0m: cost_calculator.py:655 - selected model name for cost calculation: openai/gpt-4o-mini-2024-07-18\n",
      "\u001b[1mselected model name for cost calculation: openai/gpt-4o-mini-2024-07-18\u001b[0m\u001b[92m17:39:54 - LiteLLM:INFO\u001b[0m: cost_calculator.py:655 - selected model name for cost calculation: openai/gpt-4o-mini-2024-07-18\n",
      "\u001b[1mselected model name for cost calculation: openai/gpt-4o-mini-2024-07-18\u001b[0m"
     ]
    }
   ],
   "source": [
    "results = await search_cognee(\n",
    "    query=\"What pagination do i need in the ticketmaster API?\",\n",
    "    node_set=['developer.ticketmaster.com']\n",
    ")"
   ]
  },
  {
   "cell_type": "markdown",
   "id": "ce04448fd04d751d",
   "metadata": {
    "collapsed": false,
    "jupyter": {
     "outputs_hidden": false
    }
   },
   "source": [
    "# Broad Search"
   ]
  },
  {
   "cell_type": "code",
   "execution_count": 28,
   "id": "eb3f612a6c036393",
   "metadata": {
    "ExecuteTime": {
     "end_time": "2025-06-29T16:07:03.357597200Z",
     "start_time": "2025-06-29T16:06:59.191739900Z"
    },
    "collapsed": false,
    "jupyter": {
     "outputs_hidden": false
    }
   },
   "outputs": [
    {
     "name": "stderr",
     "output_type": "stream",
     "text": [
      "\u001b[92m18:07:00 - LiteLLM:INFO\u001b[0m: cost_calculator.py:655 - selected model name for cost calculation: openai/text-embedding-3-large\n",
      "\u001b[1mselected model name for cost calculation: openai/text-embedding-3-large\u001b[0m\u001b[92m18:07:00 - LiteLLM:INFO\u001b[0m: utils.py:2929 - \n",
      "LiteLLM completion() model= gpt-4o-mini; provider = openai\n",
      "\u001b[1m\n",
      "LiteLLM completion() model= gpt-4o-mini; provider = openai\u001b[0m\u001b[92m18:07:03 - LiteLLM:INFO\u001b[0m: cost_calculator.py:655 - selected model name for cost calculation: openai/gpt-4o-mini-2024-07-18\n",
      "\u001b[1mselected model name for cost calculation: openai/gpt-4o-mini-2024-07-18\u001b[0m\u001b[92m18:07:03 - LiteLLM:INFO\u001b[0m: cost_calculator.py:655 - selected model name for cost calculation: openai/gpt-4o-mini-2024-07-18\n",
      "\u001b[1mselected model name for cost calculation: openai/gpt-4o-mini-2024-07-18\u001b[0m"
     ]
    }
   ],
   "source": [
    "results = await search_cognee('''\n",
    "    What sort of API information is in this knowledge graph?\n",
    "    ''', \n",
    "    node_set=['docs'], query_type=SearchType.RAG_COMPLETION)"
   ]
  },
  {
   "cell_type": "code",
   "execution_count": 29,
   "id": "fe3995eff065dca6",
   "metadata": {
    "ExecuteTime": {
     "end_time": "2025-06-29T16:07:04.721481700Z",
     "start_time": "2025-06-29T16:07:04.688489500Z"
    },
    "collapsed": false,
    "jupyter": {
     "outputs_hidden": false
    }
   },
   "outputs": [
    {
     "name": "stdout",
     "output_type": "stream",
     "text": [
      "The monday.com API information includes the ability to read and update data within a monday.com account using GraphQL. It supports operations on boards, items, column values, users, and workspaces. Use cases for the API involve accessing board data for reports, creating items when records are created in other systems, and importing data. Admins, members, and guests can use the API, with varying levels of access. The API supports multiple monday products, excluding Workforms, and provides a comprehensive GraphQL schema for querying and mutations.\n"
     ]
    }
   ],
   "source": [
    "print(results[0])"
   ]
  },
  {
   "cell_type": "markdown",
   "id": "a08f7e4ac4d6ae0d",
   "metadata": {
    "collapsed": false,
    "jupyter": {
     "outputs_hidden": false
    }
   },
   "source": [
    "Using just the `docs` node set does not work - since it goes over v limited nodes "
   ]
  },
  {
   "cell_type": "markdown",
   "id": "dbb22f5b523bf1fb",
   "metadata": {
    "collapsed": false,
    "jupyter": {
     "outputs_hidden": false
    }
   },
   "source": [
    "# Focused Search"
   ]
  },
  {
   "cell_type": "code",
   "execution_count": 36,
   "id": "79599a974c8d90ab",
   "metadata": {
    "ExecuteTime": {
     "end_time": "2025-06-29T16:10:44.154220100Z",
     "start_time": "2025-06-29T16:10:35.865601Z"
    },
    "collapsed": false,
    "jupyter": {
     "outputs_hidden": false
    }
   },
   "outputs": [
    {
     "name": "stderr",
     "output_type": "stream",
     "text": [
      "\u001b[92m18:10:38 - LiteLLM:INFO\u001b[0m: cost_calculator.py:655 - selected model name for cost calculation: openai/text-embedding-3-large\n",
      "\u001b[1mselected model name for cost calculation: openai/text-embedding-3-large\u001b[0m\u001b[92m18:10:38 - LiteLLM:INFO\u001b[0m: cost_calculator.py:655 - selected model name for cost calculation: openai/text-embedding-3-large\n",
      "\u001b[1mselected model name for cost calculation: openai/text-embedding-3-large\u001b[0m\u001b[92m18:10:38 - LiteLLM:INFO\u001b[0m: cost_calculator.py:655 - selected model name for cost calculation: openai/text-embedding-3-large\n",
      "\u001b[1mselected model name for cost calculation: openai/text-embedding-3-large\u001b[0m\u001b[92m18:10:38 - LiteLLM:INFO\u001b[0m: cost_calculator.py:655 - selected model name for cost calculation: openai/text-embedding-3-large\n",
      "\u001b[1mselected model name for cost calculation: openai/text-embedding-3-large\u001b[0m\u001b[92m18:10:38 - LiteLLM:INFO\u001b[0m: cost_calculator.py:655 - selected model name for cost calculation: openai/text-embedding-3-large\n",
      "\u001b[1mselected model name for cost calculation: openai/text-embedding-3-large\u001b[0m\u001b[92m18:10:38 - LiteLLM:INFO\u001b[0m: cost_calculator.py:655 - selected model name for cost calculation: openai/text-embedding-3-large\n",
      "\u001b[1mselected model name for cost calculation: openai/text-embedding-3-large\u001b[0m\u001b[92m18:10:38 - LiteLLM:INFO\u001b[0m: cost_calculator.py:655 - selected model name for cost calculation: openai/text-embedding-3-large\n",
      "\u001b[1mselected model name for cost calculation: openai/text-embedding-3-large\u001b[0m\u001b[92m18:10:38 - LiteLLM:INFO\u001b[0m: cost_calculator.py:655 - selected model name for cost calculation: openai/text-embedding-3-large\n",
      "\u001b[1mselected model name for cost calculation: openai/text-embedding-3-large\u001b[0m\u001b[92m18:10:38 - LiteLLM:INFO\u001b[0m: cost_calculator.py:655 - selected model name for cost calculation: openai/text-embedding-3-large\n",
      "\u001b[1mselected model name for cost calculation: openai/text-embedding-3-large\u001b[0m\u001b[92m18:10:38 - LiteLLM:INFO\u001b[0m: cost_calculator.py:655 - selected model name for cost calculation: openai/text-embedding-3-large\n",
      "\u001b[1mselected model name for cost calculation: openai/text-embedding-3-large\u001b[0m\u001b[92m18:10:38 - LiteLLM:INFO\u001b[0m: cost_calculator.py:655 - selected model name for cost calculation: openai/text-embedding-3-large\n",
      "\u001b[1mselected model name for cost calculation: openai/text-embedding-3-large\u001b[0m\u001b[92m18:10:38 - LiteLLM:INFO\u001b[0m: cost_calculator.py:655 - selected model name for cost calculation: openai/text-embedding-3-large\n",
      "\u001b[1mselected model name for cost calculation: openai/text-embedding-3-large\u001b[0m\u001b[92m18:10:38 - LiteLLM:INFO\u001b[0m: cost_calculator.py:655 - selected model name for cost calculation: openai/text-embedding-3-large\n",
      "\u001b[1mselected model name for cost calculation: openai/text-embedding-3-large\u001b[0m\u001b[92m18:10:38 - LiteLLM:INFO\u001b[0m: cost_calculator.py:655 - selected model name for cost calculation: openai/text-embedding-3-large\n",
      "\u001b[1mselected model name for cost calculation: openai/text-embedding-3-large\u001b[0m\u001b[92m18:10:38 - LiteLLM:INFO\u001b[0m: cost_calculator.py:655 - selected model name for cost calculation: openai/text-embedding-3-large\n",
      "\u001b[1mselected model name for cost calculation: openai/text-embedding-3-large\u001b[0m\u001b[92m18:10:38 - LiteLLM:INFO\u001b[0m: cost_calculator.py:655 - selected model name for cost calculation: openai/text-embedding-3-large\n",
      "\u001b[1mselected model name for cost calculation: openai/text-embedding-3-large\u001b[0m\u001b[92m18:10:38 - LiteLLM:INFO\u001b[0m: cost_calculator.py:655 - selected model name for cost calculation: openai/text-embedding-3-large\n",
      "\u001b[1mselected model name for cost calculation: openai/text-embedding-3-large\u001b[0m\u001b[92m18:10:38 - LiteLLM:INFO\u001b[0m: cost_calculator.py:655 - selected model name for cost calculation: openai/text-embedding-3-large\n",
      "\u001b[1mselected model name for cost calculation: openai/text-embedding-3-large\u001b[0m\u001b[92m18:10:38 - LiteLLM:INFO\u001b[0m: cost_calculator.py:655 - selected model name for cost calculation: openai/text-embedding-3-large\n",
      "\u001b[1mselected model name for cost calculation: openai/text-embedding-3-large\u001b[0m\u001b[92m18:10:38 - LiteLLM:INFO\u001b[0m: cost_calculator.py:655 - selected model name for cost calculation: openai/text-embedding-3-large\n",
      "\u001b[1mselected model name for cost calculation: openai/text-embedding-3-large\u001b[0m\u001b[92m18:10:38 - LiteLLM:INFO\u001b[0m: cost_calculator.py:655 - selected model name for cost calculation: openai/text-embedding-3-large\n",
      "\u001b[1mselected model name for cost calculation: openai/text-embedding-3-large\u001b[0m\u001b[92m18:10:40 - LiteLLM:INFO\u001b[0m: cost_calculator.py:655 - selected model name for cost calculation: openai/text-embedding-3-large\n",
      "\u001b[1mselected model name for cost calculation: openai/text-embedding-3-large\u001b[0m\u001b[92m18:10:40 - LiteLLM:INFO\u001b[0m: cost_calculator.py:655 - selected model name for cost calculation: openai/text-embedding-3-large\n",
      "\u001b[1mselected model name for cost calculation: openai/text-embedding-3-large\u001b[0m\u001b[92m18:10:41 - LiteLLM:INFO\u001b[0m: utils.py:2929 - \n",
      "LiteLLM completion() model= gpt-4o-mini; provider = openai\n",
      "\u001b[1m\n",
      "LiteLLM completion() model= gpt-4o-mini; provider = openai\u001b[0m\u001b[92m18:10:43 - LiteLLM:INFO\u001b[0m: cost_calculator.py:655 - selected model name for cost calculation: openai/gpt-4o-mini-2024-07-18\n",
      "\u001b[1mselected model name for cost calculation: openai/gpt-4o-mini-2024-07-18\u001b[0m\u001b[92m18:10:44 - LiteLLM:INFO\u001b[0m: cost_calculator.py:655 - selected model name for cost calculation: openai/gpt-4o-mini-2024-07-18\n",
      "\u001b[1mselected model name for cost calculation: openai/gpt-4o-mini-2024-07-18\u001b[0m"
     ]
    }
   ],
   "source": [
    "results = await search_cognee('''\n",
    "    What sort of API information is in this knowledge graph?\n",
    "    ''', \n",
    "    node_set=['developer.ticketmaster.com'])"
   ]
  },
  {
   "cell_type": "code",
   "execution_count": 37,
   "id": "e4c7c76523e2bb10",
   "metadata": {
    "ExecuteTime": {
     "end_time": "2025-06-29T16:10:44.169840500Z",
     "start_time": "2025-06-29T16:10:44.154220100Z"
    },
    "collapsed": false,
    "jupyter": {
     "outputs_hidden": false
    }
   },
   "outputs": [
    {
     "name": "stdout",
     "output_type": "stream",
     "text": [
      "The knowledge graph contains information about various types of APIs, including 'publish api', 'presence api', 'top picks api', 'partner api', 'international discovery api', and 'discovery api'. These APIs are categorized under a general 'api' node, with relationships indicating that each specific API is a type of the general API.\n"
     ]
    }
   ],
   "source": [
    "print(results[0])"
   ]
  }
 ],
 "metadata": {
  "kernelspec": {
   "display_name": "Python 3 (ipykernel)",
   "language": "python",
   "name": "python3"
  },
  "language_info": {
   "codemirror_mode": {
    "name": "ipython",
    "version": 3
   },
   "file_extension": ".py",
   "mimetype": "text/x-python",
   "name": "python",
   "nbconvert_exporter": "python",
   "pygments_lexer": "ipython3",
   "version": "3.12.11"
  }
 },
 "nbformat": 4,
 "nbformat_minor": 5
}
